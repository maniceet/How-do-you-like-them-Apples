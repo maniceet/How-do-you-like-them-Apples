{
  "nbformat": 4,
  "nbformat_minor": 0,
  "metadata": {
    "colab": {
      "name": "How do you like them apples (Model Training).ipynb",
      "version": "0.3.2",
      "provenance": [],
      "include_colab_link": true
    },
    "kernelspec": {
      "name": "python3",
      "display_name": "Python 3"
    },
    "accelerator": "GPU"
  },
  "cells": [
    {
      "cell_type": "markdown",
      "metadata": {
        "id": "view-in-github",
        "colab_type": "text"
      },
      "source": [
        "<a href=\"https://colab.research.google.com/github/maniceet/How-do-you-like-them-Apples/blob/master/How_do_you_like_them_apples_(Model_Training).ipynb\" target=\"_parent\"><img src=\"https://colab.research.google.com/assets/colab-badge.svg\" alt=\"Open In Colab\"/></a>"
      ]
    },
    {
      "cell_type": "code",
      "metadata": {
        "id": "dFlZS2dQLgof",
        "colab_type": "code",
        "colab": {}
      },
      "source": [
        "#Importing Packages\n",
        "import pandas as pd\n",
        "import numpy as np\n",
        "import os\n",
        "from matplotlib import pyplot as plt\n",
        "import re, string, unicodedata\n",
        "from bs4 import BeautifulSoup\n",
        "from sklearn.pipeline import Pipeline\n",
        "from functools import reduce\n",
        "from fastai.text import *\n",
        "%matplotlib inline\n",
        "\n",
        "pd.set_option('display.max_rows', 500)\n",
        "pd.set_option('display.max_columns', 500)\n",
        "pd.set_option('display.width', 1000)"
      ],
      "execution_count": 0,
      "outputs": []
    },
    {
      "cell_type": "code",
      "metadata": {
        "id": "XE8EtTypLurb",
        "colab_type": "code",
        "colab": {}
      },
      "source": [
        "#Defining class to read txt file by paragraphs rather than by line\n",
        "class ByParagraph:\n",
        "\n",
        "\n",
        "    def __init__(self, text):\n",
        "        self.text = text\n",
        "\n",
        "\n",
        "    def __iter__(self):\n",
        "        return self\n",
        "        par = \"\"\n",
        "\n",
        "\n",
        "    def __next__(self):\n",
        "        par = []\n",
        "        for line in self.text:\n",
        "            if line.isspace():\n",
        "                break\n",
        "            par.append(line.strip())\n",
        "        else:\n",
        "            if not par:\n",
        "                raise StopIteration()\n",
        "        return ' '.join(par)\n"
      ],
      "execution_count": 0,
      "outputs": []
    },
    {
      "cell_type": "code",
      "metadata": {
        "id": "Q0Hbi_7kL01z",
        "colab_type": "code",
        "colab": {}
      },
      "source": [
        "# Adding all paragraphs to a list for apple computers txt\n",
        "apple_computers = []\n",
        "with open('apple-computers.txt',\"r\", encoding=\"utf8\") as f:\n",
        "  for par in ByParagraph(f):\n",
        "        if par == \"\":\n",
        "            continue\n",
        "        else:\n",
        "            apple_computers.append(par)"
      ],
      "execution_count": 0,
      "outputs": []
    },
    {
      "cell_type": "code",
      "metadata": {
        "id": "I7iJk-g7L4eK",
        "colab_type": "code",
        "colab": {}
      },
      "source": [
        "# Adding all paragraphs to a list for apple fruit txt\n",
        "apple_fruits = []\n",
        "with open('apple-fruit.txt',\"r\", encoding=\"utf8\") as f:\n",
        "  for par in ByParagraph(f):\n",
        "        if par == \"\":\n",
        "            continue\n",
        "        else:\n",
        "            apple_fruits.append(par)"
      ],
      "execution_count": 0,
      "outputs": []
    },
    {
      "cell_type": "code",
      "metadata": {
        "id": "uiqM0uhYL81I",
        "colab_type": "code",
        "colab": {
          "base_uri": "https://localhost:8080/",
          "height": 34
        },
        "outputId": "8ffff848-7721-4aed-d6a6-d2eac67eb81f"
      },
      "source": [
        "#Creating Training Data Frame\n",
        "label = ['computer-company']*len(apple_computers) + ['fruit']*len(apple_fruits)\n",
        "text = apple_computers + apple_fruits\n",
        "\n",
        "df = pd.DataFrame(list(zip(text, label)), columns=['text', 'label'])\n",
        "print(df.shape)"
      ],
      "execution_count": 5,
      "outputs": [
        {
          "output_type": "stream",
          "text": [
            "(83, 2)\n"
          ],
          "name": "stdout"
        }
      ]
    },
    {
      "cell_type": "code",
      "metadata": {
        "id": "I-UcSYcSL9Jz",
        "colab_type": "code",
        "outputId": "82599fc5-6e2e-4b19-de77-da3c2e01cf3a",
        "colab": {
          "base_uri": "https://localhost:8080/",
          "height": 195
        }
      },
      "source": [
        "df.head()"
      ],
      "execution_count": 6,
      "outputs": [
        {
          "output_type": "execute_result",
          "data": {
            "text/html": [
              "<div>\n",
              "<style scoped>\n",
              "    .dataframe tbody tr th:only-of-type {\n",
              "        vertical-align: middle;\n",
              "    }\n",
              "\n",
              "    .dataframe tbody tr th {\n",
              "        vertical-align: top;\n",
              "    }\n",
              "\n",
              "    .dataframe thead th {\n",
              "        text-align: right;\n",
              "    }\n",
              "</style>\n",
              "<table border=\"1\" class=\"dataframe\">\n",
              "  <thead>\n",
              "    <tr style=\"text-align: right;\">\n",
              "      <th></th>\n",
              "      <th>text</th>\n",
              "      <th>label</th>\n",
              "    </tr>\n",
              "  </thead>\n",
              "  <tbody>\n",
              "    <tr>\n",
              "      <th>0</th>\n",
              "      <td>Apple Inc. From Wikipedia, the free encycloped...</td>\n",
              "      <td>computer-company</td>\n",
              "    </tr>\n",
              "    <tr>\n",
              "      <th>1</th>\n",
              "      <td>The Apple I, Apple's first product, was sold a...</td>\n",
              "      <td>computer-company</td>\n",
              "    </tr>\n",
              "    <tr>\n",
              "      <th>2</th>\n",
              "      <td>Apple's \"1984\" television ad, set in a dystopi...</td>\n",
              "      <td>computer-company</td>\n",
              "    </tr>\n",
              "    <tr>\n",
              "      <th>3</th>\n",
              "      <td>The first Macintosh, released in 1984 In 1984,...</td>\n",
              "      <td>computer-company</td>\n",
              "    </tr>\n",
              "    <tr>\n",
              "      <th>4</th>\n",
              "      <td>The Macintosh Portable was Apple's first \"port...</td>\n",
              "      <td>computer-company</td>\n",
              "    </tr>\n",
              "  </tbody>\n",
              "</table>\n",
              "</div>"
            ],
            "text/plain": [
              "                                                text             label\n",
              "0  Apple Inc. From Wikipedia, the free encycloped...  computer-company\n",
              "1  The Apple I, Apple's first product, was sold a...  computer-company\n",
              "2  Apple's \"1984\" television ad, set in a dystopi...  computer-company\n",
              "3  The first Macintosh, released in 1984 In 1984,...  computer-company\n",
              "4  The Macintosh Portable was Apple's first \"port...  computer-company"
            ]
          },
          "metadata": {
            "tags": []
          },
          "execution_count": 6
        }
      ]
    },
    {
      "cell_type": "code",
      "metadata": {
        "id": "Mxy-4u88MABl",
        "colab_type": "code",
        "outputId": "80b0d50e-f5e5-4b0c-a560-04a7a9d17129",
        "colab": {
          "base_uri": "https://localhost:8080/",
          "height": 302
        }
      },
      "source": [
        "# Summarize Paragraph length\n",
        "print(\"Paragraph Length: \")\n",
        "result = [len(text) for text in df.text]\n",
        "print(\"Mean %.2f words (median - %f)\" % (np.mean(result), np.median(result)))\n",
        "# plot review length\n",
        "plt.boxplot(result)\n",
        "plt.show()"
      ],
      "execution_count": 7,
      "outputs": [
        {
          "output_type": "stream",
          "text": [
            "Paragraph Length: \n",
            "Mean 2485.65 words (median - 2033.000000)\n"
          ],
          "name": "stdout"
        },
        {
          "output_type": "display_data",
          "data": {
            "image/png": "[encoded data removed]",
            "text/plain": [
              "<Figure size 432x288 with 1 Axes>"
            ]
          },
          "metadata": {
            "tags": []
          }
        }
      ]
    },
    {
      "cell_type": "code",
      "metadata": {
        "id": "PhHpuV3CMAvL",
        "colab_type": "code",
        "colab": {}
      },
      "source": [
        "#Cleaning Training Data\n",
        "\n",
        "#Remove HTML Tags\n",
        "def strip_html_tags(text):\n",
        "    soup = BeautifulSoup(text, \"html.parser\")\n",
        "    stripped_text = soup.get_text()\n",
        "    return stripped_text\n",
        "r_html = lambda x: strip_html_tags(x)\n",
        "\n",
        "#Remove accented characters\n",
        "\n",
        "def remove_accented_chars(text):\n",
        "    text = unicodedata.normalize('NFKD', text).encode('ascii', 'ignore').decode('utf-8', 'ignore')\n",
        "    return text\n",
        "\n",
        "r_accented = lambda x: remove_accented_chars(x)\n",
        "\n",
        "#Expand Contractions\n",
        "\n",
        "from contraction import expand_contractions\n",
        "expand = lambda x: expand_contractions(x)\n",
        "\n",
        "\n",
        "#Remove special characters\n",
        "\n",
        "def remove_special_characters(text, remove_digits=False):\n",
        "    #text = text.lower()\n",
        "    text = re.sub('\\w*\\d\\w*', '', text) #Removing words that have numbers in them\n",
        "    pattern = r'[^a-zA-z0-9.\\s]' if not remove_digits else r'[^a-zA-z\\s]'\n",
        "    text = re.sub(pattern, '', text)\n",
        "    pattern = r'[''\"\"_]' #Removing punctuations and underscores\n",
        "    text = re.sub(pattern, '', text)\n",
        "    text = re.sub(r'(.)\\1+', r'\\1\\1', text)   #Removing characters that appear more than twice\n",
        "    text = re.sub(r'\\[', \"\",text)\n",
        "    text = re.sub(r'\\]', \"\",text)\n",
        "    text = text.replace('\\t', ' ')\n",
        "    return text"
      ],
      "execution_count": 0,
      "outputs": []
    },
    {
      "cell_type": "code",
      "metadata": {
        "id": "cP8dLbrSME_u",
        "colab_type": "code",
        "colab": {}
      },
      "source": [
        "functions = [strip_html_tags, remove_accented_chars, expand_contractions, remove_special_characters]\n",
        "\n",
        "for fun in functions:\n",
        "    df['text'] = df['text'].apply(fun)"
      ],
      "execution_count": 0,
      "outputs": []
    },
    {
      "cell_type": "code",
      "metadata": {
        "id": "jpvDMZrXO4dn",
        "colab_type": "code",
        "colab": {}
      },
      "source": [
        "from sklearn.model_selection import train_test_split\n",
        "\n",
        "train_df, valid_df = train_test_split(df, test_size = 0.25, stratify = df['label'])"
      ],
      "execution_count": 0,
      "outputs": []
    },
    {
      "cell_type": "code",
      "metadata": {
        "id": "JoCWqbiaPhiC",
        "colab_type": "code",
        "outputId": "ca390267-8900-464c-e413-38ee9bda9e12",
        "colab": {
          "base_uri": "https://localhost:8080/",
          "height": 195
        }
      },
      "source": [
        "train_df.head()"
      ],
      "execution_count": 11,
      "outputs": [
        {
          "output_type": "execute_result",
          "data": {
            "text/html": [
              "<div>\n",
              "<style scoped>\n",
              "    .dataframe tbody tr th:only-of-type {\n",
              "        vertical-align: middle;\n",
              "    }\n",
              "\n",
              "    .dataframe tbody tr th {\n",
              "        vertical-align: top;\n",
              "    }\n",
              "\n",
              "    .dataframe thead th {\n",
              "        text-align: right;\n",
              "    }\n",
              "</style>\n",
              "<table border=\"1\" class=\"dataframe\">\n",
              "  <thead>\n",
              "    <tr style=\"text-align: right;\">\n",
              "      <th></th>\n",
              "      <th>text</th>\n",
              "      <th>label</th>\n",
              "    </tr>\n",
              "  </thead>\n",
              "  <tbody>\n",
              "    <tr>\n",
              "      <th>31</th>\n",
              "      <td>MacBook Air Main article Macintosh See also Ti...</td>\n",
              "      <td>computer-company</td>\n",
              "    </tr>\n",
              "    <tr>\n",
              "      <th>48</th>\n",
              "      <td>Brita as Iduna  by Carl Larsson Germanic pagan...</td>\n",
              "      <td>fruit</td>\n",
              "    </tr>\n",
              "    <tr>\n",
              "      <th>19</th>\n",
              "      <td>Global Taxes Paid by ASI  Apple created subsid...</td>\n",
              "      <td>computer-company</td>\n",
              "    </tr>\n",
              "    <tr>\n",
              "      <th>67</th>\n",
              "      <td>Main article Apple symbolism</td>\n",
              "      <td>fruit</td>\n",
              "    </tr>\n",
              "    <tr>\n",
              "      <th>62</th>\n",
              "      <td>Apples with skin edible parts Nutritional valu...</td>\n",
              "      <td>fruit</td>\n",
              "    </tr>\n",
              "  </tbody>\n",
              "</table>\n",
              "</div>"
            ],
            "text/plain": [
              "                                                 text             label\n",
              "31  MacBook Air Main article Macintosh See also Ti...  computer-company\n",
              "48  Brita as Iduna  by Carl Larsson Germanic pagan...             fruit\n",
              "19  Global Taxes Paid by ASI  Apple created subsid...  computer-company\n",
              "67                       Main article Apple symbolism             fruit\n",
              "62  Apples with skin edible parts Nutritional valu...             fruit"
            ]
          },
          "metadata": {
            "tags": []
          },
          "execution_count": 11
        }
      ]
    },
    {
      "cell_type": "code",
      "metadata": {
        "id": "CtMxKqupPhUx",
        "colab_type": "code",
        "outputId": "ff7518c1-1304-480f-ad50-b5a324d50869",
        "colab": {
          "base_uri": "https://localhost:8080/",
          "height": 195
        }
      },
      "source": [
        "valid_df.head()"
      ],
      "execution_count": 12,
      "outputs": [
        {
          "output_type": "execute_result",
          "data": {
            "text/html": [
              "<div>\n",
              "<style scoped>\n",
              "    .dataframe tbody tr th:only-of-type {\n",
              "        vertical-align: middle;\n",
              "    }\n",
              "\n",
              "    .dataframe tbody tr th {\n",
              "        vertical-align: top;\n",
              "    }\n",
              "\n",
              "    .dataframe thead th {\n",
              "        text-align: right;\n",
              "    }\n",
              "</style>\n",
              "<table border=\"1\" class=\"dataframe\">\n",
              "  <thead>\n",
              "    <tr style=\"text-align: right;\">\n",
              "      <th></th>\n",
              "      <th>text</th>\n",
              "      <th>label</th>\n",
              "    </tr>\n",
              "  </thead>\n",
              "  <tbody>\n",
              "    <tr>\n",
              "      <th>1</th>\n",
              "      <td>The Apple I Apples first product was sold as a...</td>\n",
              "      <td>computer-company</td>\n",
              "    </tr>\n",
              "    <tr>\n",
              "      <th>73</th>\n",
              "      <td>Apple pot In the wild apples grow readily from...</td>\n",
              "      <td>fruit</td>\n",
              "    </tr>\n",
              "    <tr>\n",
              "      <th>25</th>\n",
              "      <td>The Macintosh Portable was Apples first portab...</td>\n",
              "      <td>computer-company</td>\n",
              "    </tr>\n",
              "    <tr>\n",
              "      <th>78</th>\n",
              "      <td>See also Cooking apple and Cider apple</td>\n",
              "      <td>fruit</td>\n",
              "    </tr>\n",
              "    <tr>\n",
              "      <th>58</th>\n",
              "      <td>See also Cooking apple and Cider apple</td>\n",
              "      <td>fruit</td>\n",
              "    </tr>\n",
              "  </tbody>\n",
              "</table>\n",
              "</div>"
            ],
            "text/plain": [
              "                                                 text             label\n",
              "1   The Apple I Apples first product was sold as a...  computer-company\n",
              "73  Apple pot In the wild apples grow readily from...             fruit\n",
              "25  The Macintosh Portable was Apples first portab...  computer-company\n",
              "78             See also Cooking apple and Cider apple             fruit\n",
              "58             See also Cooking apple and Cider apple             fruit"
            ]
          },
          "metadata": {
            "tags": []
          },
          "execution_count": 12
        }
      ]
    },
    {
      "cell_type": "markdown",
      "metadata": {
        "id": "csHsRI4DgxrS",
        "colab_type": "text"
      },
      "source": [
        "Training Language Model"
      ]
    },
    {
      "cell_type": "code",
      "metadata": {
        "id": "ayVY3FZXP-M3",
        "colab_type": "code",
        "colab": {}
      },
      "source": [
        "path = os.getcwd()"
      ],
      "execution_count": 0,
      "outputs": []
    },
    {
      "cell_type": "code",
      "metadata": {
        "id": "tDsJXD5YMIYD",
        "colab_type": "code",
        "colab": {}
      },
      "source": [
        "bs = 16\n",
        "# Language model data\n",
        "data_lm = TextLMDataBunch.from_df(path = os.getcwd(),train_df = train_df, valid_df = valid_df, text_cols= 'text', label_cols= 'label')\n",
        "\n",
        "data_lm.save('data_lm.pkl')"
      ],
      "execution_count": 0,
      "outputs": []
    },
    {
      "cell_type": "code",
      "metadata": {
        "id": "EpH77GICQNsh",
        "colab_type": "code",
        "colab": {}
      },
      "source": [
        "data_lm = load_data(path, 'data_lm.pkl', bs=bs)"
      ],
      "execution_count": 0,
      "outputs": []
    },
    {
      "cell_type": "code",
      "metadata": {
        "id": "InBD1HDxRX_z",
        "colab_type": "code",
        "outputId": "0e52045a-fcd9-40fe-f36a-598b2256df8c",
        "colab": {
          "base_uri": "https://localhost:8080/",
          "height": 363
        }
      },
      "source": [
        "data_lm.show_batch()"
      ],
      "execution_count": 16,
      "outputs": [
        {
          "output_type": "display_data",
          "data": {
            "text/html": [
              "<table border=\"1\" class=\"dataframe\">\n",
              "  <thead>\n",
              "    <tr style=\"text-align: right;\">\n",
              "      <th>idx</th>\n",
              "      <th>text</th>\n",
              "    </tr>\n",
              "  </thead>\n",
              "  <tbody>\n",
              "    <tr>\n",
              "      <td>0</td>\n",
              "      <td>in . imac xxmaj consumer allin one desktop computer introduced in . xxmaj mac xxmaj pro xxmaj workstation desktop computer introduced in . xxmaj apple sells a variety of computer accessories for xxmaj macs including xxmaj thunderbolt xxmaj display xxmaj magic xxmaj mouse xxmaj magic xxmaj trackpad xxmaj wireless xxmaj keyboard xxmaj battery xxmaj charger the airport wireless networking products and xxmaj time xxmaj capsule . ipad xxmaj main article</td>\n",
              "    </tr>\n",
              "    <tr>\n",
              "      <td>1</td>\n",
              "      <td>first . xxmaj lisa won the race in and became the first personal computer sold to the public with a xxup gui but was a commercial failure due to its high price tag and limited software titles . xxbos xxmaj organic xxmaj jonathan apples sitting in a sink strainer after being washed . xxmaj organic apples are commonly produced in the xxmaj united xxmaj states . xxmaj organic production is</td>\n",
              "    </tr>\n",
              "    <tr>\n",
              "      <td>2</td>\n",
              "      <td>braeburn xxmaj capital and filemaker xxmaj inc. xxmaj during the xxmaj macs early history xxmaj apple generally refused to adopt prevailing industry standards for hardware instead creating their own . xxmaj this trend was largely reversed in the late beginning with xxmaj apples adoption of the xxup pci bus in the xxmaj power xxmaj macs . xxmaj apple has since adopted xxup usb xxup agp hypertransport wifi and other industry</td>\n",
              "    </tr>\n",
              "    <tr>\n",
              "      <td>3</td>\n",
              "      <td>in the xxup xxunk is no longer a xxunk option for most xxmaj apple products . xxmaj xxunk other major xxup us companies xxmaj apple has a relatively simple xxunk policy for executives which does not include xxunk that other ceos xxunk such as country club xxunk and xxunk use of company xxunk . xxmaj the company usually xxunk stock xxunk to executives every other year . a media article</td>\n",
              "    </tr>\n",
              "    <tr>\n",
              "      <td>4</td>\n",
              "      <td>macintosh would need to be replaced by a new platform or xxunk to run on more powerful hardware . xxmaj in xxmaj apple xxunk with xxup ibm and xxmaj motorola in the xxup aim alliance . xxmaj the goal was to create a new computing platform the powerpc xxmaj reference xxmaj platform which would use xxup ibm and xxmaj motorola hardware xxunk with xxmaj apples software . xxmaj the xxup</td>\n",
              "    </tr>\n",
              "  </tbody>\n",
              "</table>"
            ],
            "text/plain": [
              "<IPython.core.display.HTML object>"
            ]
          },
          "metadata": {
            "tags": []
          }
        }
      ]
    },
    {
      "cell_type": "code",
      "metadata": {
        "id": "NblitGsqRaGd",
        "colab_type": "code",
        "colab": {}
      },
      "source": [
        "learn = language_model_learner(data_lm, AWD_LSTM, drop_mult=0.5)"
      ],
      "execution_count": 0,
      "outputs": []
    },
    {
      "cell_type": "code",
      "metadata": {
        "id": "BLTgY77qRj0O",
        "colab_type": "code",
        "outputId": "02e142b6-0417-44ca-c89f-e2894680cb0d",
        "colab": {
          "base_uri": "https://localhost:8080/",
          "height": 34
        }
      },
      "source": [
        "learn.lr_find()"
      ],
      "execution_count": 41,
      "outputs": [
        {
          "output_type": "display_data",
          "data": {
            "text/html": [
              ""
            ],
            "text/plain": [
              "<IPython.core.display.HTML object>"
            ]
          },
          "metadata": {
            "tags": []
          }
        },
        {
          "output_type": "stream",
          "text": [
            "LR Finder is complete, type {learner_name}.recorder.plot() to see the graph.\n"
          ],
          "name": "stdout"
        }
      ]
    },
    {
      "cell_type": "code",
      "metadata": {
        "id": "fuX1_o5xRvGR",
        "colab_type": "code",
        "outputId": "dc541454-e46d-42b8-c79d-d44cfa9503c2",
        "colab": {
          "base_uri": "https://localhost:8080/",
          "height": 283
        }
      },
      "source": [
        "learn.recorder.plot(skip_end=15)"
      ],
      "execution_count": 42,
      "outputs": [
        {
          "output_type": "display_data",
          "data": {
            "image/png": "[encoded data removed]",
            "text/plain": [
              "<Figure size 432x288 with 1 Axes>"
            ]
          },
          "metadata": {
            "tags": []
          }
        }
      ]
    },
    {
      "cell_type": "code",
      "metadata": {
        "id": "q1qVOrSLR2fM",
        "colab_type": "code",
        "outputId": "98265f7e-c493-4322-d614-4f74895d60d6",
        "colab": {
          "base_uri": "https://localhost:8080/",
          "height": 77
        }
      },
      "source": [
        "learn.fit_one_cycle(1, 1e-2, moms=(0.8,0.7))"
      ],
      "execution_count": 43,
      "outputs": [
        {
          "output_type": "display_data",
          "data": {
            "text/html": [
              "<table border=\"1\" class=\"dataframe\">\n",
              "  <thead>\n",
              "    <tr style=\"text-align: left;\">\n",
              "      <th>epoch</th>\n",
              "      <th>train_loss</th>\n",
              "      <th>valid_loss</th>\n",
              "      <th>accuracy</th>\n",
              "      <th>time</th>\n",
              "    </tr>\n",
              "  </thead>\n",
              "  <tbody>\n",
              "    <tr>\n",
              "      <td>0</td>\n",
              "      <td>3.948859</td>\n",
              "      <td>3.401356</td>\n",
              "      <td>0.326607</td>\n",
              "      <td>00:01</td>\n",
              "    </tr>\n",
              "  </tbody>\n",
              "</table>"
            ],
            "text/plain": [
              "<IPython.core.display.HTML object>"
            ]
          },
          "metadata": {
            "tags": []
          }
        }
      ]
    },
    {
      "cell_type": "code",
      "metadata": {
        "id": "ymiBM1yxR-o6",
        "colab_type": "code",
        "colab": {}
      },
      "source": [
        "learn.save('fit_head')"
      ],
      "execution_count": 0,
      "outputs": []
    },
    {
      "cell_type": "code",
      "metadata": {
        "id": "SmtGb5WpR_mQ",
        "colab_type": "code",
        "colab": {}
      },
      "source": [
        "learn.load('fit_head');"
      ],
      "execution_count": 0,
      "outputs": []
    },
    {
      "cell_type": "code",
      "metadata": {
        "id": "noIpuN_LSGlL",
        "colab_type": "code",
        "colab": {}
      },
      "source": [
        "learn.unfreeze()"
      ],
      "execution_count": 0,
      "outputs": []
    },
    {
      "cell_type": "code",
      "metadata": {
        "id": "sBw2uyRfSN3x",
        "colab_type": "code",
        "outputId": "2d637b53-6ace-4a6d-e06c-b416e52dd32a",
        "colab": {
          "base_uri": "https://localhost:8080/",
          "height": 195
        }
      },
      "source": [
        "learn.fit_one_cycle(5, 1e-2, moms=(0.8,0.7))"
      ],
      "execution_count": 47,
      "outputs": [
        {
          "output_type": "display_data",
          "data": {
            "text/html": [
              "<table border=\"1\" class=\"dataframe\">\n",
              "  <thead>\n",
              "    <tr style=\"text-align: left;\">\n",
              "      <th>epoch</th>\n",
              "      <th>train_loss</th>\n",
              "      <th>valid_loss</th>\n",
              "      <th>accuracy</th>\n",
              "      <th>time</th>\n",
              "    </tr>\n",
              "  </thead>\n",
              "  <tbody>\n",
              "    <tr>\n",
              "      <td>0</td>\n",
              "      <td>3.217925</td>\n",
              "      <td>3.148783</td>\n",
              "      <td>0.364375</td>\n",
              "      <td>00:02</td>\n",
              "    </tr>\n",
              "    <tr>\n",
              "      <td>1</td>\n",
              "      <td>2.861207</td>\n",
              "      <td>2.402925</td>\n",
              "      <td>0.488929</td>\n",
              "      <td>00:02</td>\n",
              "    </tr>\n",
              "    <tr>\n",
              "      <td>2</td>\n",
              "      <td>2.139214</td>\n",
              "      <td>1.455081</td>\n",
              "      <td>0.685000</td>\n",
              "      <td>00:02</td>\n",
              "    </tr>\n",
              "    <tr>\n",
              "      <td>3</td>\n",
              "      <td>1.456442</td>\n",
              "      <td>0.824021</td>\n",
              "      <td>0.838304</td>\n",
              "      <td>00:02</td>\n",
              "    </tr>\n",
              "    <tr>\n",
              "      <td>4</td>\n",
              "      <td>0.962808</td>\n",
              "      <td>0.733700</td>\n",
              "      <td>0.863482</td>\n",
              "      <td>00:02</td>\n",
              "    </tr>\n",
              "  </tbody>\n",
              "</table>"
            ],
            "text/plain": [
              "<IPython.core.display.HTML object>"
            ]
          },
          "metadata": {
            "tags": []
          }
        }
      ]
    },
    {
      "cell_type": "code",
      "metadata": {
        "id": "QV5_dr0HSRIa",
        "colab_type": "code",
        "colab": {}
      },
      "source": [
        "\n",
        "learn.save('fine_tuned')"
      ],
      "execution_count": 0,
      "outputs": []
    },
    {
      "cell_type": "code",
      "metadata": {
        "id": "owCcd99uSazr",
        "colab_type": "code",
        "colab": {}
      },
      "source": [
        "learn.load('fine_tuned');"
      ],
      "execution_count": 0,
      "outputs": []
    },
    {
      "cell_type": "code",
      "metadata": {
        "id": "nRoj11KGSbum",
        "colab_type": "code",
        "colab": {}
      },
      "source": [
        "TEXT = \"Apple macintosh is \"\n",
        "N_WORDS = 40\n",
        "N_SENTENCES = 2"
      ],
      "execution_count": 0,
      "outputs": []
    },
    {
      "cell_type": "code",
      "metadata": {
        "id": "tmFIQN_iSi44",
        "colab_type": "code",
        "outputId": "70e07927-b43e-494d-d269-e9c0b7407856",
        "colab": {
          "base_uri": "https://localhost:8080/",
          "height": 70
        }
      },
      "source": [
        "print(\"\\n\".join(learn.predict(TEXT, N_WORDS, temperature=0.75) for _ in range(N_SENTENCES)))"
      ],
      "execution_count": 53,
      "outputs": [
        {
          "output_type": "stream",
          "text": [
            "Apple macintosh is  the first model offered by Sprint joining IBM and Verizon Wireless as the United States carriers offering iphone models . On October Apple announced an agreement with c Spire\n",
            "Apple macintosh is  a traditional display of an apple that is . The original ipad was released on November alongside the iphone and iphone . It was released on April with a reduced price of for the GB\n"
          ],
          "name": "stdout"
        }
      ]
    },
    {
      "cell_type": "code",
      "metadata": {
        "id": "kSIRozqnSmEH",
        "colab_type": "code",
        "colab": {}
      },
      "source": [
        "learn.save_encoder('fine_tuned_enc')"
      ],
      "execution_count": 0,
      "outputs": []
    },
    {
      "cell_type": "markdown",
      "metadata": {
        "id": "hY1KuBMlg2sE",
        "colab_type": "text"
      },
      "source": [
        "Training Classifier"
      ]
    },
    {
      "cell_type": "code",
      "metadata": {
        "id": "3suj13P6Tuo0",
        "colab_type": "code",
        "colab": {}
      },
      "source": [
        "# Classifier model data\n",
        "data_clas = TextClasDataBunch.from_df(path = os.getcwd(), train_df = train_df, valid_df = valid_df, text_cols= 'text', label_cols= 'label', classes = ['computer-company', 'fruit'], bs=16)"
      ],
      "execution_count": 0,
      "outputs": []
    },
    {
      "cell_type": "code",
      "metadata": {
        "id": "Cjaz9MZlUSQd",
        "colab_type": "code",
        "outputId": "71be81eb-f3dc-491b-b4c3-f1a67d60602e",
        "colab": {
          "base_uri": "https://localhost:8080/",
          "height": 363
        }
      },
      "source": [
        "data_clas.save('data_clas.pkl')\n",
        "data_clas = load_data(path, 'data_clas.pkl', bs=bs)\n",
        "data_clas.show_batch()"
      ],
      "execution_count": 56,
      "outputs": [
        {
          "output_type": "display_data",
          "data": {
            "text/html": [
              "<table border=\"1\" class=\"dataframe\">\n",
              "  <thead>\n",
              "    <tr style=\"text-align: right;\">\n",
              "      <th>text</th>\n",
              "      <th>target</th>\n",
              "    </tr>\n",
              "  </thead>\n",
              "  <tbody>\n",
              "    <tr>\n",
              "      <td>xxbos xxmaj company headquarters on xxmaj infinite xxmaj loop in xxmaj cupertino xxmaj california xxmaj apple xxmaj xxunk world corporate headquarters are located in the middle of xxmaj silicon xxmaj xxunk at xxmaj infinite xxmaj loop xxmaj cupertino xxmaj california . xxmaj this xxmaj apple campus has six buildings that total square feet and was built in by xxmaj xxunk xxmaj development xxmaj xxunk . xxmaj in xxmaj apple announced</td>\n",
              "      <td>computer-company</td>\n",
              "    </tr>\n",
              "    <tr>\n",
              "      <td>xxbos xxmaj apple store in xxmaj yonkers xxmaj new xxmaj york xxmaj on xxmaj january xxmaj jobs announced in an internal xxmaj apple memo that he would take another medical leave of absence for an indefinite period to allow him to focus on his health . xxmaj chief operating officer xxmaj tim xxmaj cook assumed xxmaj jobs daytoday operations at xxmaj apple although xxmaj jobs would still remain involved in</td>\n",
              "      <td>computer-company</td>\n",
              "    </tr>\n",
              "    <tr>\n",
              "      <td>xxbos xxmaj apple store in xxmaj yonkers xxmaj new xxmaj york xxmaj on xxmaj january xxmaj jobs announced in an internal xxmaj apple memo that he would take another medical leave of absence for an indefinite period to allow him to focus on his health . xxmaj chief operating officer xxmaj tim xxmaj cook assumed xxmaj jobs daytoday operations at xxmaj apple although xxmaj jobs would still remain involved in</td>\n",
              "      <td>computer-company</td>\n",
              "    </tr>\n",
              "    <tr>\n",
              "      <td>xxbos xxmaj the macbook xxmaj pro xxmaj apples first laptop with an xxmaj intel xxunk announced in xxmaj january . xxmaj at the xxmaj worldwide xxmaj developers xxmaj conference keynote xxunk on xxmaj june xxmaj steve xxmaj jobs announced that xxmaj apple would begin producing xxmaj xxunk xxmaj mac computers in . xxmaj on xxmaj january the new macbook xxmaj pro and imac became the first xxmaj apple computers to</td>\n",
              "      <td>computer-company</td>\n",
              "    </tr>\n",
              "    <tr>\n",
              "      <td>xxbos xxmaj the original iphone and to scale . xxmaj main article iphone xxmaj at the xxmaj macworld xxmaj conference xxmaj expo in xxmaj january xxmaj steve xxmaj jobs introduced the longanticipated iphone a convergence of an xxmaj internetenabled smartphone and ipod . xxmaj the original iphone was released on xxmaj june for xxup gb and xxup gb with an xxup att contract . xxmaj on xxmaj february it was</td>\n",
              "      <td>computer-company</td>\n",
              "    </tr>\n",
              "  </tbody>\n",
              "</table>"
            ],
            "text/plain": [
              "<IPython.core.display.HTML object>"
            ]
          },
          "metadata": {
            "tags": []
          }
        }
      ]
    },
    {
      "cell_type": "code",
      "metadata": {
        "id": "clYmJ683UaWS",
        "colab_type": "code",
        "colab": {}
      },
      "source": [
        "learn = text_classifier_learner(data_clas, AWD_LSTM, drop_mult=0.5)\n",
        "learn.load_encoder('fine_tuned_enc')"
      ],
      "execution_count": 0,
      "outputs": []
    },
    {
      "cell_type": "code",
      "metadata": {
        "id": "zDeyYpyPUlUd",
        "colab_type": "code",
        "outputId": "520f7b2b-5ca8-461b-aac9-23d7c877324c",
        "colab": {
          "base_uri": "https://localhost:8080/",
          "height": 34
        }
      },
      "source": [
        "learn.lr_find()"
      ],
      "execution_count": 58,
      "outputs": [
        {
          "output_type": "display_data",
          "data": {
            "text/html": [
              ""
            ],
            "text/plain": [
              "<IPython.core.display.HTML object>"
            ]
          },
          "metadata": {
            "tags": []
          }
        },
        {
          "output_type": "stream",
          "text": [
            "LR Finder is complete, type {learner_name}.recorder.plot() to see the graph.\n"
          ],
          "name": "stdout"
        }
      ]
    },
    {
      "cell_type": "code",
      "metadata": {
        "id": "0lwV88t0UofW",
        "colab_type": "code",
        "outputId": "61dd67b2-c18b-468f-be9d-90da7dd68d24",
        "colab": {
          "base_uri": "https://localhost:8080/",
          "height": 283
        }
      },
      "source": [
        "learn.recorder.plot()"
      ],
      "execution_count": 59,
      "outputs": [
        {
          "output_type": "display_data",
          "data": {
            "image/png": "[encoded data removed]",
            "text/plain": [
              "<Figure size 432x288 with 1 Axes>"
            ]
          },
          "metadata": {
            "tags": []
          }
        }
      ]
    },
    {
      "cell_type": "code",
      "metadata": {
        "id": "EYj6y280U1Mn",
        "colab_type": "code",
        "outputId": "5266678a-b646-4ea8-c202-a3942dfc3ef0",
        "colab": {
          "base_uri": "https://localhost:8080/",
          "height": 77
        }
      },
      "source": [
        "learn.fit_one_cycle(1, 1e-3, moms=(0.8,0.7))"
      ],
      "execution_count": 60,
      "outputs": [
        {
          "output_type": "display_data",
          "data": {
            "text/html": [
              "<table border=\"1\" class=\"dataframe\">\n",
              "  <thead>\n",
              "    <tr style=\"text-align: left;\">\n",
              "      <th>epoch</th>\n",
              "      <th>train_loss</th>\n",
              "      <th>valid_loss</th>\n",
              "      <th>accuracy</th>\n",
              "      <th>time</th>\n",
              "    </tr>\n",
              "  </thead>\n",
              "  <tbody>\n",
              "    <tr>\n",
              "      <td>0</td>\n",
              "      <td>0.702560</td>\n",
              "      <td>0.678393</td>\n",
              "      <td>0.952381</td>\n",
              "      <td>00:02</td>\n",
              "    </tr>\n",
              "  </tbody>\n",
              "</table>"
            ],
            "text/plain": [
              "<IPython.core.display.HTML object>"
            ]
          },
          "metadata": {
            "tags": []
          }
        }
      ]
    },
    {
      "cell_type": "code",
      "metadata": {
        "id": "kbQ3iVjtU6v9",
        "colab_type": "code",
        "colab": {}
      },
      "source": [
        "learn.save('first')\n"
      ],
      "execution_count": 0,
      "outputs": []
    },
    {
      "cell_type": "code",
      "metadata": {
        "id": "D47aXhM9Wv7b",
        "colab_type": "code",
        "colab": {}
      },
      "source": [
        "learn.load('first');"
      ],
      "execution_count": 0,
      "outputs": []
    },
    {
      "cell_type": "code",
      "metadata": {
        "id": "o1C7t2mYVBly",
        "colab_type": "code",
        "outputId": "2308706e-3221-4b6b-b1d9-693af64d0f24",
        "colab": {
          "base_uri": "https://localhost:8080/",
          "height": 77
        }
      },
      "source": [
        "learn.freeze_to(-2)\n",
        "learn.fit_one_cycle(1, slice(1e-2/(2.6**4),1e-2), moms=(0.8,0.7))"
      ],
      "execution_count": 63,
      "outputs": [
        {
          "output_type": "display_data",
          "data": {
            "text/html": [
              "<table border=\"1\" class=\"dataframe\">\n",
              "  <thead>\n",
              "    <tr style=\"text-align: left;\">\n",
              "      <th>epoch</th>\n",
              "      <th>train_loss</th>\n",
              "      <th>valid_loss</th>\n",
              "      <th>accuracy</th>\n",
              "      <th>time</th>\n",
              "    </tr>\n",
              "  </thead>\n",
              "  <tbody>\n",
              "    <tr>\n",
              "      <td>0</td>\n",
              "      <td>0.374291</td>\n",
              "      <td>0.529454</td>\n",
              "      <td>0.952381</td>\n",
              "      <td>00:03</td>\n",
              "    </tr>\n",
              "  </tbody>\n",
              "</table>"
            ],
            "text/plain": [
              "<IPython.core.display.HTML object>"
            ]
          },
          "metadata": {
            "tags": []
          }
        }
      ]
    },
    {
      "cell_type": "code",
      "metadata": {
        "id": "ysQQp2IJVN4y",
        "colab_type": "code",
        "colab": {}
      },
      "source": [
        "learn.save('second')\n"
      ],
      "execution_count": 0,
      "outputs": []
    },
    {
      "cell_type": "code",
      "metadata": {
        "id": "kDZgOOlYW5Yc",
        "colab_type": "code",
        "colab": {}
      },
      "source": [
        "learn.load('second');"
      ],
      "execution_count": 0,
      "outputs": []
    },
    {
      "cell_type": "code",
      "metadata": {
        "id": "JSmI1gqRVYiq",
        "colab_type": "code",
        "outputId": "8dcf18cb-ef9c-44e7-fda1-2f1002f4e39d",
        "colab": {
          "base_uri": "https://localhost:8080/",
          "height": 77
        }
      },
      "source": [
        "learn.freeze_to(-3)\n",
        "learn.fit_one_cycle(1, slice(1e-3/(2.6**4),1e-3), moms=(0.8,0.7))"
      ],
      "execution_count": 66,
      "outputs": [
        {
          "output_type": "display_data",
          "data": {
            "text/html": [
              "<table border=\"1\" class=\"dataframe\">\n",
              "  <thead>\n",
              "    <tr style=\"text-align: left;\">\n",
              "      <th>epoch</th>\n",
              "      <th>train_loss</th>\n",
              "      <th>valid_loss</th>\n",
              "      <th>accuracy</th>\n",
              "      <th>time</th>\n",
              "    </tr>\n",
              "  </thead>\n",
              "  <tbody>\n",
              "    <tr>\n",
              "      <td>0</td>\n",
              "      <td>0.299674</td>\n",
              "      <td>0.472925</td>\n",
              "      <td>1.000000</td>\n",
              "      <td>00:03</td>\n",
              "    </tr>\n",
              "  </tbody>\n",
              "</table>"
            ],
            "text/plain": [
              "<IPython.core.display.HTML object>"
            ]
          },
          "metadata": {
            "tags": []
          }
        }
      ]
    },
    {
      "cell_type": "code",
      "metadata": {
        "id": "wLRYri5tVtQa",
        "colab_type": "code",
        "colab": {}
      },
      "source": [
        "learn.save('third')\n"
      ],
      "execution_count": 0,
      "outputs": []
    },
    {
      "cell_type": "code",
      "metadata": {
        "id": "wyZWBIa7WYW3",
        "colab_type": "code",
        "colab": {}
      },
      "source": [
        "learn.load('third');"
      ],
      "execution_count": 0,
      "outputs": []
    },
    {
      "cell_type": "code",
      "metadata": {
        "id": "0n7pRuKmVxUr",
        "colab_type": "code",
        "outputId": "799fc80d-a403-4bfe-f88e-40e13223bed8",
        "colab": {
          "base_uri": "https://localhost:8080/",
          "height": 106
        }
      },
      "source": [
        "# learn.unfreeze()\n",
        "# learn.fit_one_cycle(2, slice(1e-3/(2.6**4),1e-3), moms=(0.8,0.7))"
      ],
      "execution_count": 198,
      "outputs": [
        {
          "output_type": "display_data",
          "data": {
            "text/html": [
              "<table border=\"1\" class=\"dataframe\">\n",
              "  <thead>\n",
              "    <tr style=\"text-align: left;\">\n",
              "      <th>epoch</th>\n",
              "      <th>train_loss</th>\n",
              "      <th>valid_loss</th>\n",
              "      <th>accuracy</th>\n",
              "      <th>time</th>\n",
              "    </tr>\n",
              "  </thead>\n",
              "  <tbody>\n",
              "    <tr>\n",
              "      <td>0</td>\n",
              "      <td>0.389138</td>\n",
              "      <td>0.235811</td>\n",
              "      <td>1.000000</td>\n",
              "      <td>00:06</td>\n",
              "    </tr>\n",
              "    <tr>\n",
              "      <td>1</td>\n",
              "      <td>0.329412</td>\n",
              "      <td>0.198821</td>\n",
              "      <td>1.000000</td>\n",
              "      <td>00:06</td>\n",
              "    </tr>\n",
              "  </tbody>\n",
              "</table>"
            ],
            "text/plain": [
              "<IPython.core.display.HTML object>"
            ]
          },
          "metadata": {
            "tags": []
          }
        }
      ]
    },
    {
      "cell_type": "code",
      "metadata": {
        "id": "zq6fCjKcWNsO",
        "colab_type": "code",
        "colab": {}
      },
      "source": [
        "learn.save('fine_tuned_classifier')"
      ],
      "execution_count": 0,
      "outputs": []
    },
    {
      "cell_type": "code",
      "metadata": {
        "id": "GWn2JSJhS-8m",
        "colab_type": "code",
        "colab": {}
      },
      "source": [
        "learn.export('trained_model.pkl')"
      ],
      "execution_count": 0,
      "outputs": []
    },
    {
      "cell_type": "markdown",
      "metadata": {
        "id": "rzOz-jN8gfXU",
        "colab_type": "text"
      },
      "source": [
        "Checking Model Performance"
      ]
    },
    {
      "cell_type": "code",
      "metadata": {
        "id": "lMzBqXA7X4dt",
        "colab_type": "code",
        "outputId": "c41ec9a4-5ba5-4c66-dc71-8e98637f3f7f",
        "colab": {
          "base_uri": "https://localhost:8080/",
          "height": 34
        }
      },
      "source": [
        "learn.predict(\"When Steve Jobs stepped down as Apple's CEO in August 2011, people said it was the end of an era. The departure of Apple design chief Jony Ive, announced Thursday, is the latest sign of the new Apple. \\\n",
        "For the past couple of decades, Apple has gone through one of the most dramatic resurgences in history. Its tale of dramatic rise under co-founder Jobs, its decline and near death after his ouster, and then its rebirth are the stuff of Silicon Valley legend\")"
      ],
      "execution_count": 74,
      "outputs": [
        {
          "output_type": "execute_result",
          "data": {
            "text/plain": [
              "(Category computer-company, tensor(0), tensor([0.6051, 0.3949]))"
            ]
          },
          "metadata": {
            "tags": []
          },
          "execution_count": 74
        }
      ]
    },
    {
      "cell_type": "code",
      "metadata": {
        "id": "oBjPKwVHYV60",
        "colab_type": "code",
        "outputId": "be95340e-4f8b-4314-d620-19fb351c8be0",
        "colab": {
          "base_uri": "https://localhost:8080/",
          "height": 34
        }
      },
      "source": [
        "learn.predict('ve and Jobs were close friends, bonding over frequent lunches and a similar sensibility for design. \"We on the first meeting, in a quite shocking way, really did click,\" Ive said in a rare interview in 2017. \"We just established an immediate understanding.\"')"
      ],
      "execution_count": 75,
      "outputs": [
        {
          "output_type": "execute_result",
          "data": {
            "text/plain": [
              "(Category computer-company, tensor(0), tensor([0.5389, 0.4611]))"
            ]
          },
          "metadata": {
            "tags": []
          },
          "execution_count": 75
        }
      ]
    },
    {
      "cell_type": "code",
      "metadata": {
        "id": "-QVJuTDXYh7L",
        "colab_type": "code",
        "outputId": "703e6636-ac19-4c4e-f94d-996f9f4b5015",
        "colab": {
          "base_uri": "https://localhost:8080/",
          "height": 34
        }
      },
      "source": [
        "learn.predict('The departure of Ive, whose soft, British voice introduced Apple hardware in countless sizzle reels, is the latest sign of major shifts within Apple. The company grew to become one of the worlds most profitable and highly valued companies, worth nearly $1 trillion, on the back of the iPhone.')"
      ],
      "execution_count": 76,
      "outputs": [
        {
          "output_type": "execute_result",
          "data": {
            "text/plain": [
              "(Category computer-company, tensor(0), tensor([0.6135, 0.3865]))"
            ]
          },
          "metadata": {
            "tags": []
          },
          "execution_count": 76
        }
      ]
    },
    {
      "cell_type": "code",
      "metadata": {
        "id": "J1xUps9rYqKj",
        "colab_type": "code",
        "outputId": "8f7820ba-0523-4ab6-ca42-a0fdcfd2cf82",
        "colab": {
          "base_uri": "https://localhost:8080/",
          "height": 34
        }
      },
      "source": [
        "learn.predict('The gardens of Kashmir have the best Apples grown all over the world')"
      ],
      "execution_count": 77,
      "outputs": [
        {
          "output_type": "execute_result",
          "data": {
            "text/plain": [
              "(Category fruit, tensor(1), tensor([0.4949, 0.5051]))"
            ]
          },
          "metadata": {
            "tags": []
          },
          "execution_count": 77
        }
      ]
    },
    {
      "cell_type": "code",
      "metadata": {
        "id": "ROtDu5FWaFx3",
        "colab_type": "code",
        "outputId": "3b20c051-9ea6-467f-9b25-eb40836555ec",
        "colab": {
          "base_uri": "https://localhost:8080/",
          "height": 34
        }
      },
      "source": [
        "learn.predict('The best screen ever in a Phone, Apples Iphone is also very expensive. Steve Jobs was overtaken by Tim Cook')"
      ],
      "execution_count": 78,
      "outputs": [
        {
          "output_type": "execute_result",
          "data": {
            "text/plain": [
              "(Category computer-company, tensor(0), tensor([0.5428, 0.4572]))"
            ]
          },
          "metadata": {
            "tags": []
          },
          "execution_count": 78
        }
      ]
    },
    {
      "cell_type": "code",
      "metadata": {
        "id": "JzLK_BIOaqxn",
        "colab_type": "code",
        "outputId": "565db34c-7408-4bc2-b4e1-a9b14db99c5c",
        "colab": {
          "base_uri": "https://localhost:8080/",
          "height": 34
        }
      },
      "source": [
        "learn.data.batch_size"
      ],
      "execution_count": 79,
      "outputs": [
        {
          "output_type": "execute_result",
          "data": {
            "text/plain": [
              "16"
            ]
          },
          "metadata": {
            "tags": []
          },
          "execution_count": 79
        }
      ]
    },
    {
      "cell_type": "code",
      "metadata": {
        "id": "ebNU8pidEdPR",
        "colab_type": "code",
        "colab": {
          "base_uri": "https://localhost:8080/",
          "height": 34
        },
        "outputId": "e634b0f1-9270-4b62-f885-b4237822f3af"
      },
      "source": [
        "learn.predict(\"\"\"If this seems a bit like déjà vu, you’ll recall that Apple just held an event to unveil two\n",
        "new iPhone models – the 5c and 5s – back on September 10.\"\"\")"
      ],
      "execution_count": 80,
      "outputs": [
        {
          "output_type": "execute_result",
          "data": {
            "text/plain": [
              "(Category computer-company, tensor(0), tensor([0.5425, 0.4575]))"
            ]
          },
          "metadata": {
            "tags": []
          },
          "execution_count": 80
        }
      ]
    },
    {
      "cell_type": "code",
      "metadata": {
        "id": "i1AV82FgbJlP",
        "colab_type": "code",
        "colab": {}
      },
      "source": [
        "test_df = df\n",
        "learn.data.add_test(test_df['label'])\n",
        "prob_preds = learn.get_preds(ds_type=DatasetType.Test, ordered=True)"
      ],
      "execution_count": 0,
      "outputs": []
    },
    {
      "cell_type": "code",
      "metadata": {
        "id": "gJ3OBwN8It6J",
        "colab_type": "code",
        "colab": {
          "base_uri": "https://localhost:8080/",
          "height": 34
        },
        "outputId": "7d4629ab-8155-4112-9416-12a33ad1ffd9"
      },
      "source": [
        "learn.predict('Apple is a software company based in California')"
      ],
      "execution_count": 82,
      "outputs": [
        {
          "output_type": "execute_result",
          "data": {
            "text/plain": [
              "(Category computer-company, tensor(0), tensor([0.5309, 0.4691]))"
            ]
          },
          "metadata": {
            "tags": []
          },
          "execution_count": 82
        }
      ]
    },
    {
      "cell_type": "code",
      "metadata": {
        "id": "yiNe3JvhLbcH",
        "colab_type": "code",
        "colab": {
          "base_uri": "https://localhost:8080/",
          "height": 34
        },
        "outputId": "b5aab6fd-9863-400e-e9e2-165537bb0c09"
      },
      "source": [
        "learn.predict(\"\"\"Fortunately, there are “low-chill” apple varieties for temperate climates. (Chilling hours\n",
        "are defined as nonconsecutive hours of winter temperatures below 45 degrees.) As a\n",
        "general guide, if you live on or near the coast, your garden gets only 100 to 200 chilling\n",
        "hours. Inland San Diego gardens get about 400 to 500 chilling hours — still considered\n",
        "“low chill.”\"\"\")"
      ],
      "execution_count": 86,
      "outputs": [
        {
          "output_type": "execute_result",
          "data": {
            "text/plain": [
              "(Category fruit, tensor(1), tensor([0.3684, 0.6316]))"
            ]
          },
          "metadata": {
            "tags": []
          },
          "execution_count": 86
        }
      ]
    },
    {
      "cell_type": "code",
      "metadata": {
        "id": "k3LF9W7lLmhB",
        "colab_type": "code",
        "colab": {
          "base_uri": "https://localhost:8080/",
          "height": 34
        },
        "outputId": "b762fc2b-3cf6-4b38-f2b4-204a9eac0d83"
      },
      "source": [
        "learn.predict(\"\"\"Apple already plans to buy back `$100 billion in shares, including $`16 billion worth last\n",
        "quarter. Icahn probably pounded the dinner table he and Cook shared recently for their\n",
        "much-reported bread-breaking at Icahn's New York apartment. Apple's cash stash\n",
        "currently sits at a whopping `$145 billion but only $`43 billion is in the U.S., which is why\n",
        "Icahn wants to float bonds to cover a buyback\"\"\")"
      ],
      "execution_count": 87,
      "outputs": [
        {
          "output_type": "execute_result",
          "data": {
            "text/plain": [
              "(Category computer-company, tensor(0), tensor([0.6032, 0.3968]))"
            ]
          },
          "metadata": {
            "tags": []
          },
          "execution_count": 87
        }
      ]
    },
    {
      "cell_type": "code",
      "metadata": {
        "id": "Xnc4FTjzbMqr",
        "colab_type": "code",
        "outputId": "5e379652-94ed-4c6f-d8b1-7c7970adda12",
        "colab": {
          "base_uri": "https://localhost:8080/",
          "height": 34
        }
      },
      "source": [
        "learn.predict(valid_df['text'].iloc[0])"
      ],
      "execution_count": 85,
      "outputs": [
        {
          "output_type": "execute_result",
          "data": {
            "text/plain": [
              "(Category computer-company, tensor(0), tensor([0.6511, 0.3489]))"
            ]
          },
          "metadata": {
            "tags": []
          },
          "execution_count": 85
        }
      ]
    },
    {
      "cell_type": "code",
      "metadata": {
        "id": "td7BbcaaClzq",
        "colab_type": "code",
        "colab": {}
      },
      "source": [
        ""
      ],
      "execution_count": 0,
      "outputs": []
    }
  ]
}