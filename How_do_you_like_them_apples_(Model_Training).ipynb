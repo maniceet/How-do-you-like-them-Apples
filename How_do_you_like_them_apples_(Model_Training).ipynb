{
  "nbformat": 4,
  "nbformat_minor": 0,
  "metadata": {
    "colab": {
      "name": "How do you like them apples (Model Training).ipynb",
      "version": "0.3.2",
      "provenance": [],
      "include_colab_link": true
    },
    "kernelspec": {
      "name": "python3",
      "display_name": "Python 3"
    },
    "accelerator": "GPU"
  },
  "cells": [
    {
      "cell_type": "markdown",
      "metadata": {
        "id": "view-in-github",
        "colab_type": "text"
      },
      "source": [
        "<a href=\"https://colab.research.google.com/github/maniceet/How-do-you-like-them-Apples/blob/master/How_do_you_like_them_apples_(Model_Training).ipynb\" target=\"_parent\"><img src=\"https://colab.research.google.com/assets/colab-badge.svg\" alt=\"Open In Colab\"/></a>"
      ]
    },
    {
      "cell_type": "code",
      "metadata": {
        "id": "dFlZS2dQLgof",
        "colab_type": "code",
        "colab": {}
      },
      "source": [
        "#Importing Packages\n",
        "import pandas as pd\n",
        "import numpy as np\n",
        "import os\n",
        "from matplotlib import pyplot as plt\n",
        "import re, string, unicodedata\n",
        "from bs4 import BeautifulSoup\n",
        "from sklearn.pipeline import Pipeline\n",
        "from functools import reduce\n",
        "from fastai.text import *\n",
        "%matplotlib inline\n",
        "\n",
        "pd.set_option('display.max_rows', 500)\n",
        "pd.set_option('display.max_columns', 500)\n",
        "pd.set_option('display.width', 1000)"
      ],
      "execution_count": 0,
      "outputs": []
    },
    {
      "cell_type": "code",
      "metadata": {
        "id": "XE8EtTypLurb",
        "colab_type": "code",
        "colab": {}
      },
      "source": [
        "#Defining class to read txt file by paragraphs rather than by line\n",
        "class ByParagraph:\n",
        "\n",
        "\n",
        "    def __init__(self, text):\n",
        "        self.text = text\n",
        "\n",
        "\n",
        "    def __iter__(self):\n",
        "        return self\n",
        "        par = \"\"\n",
        "\n",
        "\n",
        "    def __next__(self):\n",
        "        par = []\n",
        "        for line in self.text:\n",
        "            if line.isspace():\n",
        "                break\n",
        "            par.append(line.strip())\n",
        "        else:\n",
        "            if not par:\n",
        "                raise StopIteration()\n",
        "        return ' '.join(par)\n"
      ],
      "execution_count": 0,
      "outputs": []
    },
    {
      "cell_type": "code",
      "metadata": {
        "id": "Q0Hbi_7kL01z",
        "colab_type": "code",
        "colab": {}
      },
      "source": [
        "# Adding all paragraphs to a list for apple computers txt\n",
        "apple_computers = []\n",
        "with open('apple-computers.txt',\"r\", encoding=\"utf8\") as f:\n",
        "  for par in ByParagraph(f):\n",
        "        if par == \"\":\n",
        "            continue\n",
        "        else:\n",
        "            apple_computers.append(par)"
      ],
      "execution_count": 0,
      "outputs": []
    },
    {
      "cell_type": "code",
      "metadata": {
        "id": "I7iJk-g7L4eK",
        "colab_type": "code",
        "colab": {}
      },
      "source": [
        "# Adding all paragraphs to a list for apple fruit txt\n",
        "apple_fruits = []\n",
        "with open('apple-fruit.txt',\"r\", encoding=\"utf8\") as f:\n",
        "  for par in ByParagraph(f):\n",
        "        if par == \"\":\n",
        "            continue\n",
        "        else:\n",
        "            apple_fruits.append(par)"
      ],
      "execution_count": 0,
      "outputs": []
    },
    {
      "cell_type": "code",
      "metadata": {
        "id": "uiqM0uhYL81I",
        "colab_type": "code",
        "colab": {
          "base_uri": "https://localhost:8080/",
          "height": 34
        },
        "outputId": "8ad885a3-13e0-4d5c-e807-28ded258f537"
      },
      "source": [
        "#Creating Training Data Frame\n",
        "label = ['computer-company']*len(apple_computers) + ['fruit']*len(apple_fruits)\n",
        "text = apple_computers + apple_fruits\n",
        "\n",
        "df = pd.DataFrame(list(zip(text, label)), columns=['text', 'label'])\n",
        "print(df.shape)"
      ],
      "execution_count": 148,
      "outputs": [
        {
          "output_type": "stream",
          "text": [
            "(165, 2)\n"
          ],
          "name": "stdout"
        }
      ]
    },
    {
      "cell_type": "code",
      "metadata": {
        "id": "I-UcSYcSL9Jz",
        "colab_type": "code",
        "outputId": "06ebf37a-9c6a-40a9-8b2f-8fe26c5398d7",
        "colab": {
          "base_uri": "https://localhost:8080/",
          "height": 195
        }
      },
      "source": [
        "df.head()"
      ],
      "execution_count": 149,
      "outputs": [
        {
          "output_type": "execute_result",
          "data": {
            "text/html": [
              "<div>\n",
              "<style scoped>\n",
              "    .dataframe tbody tr th:only-of-type {\n",
              "        vertical-align: middle;\n",
              "    }\n",
              "\n",
              "    .dataframe tbody tr th {\n",
              "        vertical-align: top;\n",
              "    }\n",
              "\n",
              "    .dataframe thead th {\n",
              "        text-align: right;\n",
              "    }\n",
              "</style>\n",
              "<table border=\"1\" class=\"dataframe\">\n",
              "  <thead>\n",
              "    <tr style=\"text-align: right;\">\n",
              "      <th></th>\n",
              "      <th>text</th>\n",
              "      <th>label</th>\n",
              "    </tr>\n",
              "  </thead>\n",
              "  <tbody>\n",
              "    <tr>\n",
              "      <th>0</th>\n",
              "      <td>Apple Inc. From Wikipedia, the free encycloped...</td>\n",
              "      <td>computer-company</td>\n",
              "    </tr>\n",
              "    <tr>\n",
              "      <th>1</th>\n",
              "      <td>The Apple I, Apple's first product, was sold a...</td>\n",
              "      <td>computer-company</td>\n",
              "    </tr>\n",
              "    <tr>\n",
              "      <th>2</th>\n",
              "      <td>Apple's \"1984\" television ad, set in a dystopi...</td>\n",
              "      <td>computer-company</td>\n",
              "    </tr>\n",
              "    <tr>\n",
              "      <th>3</th>\n",
              "      <td>The first Macintosh, released in 1984 In 1984,...</td>\n",
              "      <td>computer-company</td>\n",
              "    </tr>\n",
              "    <tr>\n",
              "      <th>4</th>\n",
              "      <td>The Macintosh Portable was Apple's first \"port...</td>\n",
              "      <td>computer-company</td>\n",
              "    </tr>\n",
              "  </tbody>\n",
              "</table>\n",
              "</div>"
            ],
            "text/plain": [
              "                                                text             label\n",
              "0  Apple Inc. From Wikipedia, the free encycloped...  computer-company\n",
              "1  The Apple I, Apple's first product, was sold a...  computer-company\n",
              "2  Apple's \"1984\" television ad, set in a dystopi...  computer-company\n",
              "3  The first Macintosh, released in 1984 In 1984,...  computer-company\n",
              "4  The Macintosh Portable was Apple's first \"port...  computer-company"
            ]
          },
          "metadata": {
            "tags": []
          },
          "execution_count": 149
        }
      ]
    },
    {
      "cell_type": "code",
      "metadata": {
        "id": "Mxy-4u88MABl",
        "colab_type": "code",
        "outputId": "b0e9423a-8b9c-4768-8e36-1142272d5f84",
        "colab": {
          "base_uri": "https://localhost:8080/",
          "height": 302
        }
      },
      "source": [
        "# Summarize Paragraph length\n",
        "print(\"Paragraph Length: \")\n",
        "result = [len(text) for text in df.text]\n",
        "print(\"Mean %.2f words (median - %f)\" % (np.mean(result), np.median(result)))\n",
        "# plot review length\n",
        "plt.boxplot(result)\n",
        "plt.show()"
      ],
      "execution_count": 150,
      "outputs": [
        {
          "output_type": "stream",
          "text": [
            "Paragraph Length: \n",
            "Mean 2500.72 words (median - 2119.000000)\n"
          ],
          "name": "stdout"
        },
        {
          "output_type": "display_data",
          "data": {
            "image/png": "[encoded data removed]",
            "text/plain": [
              "<Figure size 432x288 with 1 Axes>"
            ]
          },
          "metadata": {
            "tags": []
          }
        }
      ]
    },
    {
      "cell_type": "code",
      "metadata": {
        "id": "PhHpuV3CMAvL",
        "colab_type": "code",
        "colab": {}
      },
      "source": [
        "#Cleaning Training Data\n",
        "\n",
        "#Remove HTML Tags\n",
        "def strip_html_tags(text):\n",
        "    soup = BeautifulSoup(text, \"html.parser\")\n",
        "    stripped_text = soup.get_text()\n",
        "    return stripped_text\n",
        "r_html = lambda x: strip_html_tags(x)\n",
        "\n",
        "#Remove accented characters\n",
        "\n",
        "def remove_accented_chars(text):\n",
        "    text = unicodedata.normalize('NFKD', text).encode('ascii', 'ignore').decode('utf-8', 'ignore')\n",
        "    return text\n",
        "\n",
        "r_accented = lambda x: remove_accented_chars(x)\n",
        "\n",
        "#Expand Contractions\n",
        "\n",
        "from contraction import expand_contractions\n",
        "expand = lambda x: expand_contractions(x)\n",
        "\n",
        "\n",
        "#Remove special characters\n",
        "\n",
        "def remove_special_characters(text, remove_digits=False):\n",
        "    #text = text.lower()\n",
        "    text = re.sub('\\w*\\d\\w*', '', text) #Removing words that have numbers in them\n",
        "    pattern = r'[^a-zA-z0-9.\\s]' if not remove_digits else r'[^a-zA-z\\s]'\n",
        "    text = re.sub(pattern, '', text)\n",
        "    pattern = r'[''\"\"_]' #Removing punctuations and underscores\n",
        "    text = re.sub(pattern, '', text)\n",
        "    text = re.sub(r'(.)\\1+', r'\\1\\1', text)   #Removing characters that appear more than twice\n",
        "    text = re.sub(r'\\[', \"\",text)\n",
        "    text = re.sub(r'\\]', \"\",text)\n",
        "    text = text.replace('\\t', ' ')\n",
        "    return text"
      ],
      "execution_count": 0,
      "outputs": []
    },
    {
      "cell_type": "code",
      "metadata": {
        "id": "cP8dLbrSME_u",
        "colab_type": "code",
        "colab": {}
      },
      "source": [
        "functions = [strip_html_tags, remove_accented_chars, expand_contractions, remove_special_characters]\n",
        "\n",
        "for fun in functions:\n",
        "    df['text'] = df['text'].apply(fun)"
      ],
      "execution_count": 0,
      "outputs": []
    },
    {
      "cell_type": "code",
      "metadata": {
        "id": "jpvDMZrXO4dn",
        "colab_type": "code",
        "colab": {}
      },
      "source": [
        "from sklearn.model_selection import train_test_split\n",
        "\n",
        "train_df, valid_df = train_test_split(df, test_size = 0.25, stratify = df['label'])"
      ],
      "execution_count": 0,
      "outputs": []
    },
    {
      "cell_type": "code",
      "metadata": {
        "id": "JoCWqbiaPhiC",
        "colab_type": "code",
        "outputId": "cbad3676-c7a1-4d30-dfb2-dae7eb7e1a1e",
        "colab": {
          "base_uri": "https://localhost:8080/",
          "height": 195
        }
      },
      "source": [
        "train_df.head()"
      ],
      "execution_count": 154,
      "outputs": [
        {
          "output_type": "execute_result",
          "data": {
            "text/html": [
              "<div>\n",
              "<style scoped>\n",
              "    .dataframe tbody tr th:only-of-type {\n",
              "        vertical-align: middle;\n",
              "    }\n",
              "\n",
              "    .dataframe tbody tr th {\n",
              "        vertical-align: top;\n",
              "    }\n",
              "\n",
              "    .dataframe thead th {\n",
              "        text-align: right;\n",
              "    }\n",
              "</style>\n",
              "<table border=\"1\" class=\"dataframe\">\n",
              "  <thead>\n",
              "    <tr style=\"text-align: right;\">\n",
              "      <th></th>\n",
              "      <th>text</th>\n",
              "      <th>label</th>\n",
              "    </tr>\n",
              "  </thead>\n",
              "  <tbody>\n",
              "    <tr>\n",
              "      <th>44</th>\n",
              "      <td>Apples  television ad set in a dystopian futur...</td>\n",
              "      <td>computer-company</td>\n",
              "    </tr>\n",
              "    <tr>\n",
              "      <th>27</th>\n",
              "      <td>Apple retail stores allow potential customers ...</td>\n",
              "      <td>computer-company</td>\n",
              "    </tr>\n",
              "    <tr>\n",
              "      <th>81</th>\n",
              "      <td>Company headquarters on Infinite Loop in Cuper...</td>\n",
              "      <td>computer-company</td>\n",
              "    </tr>\n",
              "    <tr>\n",
              "      <th>13</th>\n",
              "      <td>The original iPhone  and  to scale. Main artic...</td>\n",
              "      <td>computer-company</td>\n",
              "    </tr>\n",
              "    <tr>\n",
              "      <th>18</th>\n",
              "      <td>Company headquarters on Infinite Loop in Cuper...</td>\n",
              "      <td>computer-company</td>\n",
              "    </tr>\n",
              "  </tbody>\n",
              "</table>\n",
              "</div>"
            ],
            "text/plain": [
              "                                                 text             label\n",
              "44  Apples  television ad set in a dystopian futur...  computer-company\n",
              "27  Apple retail stores allow potential customers ...  computer-company\n",
              "81  Company headquarters on Infinite Loop in Cuper...  computer-company\n",
              "13  The original iPhone  and  to scale. Main artic...  computer-company\n",
              "18  Company headquarters on Infinite Loop in Cuper...  computer-company"
            ]
          },
          "metadata": {
            "tags": []
          },
          "execution_count": 154
        }
      ]
    },
    {
      "cell_type": "code",
      "metadata": {
        "id": "CtMxKqupPhUx",
        "colab_type": "code",
        "outputId": "c75f2bff-1cde-4479-deb9-34c53e4ddd20",
        "colab": {
          "base_uri": "https://localhost:8080/",
          "height": 195
        }
      },
      "source": [
        "valid_df.head()"
      ],
      "execution_count": 155,
      "outputs": [
        {
          "output_type": "execute_result",
          "data": {
            "text/html": [
              "<div>\n",
              "<style scoped>\n",
              "    .dataframe tbody tr th:only-of-type {\n",
              "        vertical-align: middle;\n",
              "    }\n",
              "\n",
              "    .dataframe tbody tr th {\n",
              "        vertical-align: top;\n",
              "    }\n",
              "\n",
              "    .dataframe thead th {\n",
              "        text-align: right;\n",
              "    }\n",
              "</style>\n",
              "<table border=\"1\" class=\"dataframe\">\n",
              "  <thead>\n",
              "    <tr style=\"text-align: right;\">\n",
              "      <th></th>\n",
              "      <th>text</th>\n",
              "      <th>label</th>\n",
              "    </tr>\n",
              "  </thead>\n",
              "  <tbody>\n",
              "    <tr>\n",
              "      <th>98</th>\n",
              "      <td>Leaves with significant insect damage Main art...</td>\n",
              "      <td>fruit</td>\n",
              "    </tr>\n",
              "    <tr>\n",
              "      <th>151</th>\n",
              "      <td>Heracles with the apple of Hesperides Apples a...</td>\n",
              "      <td>fruit</td>\n",
              "    </tr>\n",
              "    <tr>\n",
              "      <th>84</th>\n",
              "      <td>This article is about the fruit. For the techn...</td>\n",
              "      <td>fruit</td>\n",
              "    </tr>\n",
              "    <tr>\n",
              "      <th>2</th>\n",
              "      <td>Apples  television ad set in a dystopian futur...</td>\n",
              "      <td>computer-company</td>\n",
              "    </tr>\n",
              "    <tr>\n",
              "      <th>59</th>\n",
              "      <td>See also List of mergers and acquisitions by A...</td>\n",
              "      <td>computer-company</td>\n",
              "    </tr>\n",
              "  </tbody>\n",
              "</table>\n",
              "</div>"
            ],
            "text/plain": [
              "                                                  text             label\n",
              "98   Leaves with significant insect damage Main art...             fruit\n",
              "151  Heracles with the apple of Hesperides Apples a...             fruit\n",
              "84   This article is about the fruit. For the techn...             fruit\n",
              "2    Apples  television ad set in a dystopian futur...  computer-company\n",
              "59   See also List of mergers and acquisitions by A...  computer-company"
            ]
          },
          "metadata": {
            "tags": []
          },
          "execution_count": 155
        }
      ]
    },
    {
      "cell_type": "code",
      "metadata": {
        "id": "ayVY3FZXP-M3",
        "colab_type": "code",
        "colab": {}
      },
      "source": [
        "path = os.getcwd()"
      ],
      "execution_count": 0,
      "outputs": []
    },
    {
      "cell_type": "code",
      "metadata": {
        "id": "tDsJXD5YMIYD",
        "colab_type": "code",
        "colab": {}
      },
      "source": [
        "bs = 16\n",
        "# Language model data\n",
        "data_lm = TextLMDataBunch.from_df(path = os.getcwd(),train_df = train_df, valid_df = valid_df, text_cols= 'text', label_cols= 'label')\n",
        "\n",
        "data_lm.save('data_lm.pkl')"
      ],
      "execution_count": 0,
      "outputs": []
    },
    {
      "cell_type": "code",
      "metadata": {
        "id": "EpH77GICQNsh",
        "colab_type": "code",
        "colab": {}
      },
      "source": [
        "data_lm = load_data(path, 'data_lm.pkl', bs=bs)"
      ],
      "execution_count": 0,
      "outputs": []
    },
    {
      "cell_type": "code",
      "metadata": {
        "id": "InBD1HDxRX_z",
        "colab_type": "code",
        "outputId": "445d7324-27f6-4821-fd0b-8a6e55b2f05c",
        "colab": {
          "base_uri": "https://localhost:8080/",
          "height": 363
        }
      },
      "source": [
        "data_lm.show_batch()"
      ],
      "execution_count": 159,
      "outputs": [
        {
          "output_type": "display_data",
          "data": {
            "text/html": [
              "<table border=\"1\" class=\"dataframe\">\n",
              "  <thead>\n",
              "    <tr style=\"text-align: right;\">\n",
              "      <th>idx</th>\n",
              "      <th>text</th>\n",
              "    </tr>\n",
              "  </thead>\n",
              "  <tbody>\n",
              "    <tr>\n",
              "      <td>0</td>\n",
              "      <td>xxmaj macintosh . a race broke out between the xxmaj lisa team and the xxmaj macintosh team over which product would ship first . xxmaj lisa won the race in and became the first personal computer sold to the public with a xxup gui but was a commercial failure due to its high price tag and limited software titles . xxbos xxmaj apple retail stores allow potential customers to use</td>\n",
              "    </tr>\n",
              "    <tr>\n",
              "      <td>1</td>\n",
              "      <td>supported on a regional carriers network . xxmaj another notable feature of the iphone was xxmaj siri voice assistant technology which xxmaj apple had acquired in as well as other features including an updated camera with new optics . xxmaj apple sold million iphone phones in the first three days of availability making it the most successful launch of any mobile phone to date . xxmaj on xxmaj september xxmaj</td>\n",
              "    </tr>\n",
              "    <tr>\n",
              "      <td>2</td>\n",
              "      <td>a connection between apples and the xxmaj vanir a tribe of gods associated with fertility in xxmaj norse mythology citing an instance of eleven golden apples being given to woo the beautiful xxmaj gerr by xxmaj skirnir who was acting as messenger for the major xxmaj vanir god xxmaj freyr in stanzas and of xxmaj skirnismal . xxmaj davidson also notes a further connection between fertility and apples in xxmaj</td>\n",
              "    </tr>\n",
              "    <tr>\n",
              "      <td>3</td>\n",
              "      <td>interface . xxmaj to aid users in migrating from xxmaj mac xxup os the new operating system allowed the use of xxup os applications through xxmaj mac xxup os xxmaj xs xxmaj classic environment . xxmaj on xxmaj may xxmaj apple opened the first official xxmaj apple xxmaj retail xxmaj stores in xxmaj virginia and xxmaj california . xxmaj on xxmaj july they bought xxmaj spruce xxmaj technologies a xxup</td>\n",
              "    </tr>\n",
              "    <tr>\n",
              "      <td>4</td>\n",
              "      <td>each year . xxmaj most of xxmaj australias apple production is for domestic consumption . xxmaj imports from xxmaj new xxmaj zealand have been disallowed under quarantine regulations for fireblight since . xxmaj top ten apple producers in xxmaj country xxmaj production tonnes xxmaj footnote xxmaj peoples xxmaj republic of xxmaj china xxmaj united xxmaj states xxmaj turkey xxmaj italy xxmaj india i m xxmaj poland xxmaj france xxmaj iran</td>\n",
              "    </tr>\n",
              "  </tbody>\n",
              "</table>"
            ],
            "text/plain": [
              "<IPython.core.display.HTML object>"
            ]
          },
          "metadata": {
            "tags": []
          }
        }
      ]
    },
    {
      "cell_type": "code",
      "metadata": {
        "id": "NblitGsqRaGd",
        "colab_type": "code",
        "colab": {}
      },
      "source": [
        "learn = language_model_learner(data_lm, AWD_LSTM, drop_mult=0.5)"
      ],
      "execution_count": 0,
      "outputs": []
    },
    {
      "cell_type": "code",
      "metadata": {
        "id": "BLTgY77qRj0O",
        "colab_type": "code",
        "outputId": "db49f6d8-4179-46fe-a9b0-accda330a63c",
        "colab": {
          "base_uri": "https://localhost:8080/",
          "height": 34
        }
      },
      "source": [
        "learn.lr_find()"
      ],
      "execution_count": 215,
      "outputs": [
        {
          "output_type": "display_data",
          "data": {
            "text/html": [
              ""
            ],
            "text/plain": [
              "<IPython.core.display.HTML object>"
            ]
          },
          "metadata": {
            "tags": []
          }
        },
        {
          "output_type": "stream",
          "text": [
            "LR Finder is complete, type {learner_name}.recorder.plot() to see the graph.\n"
          ],
          "name": "stdout"
        }
      ]
    },
    {
      "cell_type": "code",
      "metadata": {
        "id": "fuX1_o5xRvGR",
        "colab_type": "code",
        "outputId": "e24298a3-88c8-4ac3-bdc4-74e9ae0085bf",
        "colab": {
          "base_uri": "https://localhost:8080/",
          "height": 283
        }
      },
      "source": [
        "learn.recorder.plot(skip_end=15)"
      ],
      "execution_count": 216,
      "outputs": [
        {
          "output_type": "display_data",
          "data": {
            "image/png": "[encoded data removed]",
            "text/plain": [
              "<Figure size 432x288 with 1 Axes>"
            ]
          },
          "metadata": {
            "tags": []
          }
        }
      ]
    },
    {
      "cell_type": "code",
      "metadata": {
        "id": "q1qVOrSLR2fM",
        "colab_type": "code",
        "outputId": "7e23ae1f-35f9-4cdc-f422-4d1e1b5bf1cf",
        "colab": {
          "base_uri": "https://localhost:8080/",
          "height": 77
        }
      },
      "source": [
        "learn.fit_one_cycle(1, 1e-2, moms=(0.8,0.7))"
      ],
      "execution_count": 217,
      "outputs": [
        {
          "output_type": "display_data",
          "data": {
            "text/html": [
              "<table border=\"1\" class=\"dataframe\">\n",
              "  <thead>\n",
              "    <tr style=\"text-align: left;\">\n",
              "      <th>epoch</th>\n",
              "      <th>train_loss</th>\n",
              "      <th>valid_loss</th>\n",
              "      <th>accuracy</th>\n",
              "      <th>time</th>\n",
              "    </tr>\n",
              "  </thead>\n",
              "  <tbody>\n",
              "    <tr>\n",
              "      <td>0</td>\n",
              "      <td>3.627886</td>\n",
              "      <td>3.101112</td>\n",
              "      <td>0.411905</td>\n",
              "      <td>00:03</td>\n",
              "    </tr>\n",
              "  </tbody>\n",
              "</table>"
            ],
            "text/plain": [
              "<IPython.core.display.HTML object>"
            ]
          },
          "metadata": {
            "tags": []
          }
        }
      ]
    },
    {
      "cell_type": "code",
      "metadata": {
        "id": "ymiBM1yxR-o6",
        "colab_type": "code",
        "colab": {}
      },
      "source": [
        "learn.save('fit_head')"
      ],
      "execution_count": 0,
      "outputs": []
    },
    {
      "cell_type": "code",
      "metadata": {
        "id": "SmtGb5WpR_mQ",
        "colab_type": "code",
        "colab": {}
      },
      "source": [
        "learn.load('fit_head');"
      ],
      "execution_count": 0,
      "outputs": []
    },
    {
      "cell_type": "code",
      "metadata": {
        "id": "noIpuN_LSGlL",
        "colab_type": "code",
        "colab": {}
      },
      "source": [
        "learn.unfreeze()"
      ],
      "execution_count": 0,
      "outputs": []
    },
    {
      "cell_type": "code",
      "metadata": {
        "id": "sBw2uyRfSN3x",
        "colab_type": "code",
        "outputId": "665e7d43-4351-4933-bd4a-b2b88d34a6dd",
        "colab": {
          "base_uri": "https://localhost:8080/",
          "height": 106
        }
      },
      "source": [
        "learn.fit_one_cycle(2, 1e-2, moms=(0.8,0.7))"
      ],
      "execution_count": 221,
      "outputs": [
        {
          "output_type": "display_data",
          "data": {
            "text/html": [
              "<table border=\"1\" class=\"dataframe\">\n",
              "  <thead>\n",
              "    <tr style=\"text-align: left;\">\n",
              "      <th>epoch</th>\n",
              "      <th>train_loss</th>\n",
              "      <th>valid_loss</th>\n",
              "      <th>accuracy</th>\n",
              "      <th>time</th>\n",
              "    </tr>\n",
              "  </thead>\n",
              "  <tbody>\n",
              "    <tr>\n",
              "      <td>0</td>\n",
              "      <td>2.499100</td>\n",
              "      <td>1.747840</td>\n",
              "      <td>0.636409</td>\n",
              "      <td>00:05</td>\n",
              "    </tr>\n",
              "    <tr>\n",
              "      <td>1</td>\n",
              "      <td>1.221438</td>\n",
              "      <td>0.645776</td>\n",
              "      <td>0.870436</td>\n",
              "      <td>00:05</td>\n",
              "    </tr>\n",
              "  </tbody>\n",
              "</table>"
            ],
            "text/plain": [
              "<IPython.core.display.HTML object>"
            ]
          },
          "metadata": {
            "tags": []
          }
        }
      ]
    },
    {
      "cell_type": "code",
      "metadata": {
        "id": "QV5_dr0HSRIa",
        "colab_type": "code",
        "colab": {}
      },
      "source": [
        "learn.save('fine_tuned')"
      ],
      "execution_count": 0,
      "outputs": []
    },
    {
      "cell_type": "code",
      "metadata": {
        "id": "owCcd99uSazr",
        "colab_type": "code",
        "colab": {}
      },
      "source": [
        "learn.load('fine_tuned');"
      ],
      "execution_count": 0,
      "outputs": []
    },
    {
      "cell_type": "code",
      "metadata": {
        "id": "nRoj11KGSbum",
        "colab_type": "code",
        "colab": {}
      },
      "source": [
        "TEXT = \"Apple seeds are \"\n",
        "N_WORDS = 40\n",
        "N_SENTENCES = 2"
      ],
      "execution_count": 0,
      "outputs": []
    },
    {
      "cell_type": "code",
      "metadata": {
        "id": "tmFIQN_iSi44",
        "colab_type": "code",
        "outputId": "39d16fb6-1266-46f2-a682-f7d2e56d04f7",
        "colab": {
          "base_uri": "https://localhost:8080/",
          "height": 70
        }
      },
      "source": [
        "print(\"\\n\".join(learn.predict(TEXT, N_WORDS, temperature=0.75) for _ in range(N_SENTENCES)))"
      ],
      "execution_count": 225,
      "outputs": [
        {
          "output_type": "stream",
          "text": [
            "Apple seeds are  selfincompatible they must buy fruit . Cooked in a country butter and email contacts with words each word which is names for what is essentially the same genetic apple variety . Cooking apples can be treated with vitamin\n",
            "Apple seeds are  an example of eleven apple growers who publishes a collection of outstanding cultivars . The company introduced the guide to the United States in June in collaboration with America Online and designed as a\n"
          ],
          "name": "stdout"
        }
      ]
    },
    {
      "cell_type": "code",
      "metadata": {
        "id": "kSIRozqnSmEH",
        "colab_type": "code",
        "colab": {}
      },
      "source": [
        "learn.save_encoder('fine_tuned_enc')"
      ],
      "execution_count": 0,
      "outputs": []
    },
    {
      "cell_type": "code",
      "metadata": {
        "id": "3suj13P6Tuo0",
        "colab_type": "code",
        "colab": {}
      },
      "source": [
        "# Classifier model data\n",
        "data_clas = TextClasDataBunch.from_df(path = os.getcwd(), train_df = train_df, valid_df = valid_df, text_cols= 'text', label_cols= 'label', classes = ['computer-company', 'fruit'], bs=16)"
      ],
      "execution_count": 0,
      "outputs": []
    },
    {
      "cell_type": "code",
      "metadata": {
        "id": "Cjaz9MZlUSQd",
        "colab_type": "code",
        "outputId": "bff3a13b-df79-497e-e996-b4c54d0b2e0a",
        "colab": {
          "base_uri": "https://localhost:8080/",
          "height": 363
        }
      },
      "source": [
        "data_clas.save('data_clas.pkl')\n",
        "data_clas = load_data(path, 'data_clas.pkl', bs=bs)\n",
        "data_clas.show_batch()"
      ],
      "execution_count": 228,
      "outputs": [
        {
          "output_type": "display_data",
          "data": {
            "text/html": [
              "<table border=\"1\" class=\"dataframe\">\n",
              "  <thead>\n",
              "    <tr style=\"text-align: right;\">\n",
              "      <th>text</th>\n",
              "      <th>target</th>\n",
              "    </tr>\n",
              "  </thead>\n",
              "  <tbody>\n",
              "    <tr>\n",
              "      <td>xxbos xxmaj company headquarters on xxmaj infinite xxmaj loop in xxmaj cupertino xxmaj california xxmaj apple xxmaj inc.s world corporate headquarters are located in the middle of xxmaj silicon xxmaj valley at xxmaj infinite xxmaj loop xxmaj cupertino xxmaj california . xxmaj this xxmaj apple campus has six buildings that total square feet and was built in by xxmaj sobrato xxmaj development xxmaj cos . xxmaj in xxmaj apple announced</td>\n",
              "      <td>computer-company</td>\n",
              "    </tr>\n",
              "    <tr>\n",
              "      <td>xxbos xxmaj company headquarters on xxmaj infinite xxmaj loop in xxmaj cupertino xxmaj california xxmaj apple xxmaj inc.s world corporate headquarters are located in the middle of xxmaj silicon xxmaj valley at xxmaj infinite xxmaj loop xxmaj cupertino xxmaj california . xxmaj this xxmaj apple campus has six buildings that total square feet and was built in by xxmaj sobrato xxmaj development xxmaj cos . xxmaj in xxmaj apple announced</td>\n",
              "      <td>computer-company</td>\n",
              "    </tr>\n",
              "    <tr>\n",
              "      <td>xxbos xxmaj company headquarters on xxmaj infinite xxmaj loop in xxmaj cupertino xxmaj california xxmaj apple xxmaj inc.s world corporate headquarters are located in the middle of xxmaj silicon xxmaj valley at xxmaj infinite xxmaj loop xxmaj cupertino xxmaj california . xxmaj this xxmaj apple campus has six buildings that total square feet and was built in by xxmaj sobrato xxmaj development xxmaj cos . xxmaj in xxmaj apple announced</td>\n",
              "      <td>computer-company</td>\n",
              "    </tr>\n",
              "    <tr>\n",
              "      <td>xxbos xxmaj apple store in xxmaj yonkers xxmaj new xxmaj york xxmaj on xxmaj january xxmaj jobs announced in an internal xxmaj apple memo that he would take another medical leave of absence for an indefinite period to allow him to focus on his health . xxmaj chief operating officer xxmaj tim xxmaj cook assumed xxmaj jobs daytoday operations at xxmaj apple although xxmaj jobs would still remain involved in</td>\n",
              "      <td>computer-company</td>\n",
              "    </tr>\n",
              "    <tr>\n",
              "      <td>xxbos xxmaj apple store in xxmaj yonkers xxmaj new xxmaj york xxmaj on xxmaj january xxmaj jobs announced in an internal xxmaj apple memo that he would take another medical leave of absence for an indefinite period to allow him to focus on his health . xxmaj chief operating officer xxmaj tim xxmaj cook assumed xxmaj jobs daytoday operations at xxmaj apple although xxmaj jobs would still remain involved in</td>\n",
              "      <td>computer-company</td>\n",
              "    </tr>\n",
              "  </tbody>\n",
              "</table>"
            ],
            "text/plain": [
              "<IPython.core.display.HTML object>"
            ]
          },
          "metadata": {
            "tags": []
          }
        }
      ]
    },
    {
      "cell_type": "code",
      "metadata": {
        "id": "clYmJ683UaWS",
        "colab_type": "code",
        "colab": {}
      },
      "source": [
        "learn = text_classifier_learner(data_clas, AWD_LSTM, drop_mult=0.5)\n",
        "learn.load_encoder('fine_tuned_enc')"
      ],
      "execution_count": 0,
      "outputs": []
    },
    {
      "cell_type": "code",
      "metadata": {
        "id": "zDeyYpyPUlUd",
        "colab_type": "code",
        "outputId": "ce5a037b-433c-4970-ff4f-043c24193769",
        "colab": {
          "base_uri": "https://localhost:8080/",
          "height": 34
        }
      },
      "source": [
        "learn.lr_find()"
      ],
      "execution_count": 230,
      "outputs": [
        {
          "output_type": "display_data",
          "data": {
            "text/html": [
              ""
            ],
            "text/plain": [
              "<IPython.core.display.HTML object>"
            ]
          },
          "metadata": {
            "tags": []
          }
        },
        {
          "output_type": "stream",
          "text": [
            "LR Finder is complete, type {learner_name}.recorder.plot() to see the graph.\n"
          ],
          "name": "stdout"
        }
      ]
    },
    {
      "cell_type": "code",
      "metadata": {
        "id": "0lwV88t0UofW",
        "colab_type": "code",
        "outputId": "41b1bd4e-5006-4f6b-c6f4-490bcdf17436",
        "colab": {
          "base_uri": "https://localhost:8080/",
          "height": 283
        }
      },
      "source": [
        "learn.recorder.plot()"
      ],
      "execution_count": 231,
      "outputs": [
        {
          "output_type": "display_data",
          "data": {
            "image/png": "[encoded data removed]",
            "text/plain": [
              "<Figure size 432x288 with 1 Axes>"
            ]
          },
          "metadata": {
            "tags": []
          }
        }
      ]
    },
    {
      "cell_type": "code",
      "metadata": {
        "id": "EYj6y280U1Mn",
        "colab_type": "code",
        "outputId": "289fab22-7b59-4107-9725-3775e2422dad",
        "colab": {
          "base_uri": "https://localhost:8080/",
          "height": 77
        }
      },
      "source": [
        "learn.fit_one_cycle(1, 1e-3, moms=(0.8,0.7))"
      ],
      "execution_count": 232,
      "outputs": [
        {
          "output_type": "display_data",
          "data": {
            "text/html": [
              "<table border=\"1\" class=\"dataframe\">\n",
              "  <thead>\n",
              "    <tr style=\"text-align: left;\">\n",
              "      <th>epoch</th>\n",
              "      <th>train_loss</th>\n",
              "      <th>valid_loss</th>\n",
              "      <th>accuracy</th>\n",
              "      <th>time</th>\n",
              "    </tr>\n",
              "  </thead>\n",
              "  <tbody>\n",
              "    <tr>\n",
              "      <td>0</td>\n",
              "      <td>0.690740</td>\n",
              "      <td>0.648697</td>\n",
              "      <td>0.833333</td>\n",
              "      <td>00:03</td>\n",
              "    </tr>\n",
              "  </tbody>\n",
              "</table>"
            ],
            "text/plain": [
              "<IPython.core.display.HTML object>"
            ]
          },
          "metadata": {
            "tags": []
          }
        }
      ]
    },
    {
      "cell_type": "code",
      "metadata": {
        "id": "kbQ3iVjtU6v9",
        "colab_type": "code",
        "colab": {}
      },
      "source": [
        "learn.save('first')\n"
      ],
      "execution_count": 0,
      "outputs": []
    },
    {
      "cell_type": "code",
      "metadata": {
        "id": "D47aXhM9Wv7b",
        "colab_type": "code",
        "colab": {}
      },
      "source": [
        "learn.load('first');"
      ],
      "execution_count": 0,
      "outputs": []
    },
    {
      "cell_type": "code",
      "metadata": {
        "id": "o1C7t2mYVBly",
        "colab_type": "code",
        "outputId": "f2e1e2c3-8a7a-4d68-8973-cd90289a511b",
        "colab": {
          "base_uri": "https://localhost:8080/",
          "height": 77
        }
      },
      "source": [
        "learn.freeze_to(-2)\n",
        "learn.fit_one_cycle(1, slice(1e-2/(2.6**4),1e-2), moms=(0.8,0.7))"
      ],
      "execution_count": 235,
      "outputs": [
        {
          "output_type": "display_data",
          "data": {
            "text/html": [
              "<table border=\"1\" class=\"dataframe\">\n",
              "  <thead>\n",
              "    <tr style=\"text-align: left;\">\n",
              "      <th>epoch</th>\n",
              "      <th>train_loss</th>\n",
              "      <th>valid_loss</th>\n",
              "      <th>accuracy</th>\n",
              "      <th>time</th>\n",
              "    </tr>\n",
              "  </thead>\n",
              "  <tbody>\n",
              "    <tr>\n",
              "      <td>0</td>\n",
              "      <td>0.501334</td>\n",
              "      <td>0.276958</td>\n",
              "      <td>1.000000</td>\n",
              "      <td>00:04</td>\n",
              "    </tr>\n",
              "  </tbody>\n",
              "</table>"
            ],
            "text/plain": [
              "<IPython.core.display.HTML object>"
            ]
          },
          "metadata": {
            "tags": []
          }
        }
      ]
    },
    {
      "cell_type": "code",
      "metadata": {
        "id": "ysQQp2IJVN4y",
        "colab_type": "code",
        "colab": {}
      },
      "source": [
        "learn.save('second')\n"
      ],
      "execution_count": 0,
      "outputs": []
    },
    {
      "cell_type": "code",
      "metadata": {
        "id": "kDZgOOlYW5Yc",
        "colab_type": "code",
        "colab": {}
      },
      "source": [
        "learn.load('second');"
      ],
      "execution_count": 0,
      "outputs": []
    },
    {
      "cell_type": "code",
      "metadata": {
        "id": "JSmI1gqRVYiq",
        "colab_type": "code",
        "outputId": "a282e0eb-c47e-4e76-e886-90d051aa9a8c",
        "colab": {
          "base_uri": "https://localhost:8080/",
          "height": 77
        }
      },
      "source": [
        "learn.freeze_to(-3)\n",
        "learn.fit_one_cycle(1, slice(1e-3/(2.6**4),1e-3), moms=(0.8,0.7))"
      ],
      "execution_count": 238,
      "outputs": [
        {
          "output_type": "display_data",
          "data": {
            "text/html": [
              "<table border=\"1\" class=\"dataframe\">\n",
              "  <thead>\n",
              "    <tr style=\"text-align: left;\">\n",
              "      <th>epoch</th>\n",
              "      <th>train_loss</th>\n",
              "      <th>valid_loss</th>\n",
              "      <th>accuracy</th>\n",
              "      <th>time</th>\n",
              "    </tr>\n",
              "  </thead>\n",
              "  <tbody>\n",
              "    <tr>\n",
              "      <td>0</td>\n",
              "      <td>0.322040</td>\n",
              "      <td>0.294499</td>\n",
              "      <td>1.000000</td>\n",
              "      <td>00:05</td>\n",
              "    </tr>\n",
              "  </tbody>\n",
              "</table>"
            ],
            "text/plain": [
              "<IPython.core.display.HTML object>"
            ]
          },
          "metadata": {
            "tags": []
          }
        }
      ]
    },
    {
      "cell_type": "code",
      "metadata": {
        "id": "wLRYri5tVtQa",
        "colab_type": "code",
        "colab": {}
      },
      "source": [
        "learn.save('third')\n"
      ],
      "execution_count": 0,
      "outputs": []
    },
    {
      "cell_type": "code",
      "metadata": {
        "id": "wyZWBIa7WYW3",
        "colab_type": "code",
        "colab": {}
      },
      "source": [
        "learn.load('third');"
      ],
      "execution_count": 0,
      "outputs": []
    },
    {
      "cell_type": "code",
      "metadata": {
        "id": "0n7pRuKmVxUr",
        "colab_type": "code",
        "outputId": "799fc80d-a403-4bfe-f88e-40e13223bed8",
        "colab": {
          "base_uri": "https://localhost:8080/",
          "height": 106
        }
      },
      "source": [
        "learn.unfreeze()\n",
        "learn.fit_one_cycle(2, slice(1e-3/(2.6**4),1e-3), moms=(0.8,0.7))"
      ],
      "execution_count": 198,
      "outputs": [
        {
          "output_type": "display_data",
          "data": {
            "text/html": [
              "<table border=\"1\" class=\"dataframe\">\n",
              "  <thead>\n",
              "    <tr style=\"text-align: left;\">\n",
              "      <th>epoch</th>\n",
              "      <th>train_loss</th>\n",
              "      <th>valid_loss</th>\n",
              "      <th>accuracy</th>\n",
              "      <th>time</th>\n",
              "    </tr>\n",
              "  </thead>\n",
              "  <tbody>\n",
              "    <tr>\n",
              "      <td>0</td>\n",
              "      <td>0.389138</td>\n",
              "      <td>0.235811</td>\n",
              "      <td>1.000000</td>\n",
              "      <td>00:06</td>\n",
              "    </tr>\n",
              "    <tr>\n",
              "      <td>1</td>\n",
              "      <td>0.329412</td>\n",
              "      <td>0.198821</td>\n",
              "      <td>1.000000</td>\n",
              "      <td>00:06</td>\n",
              "    </tr>\n",
              "  </tbody>\n",
              "</table>"
            ],
            "text/plain": [
              "<IPython.core.display.HTML object>"
            ]
          },
          "metadata": {
            "tags": []
          }
        }
      ]
    },
    {
      "cell_type": "code",
      "metadata": {
        "id": "zq6fCjKcWNsO",
        "colab_type": "code",
        "colab": {}
      },
      "source": [
        "learn.save('fine_tuned_classifier')"
      ],
      "execution_count": 0,
      "outputs": []
    },
    {
      "cell_type": "code",
      "metadata": {
        "id": "lMzBqXA7X4dt",
        "colab_type": "code",
        "outputId": "3e7a275f-308a-4b40-fbc0-673d14c1feec",
        "colab": {
          "base_uri": "https://localhost:8080/",
          "height": 34
        }
      },
      "source": [
        "learn.predict(\"When Steve Jobs stepped down as Apple's CEO in August 2011, people said it was the end of an era. The departure of Apple design chief Jony Ive, announced Thursday, is the latest sign of the new Apple. \\\n",
        "For the past couple of decades, Apple has gone through one of the most dramatic resurgences in history. Its tale of dramatic rise under co-founder Jobs, its decline and near death after his ouster, and then its rebirth are the stuff of Silicon Valley legend\")"
      ],
      "execution_count": 240,
      "outputs": [
        {
          "output_type": "execute_result",
          "data": {
            "text/plain": [
              "(Category fruit, tensor(1), tensor([0.4297, 0.5703]))"
            ]
          },
          "metadata": {
            "tags": []
          },
          "execution_count": 240
        }
      ]
    },
    {
      "cell_type": "code",
      "metadata": {
        "id": "oBjPKwVHYV60",
        "colab_type": "code",
        "outputId": "6581958c-5386-40c7-981d-d2f274f27570",
        "colab": {
          "base_uri": "https://localhost:8080/",
          "height": 34
        }
      },
      "source": [
        "learn.predict('ve and Jobs were close friends, bonding over frequent lunches and a similar sensibility for design. \"We on the first meeting, in a quite shocking way, really did click,\" Ive said in a rare interview in 2017. \"We just established an immediate understanding.\"')"
      ],
      "execution_count": 241,
      "outputs": [
        {
          "output_type": "execute_result",
          "data": {
            "text/plain": [
              "(Category fruit, tensor(1), tensor([0.3927, 0.6073]))"
            ]
          },
          "metadata": {
            "tags": []
          },
          "execution_count": 241
        }
      ]
    },
    {
      "cell_type": "code",
      "metadata": {
        "id": "-QVJuTDXYh7L",
        "colab_type": "code",
        "outputId": "f92ada6f-5004-4290-a4ae-3d3df7d676eb",
        "colab": {
          "base_uri": "https://localhost:8080/",
          "height": 34
        }
      },
      "source": [
        "learn.predict('The departure of Ive, whose soft, British voice introduced Apple hardware in countless sizzle reels, is the latest sign of major shifts within Apple. The company grew to become one of the worlds most profitable and highly valued companies, worth nearly $1 trillion, on the back of the iPhone.')"
      ],
      "execution_count": 242,
      "outputs": [
        {
          "output_type": "execute_result",
          "data": {
            "text/plain": [
              "(Category computer-company, tensor(0), tensor([0.5023, 0.4977]))"
            ]
          },
          "metadata": {
            "tags": []
          },
          "execution_count": 242
        }
      ]
    },
    {
      "cell_type": "code",
      "metadata": {
        "id": "J1xUps9rYqKj",
        "colab_type": "code",
        "outputId": "877c8c21-82e3-4e28-be6f-518d725ef839",
        "colab": {
          "base_uri": "https://localhost:8080/",
          "height": 34
        }
      },
      "source": [
        "learn.predict('The gardens of Kashmir have the best Apples grown all over the world')"
      ],
      "execution_count": 243,
      "outputs": [
        {
          "output_type": "execute_result",
          "data": {
            "text/plain": [
              "(Category fruit, tensor(1), tensor([0.2591, 0.7409]))"
            ]
          },
          "metadata": {
            "tags": []
          },
          "execution_count": 243
        }
      ]
    },
    {
      "cell_type": "code",
      "metadata": {
        "id": "ROtDu5FWaFx3",
        "colab_type": "code",
        "outputId": "b322498e-0477-43b2-b4c0-84c2f720abc6",
        "colab": {
          "base_uri": "https://localhost:8080/",
          "height": 34
        }
      },
      "source": [
        "learn.predict('The best screen ever in a Phone, Apples Iphone is also very expensive. Steve Jobs was overtaken by Tim Cook')"
      ],
      "execution_count": 245,
      "outputs": [
        {
          "output_type": "execute_result",
          "data": {
            "text/plain": [
              "(Category computer-company, tensor(0), tensor([0.5616, 0.4384]))"
            ]
          },
          "metadata": {
            "tags": []
          },
          "execution_count": 245
        }
      ]
    },
    {
      "cell_type": "code",
      "metadata": {
        "id": "JzLK_BIOaqxn",
        "colab_type": "code",
        "outputId": "6b7b0452-a585-4896-e19a-1e8ad0350e79",
        "colab": {
          "base_uri": "https://localhost:8080/",
          "height": 34
        }
      },
      "source": [
        "learn.data.batch_size"
      ],
      "execution_count": 246,
      "outputs": [
        {
          "output_type": "execute_result",
          "data": {
            "text/plain": [
              "16"
            ]
          },
          "metadata": {
            "tags": []
          },
          "execution_count": 246
        }
      ]
    },
    {
      "cell_type": "code",
      "metadata": {
        "id": "ebNU8pidEdPR",
        "colab_type": "code",
        "colab": {
          "base_uri": "https://localhost:8080/",
          "height": 34
        },
        "outputId": "19be6a7f-19a7-4cd2-a405-0732edb34e87"
      },
      "source": [
        "learn.predict(\"\"\"If this seems a bit like déjà vu, you’ll recall that Apple just held an event to unveil two\n",
        "new iPhone models – the 5c and 5s – back on September 10.\"\"\")"
      ],
      "execution_count": 254,
      "outputs": [
        {
          "output_type": "execute_result",
          "data": {
            "text/plain": [
              "(Category fruit, tensor(1), tensor([0.3271, 0.6729]))"
            ]
          },
          "metadata": {
            "tags": []
          },
          "execution_count": 254
        }
      ]
    },
    {
      "cell_type": "code",
      "metadata": {
        "id": "i1AV82FgbJlP",
        "colab_type": "code",
        "colab": {}
      },
      "source": [
        "test_df = df\n",
        "learn.data.add_test(test_df['label'])\n",
        "prob_preds = learn.get_preds(ds_type=DatasetType.Test, ordered=True)"
      ],
      "execution_count": 0,
      "outputs": []
    },
    {
      "cell_type": "code",
      "metadata": {
        "id": "gJ3OBwN8It6J",
        "colab_type": "code",
        "colab": {
          "base_uri": "https://localhost:8080/",
          "height": 34
        },
        "outputId": "9296c094-1139-4764-c889-d2ef80947612"
      },
      "source": [
        "learn.predict('Apple is a software company based in California')"
      ],
      "execution_count": 250,
      "outputs": [
        {
          "output_type": "execute_result",
          "data": {
            "text/plain": [
              "(Category fruit, tensor(1), tensor([0.4513, 0.5487]))"
            ]
          },
          "metadata": {
            "tags": []
          },
          "execution_count": 250
        }
      ]
    },
    {
      "cell_type": "code",
      "metadata": {
        "id": "Xnc4FTjzbMqr",
        "colab_type": "code",
        "outputId": "4fa46dd5-dea4-4688-b16d-bc4ca232676e",
        "colab": {
          "base_uri": "https://localhost:8080/",
          "height": 34
        }
      },
      "source": [
        "learn.predict(valid_df['text'].iloc[3])"
      ],
      "execution_count": 252,
      "outputs": [
        {
          "output_type": "execute_result",
          "data": {
            "text/plain": [
              "(Category computer-company, tensor(0), tensor([0.6953, 0.3047]))"
            ]
          },
          "metadata": {
            "tags": []
          },
          "execution_count": 252
        }
      ]
    },
    {
      "cell_type": "code",
      "metadata": {
        "id": "oqMi5U84CdSD",
        "colab_type": "code",
        "colab": {
          "base_uri": "https://localhost:8080/",
          "height": 739
        },
        "outputId": "b41feea4-728f-4d1e-9d15-86ea1ca3bd6a"
      },
      "source": [
        "valid_df['label']"
      ],
      "execution_count": 253,
      "outputs": [
        {
          "output_type": "execute_result",
          "data": {
            "text/plain": [
              "98                fruit\n",
              "151               fruit\n",
              "84                fruit\n",
              "2      computer-company\n",
              "59     computer-company\n",
              "143               fruit\n",
              "155               fruit\n",
              "1      computer-company\n",
              "20     computer-company\n",
              "63     computer-company\n",
              "71     computer-company\n",
              "52     computer-company\n",
              "21     computer-company\n",
              "78     computer-company\n",
              "51     computer-company\n",
              "116               fruit\n",
              "72     computer-company\n",
              "37     computer-company\n",
              "88                fruit\n",
              "94                fruit\n",
              "141               fruit\n",
              "122               fruit\n",
              "77     computer-company\n",
              "79     computer-company\n",
              "29     computer-company\n",
              "74     computer-company\n",
              "32     computer-company\n",
              "163               fruit\n",
              "57     computer-company\n",
              "91                fruit\n",
              "23     computer-company\n",
              "146               fruit\n",
              "60     computer-company\n",
              "118               fruit\n",
              "148               fruit\n",
              "124               fruit\n",
              "125               fruit\n",
              "92                fruit\n",
              "14     computer-company\n",
              "112               fruit\n",
              "128               fruit\n",
              "154               fruit\n",
              "Name: label, dtype: object"
            ]
          },
          "metadata": {
            "tags": []
          },
          "execution_count": 253
        }
      ]
    },
    {
      "cell_type": "code",
      "metadata": {
        "id": "td7BbcaaClzq",
        "colab_type": "code",
        "colab": {}
      },
      "source": [
        ""
      ],
      "execution_count": 0,
      "outputs": []
    }
  ]
}