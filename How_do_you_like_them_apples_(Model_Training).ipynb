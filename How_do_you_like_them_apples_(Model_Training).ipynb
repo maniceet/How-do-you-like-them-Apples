{
  "nbformat": 4,
  "nbformat_minor": 0,
  "metadata": {
    "colab": {
      "name": "How do you like them apples (Model Training).ipynb",
      "version": "0.3.2",
      "provenance": [],
      "include_colab_link": true
    },
    "kernelspec": {
      "name": "python3",
      "display_name": "Python 3"
    },
    "accelerator": "GPU"
  },
  "cells": [
    {
      "cell_type": "markdown",
      "metadata": {
        "id": "view-in-github",
        "colab_type": "text"
      },
      "source": [
        "<a href=\"https://colab.research.google.com/github/maniceet/How-do-you-like-them-Apples/blob/master/How_do_you_like_them_apples_(Model_Training).ipynb\" target=\"_parent\"><img src=\"https://colab.research.google.com/assets/colab-badge.svg\" alt=\"Open In Colab\"/></a>"
      ]
    },
    {
      "cell_type": "code",
      "metadata": {
        "id": "dFlZS2dQLgof",
        "colab_type": "code",
        "colab": {}
      },
      "source": [
        "#Importing Packages\n",
        "import pandas as pd\n",
        "import numpy as np\n",
        "import os\n",
        "from matplotlib import pyplot as plt\n",
        "import re, string, unicodedata\n",
        "from bs4 import BeautifulSoup\n",
        "from sklearn.pipeline import Pipeline\n",
        "from functools import reduce\n",
        "from fastai.text import *\n",
        "%matplotlib inline\n",
        "\n",
        "pd.set_option('display.max_rows', 500)\n",
        "pd.set_option('display.max_columns', 500)\n",
        "pd.set_option('display.width', 1000)"
      ],
      "execution_count": 0,
      "outputs": []
    },
    {
      "cell_type": "code",
      "metadata": {
        "id": "XE8EtTypLurb",
        "colab_type": "code",
        "colab": {}
      },
      "source": [
        "#Defining class to read txt file by paragraphs rather than by line\n",
        "class ByParagraph:\n",
        "\n",
        "\n",
        "    def __init__(self, text):\n",
        "        self.text = text\n",
        "\n",
        "\n",
        "    def __iter__(self):\n",
        "        return self\n",
        "        par = \"\"\n",
        "\n",
        "\n",
        "    def __next__(self):\n",
        "        par = []\n",
        "        for line in self.text:\n",
        "            if line.isspace():\n",
        "                break\n",
        "            par.append(line.strip())\n",
        "        else:\n",
        "            if not par:\n",
        "                raise StopIteration()\n",
        "        return ' '.join(par)\n"
      ],
      "execution_count": 0,
      "outputs": []
    },
    {
      "cell_type": "code",
      "metadata": {
        "id": "Q0Hbi_7kL01z",
        "colab_type": "code",
        "colab": {}
      },
      "source": [
        "# Adding all paragraphs to a list for apple computers txt\n",
        "apple_computers = []\n",
        "with open('apple-computers.txt',\"r\", encoding=\"utf8\") as f:\n",
        "  for par in ByParagraph(f):\n",
        "        if par == \"\":\n",
        "            continue\n",
        "        else:\n",
        "            apple_computers.append(par)"
      ],
      "execution_count": 0,
      "outputs": []
    },
    {
      "cell_type": "code",
      "metadata": {
        "id": "I7iJk-g7L4eK",
        "colab_type": "code",
        "colab": {}
      },
      "source": [
        "# Adding all paragraphs to a list for apple fruit txt\n",
        "apple_fruits = []\n",
        "with open('apple-fruit.txt',\"r\", encoding=\"utf8\") as f:\n",
        "  for par in ByParagraph(f):\n",
        "        if par == \"\":\n",
        "            continue\n",
        "        else:\n",
        "            apple_fruits.append(par)"
      ],
      "execution_count": 0,
      "outputs": []
    },
    {
      "cell_type": "code",
      "metadata": {
        "id": "uiqM0uhYL81I",
        "colab_type": "code",
        "colab": {}
      },
      "source": [
        "#Creating Training Data Frame\n",
        "label = ['computer-company']*21 + ['fruit']*21\n",
        "text = apple_computers + apple_fruits\n",
        "\n",
        "df = pd.DataFrame(list(zip(text, label)), columns=['text', 'label'])\n"
      ],
      "execution_count": 0,
      "outputs": []
    },
    {
      "cell_type": "code",
      "metadata": {
        "id": "I-UcSYcSL9Jz",
        "colab_type": "code",
        "colab": {
          "base_uri": "https://localhost:8080/",
          "height": 195
        },
        "outputId": "38182c93-ee25-459e-fe07-bb89270d1da4"
      },
      "source": [
        "df.head()"
      ],
      "execution_count": 146,
      "outputs": [
        {
          "output_type": "execute_result",
          "data": {
            "text/html": [
              "<div>\n",
              "<style scoped>\n",
              "    .dataframe tbody tr th:only-of-type {\n",
              "        vertical-align: middle;\n",
              "    }\n",
              "\n",
              "    .dataframe tbody tr th {\n",
              "        vertical-align: top;\n",
              "    }\n",
              "\n",
              "    .dataframe thead th {\n",
              "        text-align: right;\n",
              "    }\n",
              "</style>\n",
              "<table border=\"1\" class=\"dataframe\">\n",
              "  <thead>\n",
              "    <tr style=\"text-align: right;\">\n",
              "      <th></th>\n",
              "      <th>text</th>\n",
              "      <th>label</th>\n",
              "    </tr>\n",
              "  </thead>\n",
              "  <tbody>\n",
              "    <tr>\n",
              "      <th>0</th>\n",
              "      <td>Apple Inc. From Wikipedia, the free encycloped...</td>\n",
              "      <td>computer-company</td>\n",
              "    </tr>\n",
              "    <tr>\n",
              "      <th>1</th>\n",
              "      <td>The Apple I, Apple's first product, was sold a...</td>\n",
              "      <td>computer-company</td>\n",
              "    </tr>\n",
              "    <tr>\n",
              "      <th>2</th>\n",
              "      <td>Apple's \"1984\" television ad, set in a dystopi...</td>\n",
              "      <td>computer-company</td>\n",
              "    </tr>\n",
              "    <tr>\n",
              "      <th>3</th>\n",
              "      <td>The first Macintosh, released in 1984 In 1984,...</td>\n",
              "      <td>computer-company</td>\n",
              "    </tr>\n",
              "    <tr>\n",
              "      <th>4</th>\n",
              "      <td>The Macintosh Portable was Apple's first \"port...</td>\n",
              "      <td>computer-company</td>\n",
              "    </tr>\n",
              "  </tbody>\n",
              "</table>\n",
              "</div>"
            ],
            "text/plain": [
              "                                                text             label\n",
              "0  Apple Inc. From Wikipedia, the free encycloped...  computer-company\n",
              "1  The Apple I, Apple's first product, was sold a...  computer-company\n",
              "2  Apple's \"1984\" television ad, set in a dystopi...  computer-company\n",
              "3  The first Macintosh, released in 1984 In 1984,...  computer-company\n",
              "4  The Macintosh Portable was Apple's first \"port...  computer-company"
            ]
          },
          "metadata": {
            "tags": []
          },
          "execution_count": 146
        }
      ]
    },
    {
      "cell_type": "code",
      "metadata": {
        "id": "Mxy-4u88MABl",
        "colab_type": "code",
        "colab": {
          "base_uri": "https://localhost:8080/",
          "height": 302
        },
        "outputId": "fb25e79e-08f0-4dbb-9359-612661c31272"
      },
      "source": [
        "# Summarize Paragraph length\n",
        "print(\"Paragraph Length: \")\n",
        "result = [len(text) for text in df.text]\n",
        "print(\"Mean %.2f words (median - %f)\" % (np.mean(result), np.median(result)))\n",
        "# plot review length\n",
        "plt.boxplot(result)\n",
        "plt.show()"
      ],
      "execution_count": 147,
      "outputs": [
        {
          "output_type": "stream",
          "text": [
            "Paragraph Length: \n",
            "Mean 2456.05 words (median - 2031.500000)\n"
          ],
          "name": "stdout"
        },
        {
          "output_type": "display_data",
          "data": {
            "image/png": "[encoded data removed]",
            "text/plain": [
              "<Figure size 432x288 with 1 Axes>"
            ]
          },
          "metadata": {
            "tags": []
          }
        }
      ]
    },
    {
      "cell_type": "code",
      "metadata": {
        "id": "PhHpuV3CMAvL",
        "colab_type": "code",
        "colab": {}
      },
      "source": [
        "#Cleaning Training Data\n",
        "\n",
        "#Remove HTML Tags\n",
        "def strip_html_tags(text):\n",
        "    soup = BeautifulSoup(text, \"html.parser\")\n",
        "    stripped_text = soup.get_text()\n",
        "    return stripped_text\n",
        "r_html = lambda x: strip_html_tags(x)\n",
        "\n",
        "#Remove accented characters\n",
        "\n",
        "def remove_accented_chars(text):\n",
        "    text = unicodedata.normalize('NFKD', text).encode('ascii', 'ignore').decode('utf-8', 'ignore')\n",
        "    return text\n",
        "\n",
        "r_accented = lambda x: remove_accented_chars(x)\n",
        "\n",
        "#Expand Contractions\n",
        "\n",
        "from contraction import expand_contractions\n",
        "expand = lambda x: expand_contractions(x)\n",
        "\n",
        "\n",
        "#Remove special characters\n",
        "\n",
        "def remove_special_characters(text, remove_digits=False):\n",
        "    #text = text.lower()\n",
        "    text = re.sub('\\w*\\d\\w*', '', text) #Removing words that have numbers in them\n",
        "    pattern = r'[^a-zA-z0-9.\\s]' if not remove_digits else r'[^a-zA-z\\s]'\n",
        "    text = re.sub(pattern, '', text)\n",
        "    pattern = r'[''\"\"_]' #Removing punctuations and underscores\n",
        "    text = re.sub(pattern, '', text)\n",
        "    text = re.sub(r'(.)\\1+', r'\\1\\1', text)   #Removing characters that appear more than twice\n",
        "    text = re.sub(r'\\[', \"\",text)\n",
        "    text = re.sub(r'\\]', \"\",text)\n",
        "    text = text.replace('\\t', ' ')\n",
        "    return text"
      ],
      "execution_count": 0,
      "outputs": []
    },
    {
      "cell_type": "code",
      "metadata": {
        "id": "cP8dLbrSME_u",
        "colab_type": "code",
        "colab": {}
      },
      "source": [
        "functions = [strip_html_tags, remove_accented_chars, expand_contractions, remove_special_characters]\n",
        "\n",
        "for fun in functions:\n",
        "    df['text'] = df['text'].apply(fun)"
      ],
      "execution_count": 0,
      "outputs": []
    },
    {
      "cell_type": "code",
      "metadata": {
        "id": "jpvDMZrXO4dn",
        "colab_type": "code",
        "colab": {}
      },
      "source": [
        "from sklearn.model_selection import train_test_split\n",
        "\n",
        "train_df, valid_df = train_test_split(df, test_size = 0.3, stratify = df['label'])"
      ],
      "execution_count": 0,
      "outputs": []
    },
    {
      "cell_type": "code",
      "metadata": {
        "id": "JoCWqbiaPhiC",
        "colab_type": "code",
        "colab": {
          "base_uri": "https://localhost:8080/",
          "height": 195
        },
        "outputId": "23434379-6897-431d-a8bf-ff9da41cd0cf"
      },
      "source": [
        "train_df.head()"
      ],
      "execution_count": 151,
      "outputs": [
        {
          "output_type": "execute_result",
          "data": {
            "text/html": [
              "<div>\n",
              "<style scoped>\n",
              "    .dataframe tbody tr th:only-of-type {\n",
              "        vertical-align: middle;\n",
              "    }\n",
              "\n",
              "    .dataframe tbody tr th {\n",
              "        vertical-align: top;\n",
              "    }\n",
              "\n",
              "    .dataframe thead th {\n",
              "        text-align: right;\n",
              "    }\n",
              "</style>\n",
              "<table border=\"1\" class=\"dataframe\">\n",
              "  <thead>\n",
              "    <tr style=\"text-align: right;\">\n",
              "      <th></th>\n",
              "      <th>text</th>\n",
              "      <th>label</th>\n",
              "    </tr>\n",
              "  </thead>\n",
              "  <tbody>\n",
              "    <tr>\n",
              "      <th>12</th>\n",
              "      <td>The  iPod Shuffle iPod Nano iPod Classic and i...</td>\n",
              "      <td>computer-company</td>\n",
              "    </tr>\n",
              "    <tr>\n",
              "      <th>9</th>\n",
              "      <td>See also Timeline of Apple products and List o...</td>\n",
              "      <td>computer-company</td>\n",
              "    </tr>\n",
              "    <tr>\n",
              "      <th>17</th>\n",
              "      <td>See also List of mergers and acquisitions by A...</td>\n",
              "      <td>computer-company</td>\n",
              "    </tr>\n",
              "    <tr>\n",
              "      <th>24</th>\n",
              "      <td>Blossoms fruits and leaves of the apple tree M...</td>\n",
              "      <td>fruit</td>\n",
              "    </tr>\n",
              "    <tr>\n",
              "      <th>13</th>\n",
              "      <td>The original iPhone  and  to scale. Main artic...</td>\n",
              "      <td>computer-company</td>\n",
              "    </tr>\n",
              "  </tbody>\n",
              "</table>\n",
              "</div>"
            ],
            "text/plain": [
              "                                                 text             label\n",
              "12  The  iPod Shuffle iPod Nano iPod Classic and i...  computer-company\n",
              "9   See also Timeline of Apple products and List o...  computer-company\n",
              "17  See also List of mergers and acquisitions by A...  computer-company\n",
              "24  Blossoms fruits and leaves of the apple tree M...             fruit\n",
              "13  The original iPhone  and  to scale. Main artic...  computer-company"
            ]
          },
          "metadata": {
            "tags": []
          },
          "execution_count": 151
        }
      ]
    },
    {
      "cell_type": "code",
      "metadata": {
        "id": "CtMxKqupPhUx",
        "colab_type": "code",
        "colab": {
          "base_uri": "https://localhost:8080/",
          "height": 195
        },
        "outputId": "e84b99a1-c237-4c0b-b27b-e412b6eea526"
      },
      "source": [
        "valid_df.head()"
      ],
      "execution_count": 152,
      "outputs": [
        {
          "output_type": "execute_result",
          "data": {
            "text/html": [
              "<div>\n",
              "<style scoped>\n",
              "    .dataframe tbody tr th:only-of-type {\n",
              "        vertical-align: middle;\n",
              "    }\n",
              "\n",
              "    .dataframe tbody tr th {\n",
              "        vertical-align: top;\n",
              "    }\n",
              "\n",
              "    .dataframe thead th {\n",
              "        text-align: right;\n",
              "    }\n",
              "</style>\n",
              "<table border=\"1\" class=\"dataframe\">\n",
              "  <thead>\n",
              "    <tr style=\"text-align: right;\">\n",
              "      <th></th>\n",
              "      <th>text</th>\n",
              "      <th>label</th>\n",
              "    </tr>\n",
              "  </thead>\n",
              "  <tbody>\n",
              "    <tr>\n",
              "      <th>27</th>\n",
              "      <td>Brita as Iduna  by Carl Larsson Germanic pagan...</td>\n",
              "      <td>fruit</td>\n",
              "    </tr>\n",
              "    <tr>\n",
              "      <th>28</th>\n",
              "      <td>Heracles with the apple of Hesperides Apples a...</td>\n",
              "      <td>fruit</td>\n",
              "    </tr>\n",
              "    <tr>\n",
              "      <th>25</th>\n",
              "      <td>Wild Malus sieversii apple in Kazakhstan The c...</td>\n",
              "      <td>fruit</td>\n",
              "    </tr>\n",
              "    <tr>\n",
              "      <th>26</th>\n",
              "      <td>Main article Apple symbolism</td>\n",
              "      <td>fruit</td>\n",
              "    </tr>\n",
              "    <tr>\n",
              "      <th>23</th>\n",
              "      <td>Botanical information</td>\n",
              "      <td>fruit</td>\n",
              "    </tr>\n",
              "  </tbody>\n",
              "</table>\n",
              "</div>"
            ],
            "text/plain": [
              "                                                 text  label\n",
              "27  Brita as Iduna  by Carl Larsson Germanic pagan...  fruit\n",
              "28  Heracles with the apple of Hesperides Apples a...  fruit\n",
              "25  Wild Malus sieversii apple in Kazakhstan The c...  fruit\n",
              "26                       Main article Apple symbolism  fruit\n",
              "23                              Botanical information  fruit"
            ]
          },
          "metadata": {
            "tags": []
          },
          "execution_count": 152
        }
      ]
    },
    {
      "cell_type": "code",
      "metadata": {
        "id": "ayVY3FZXP-M3",
        "colab_type": "code",
        "colab": {}
      },
      "source": [
        "path = os.getcwd()"
      ],
      "execution_count": 0,
      "outputs": []
    },
    {
      "cell_type": "code",
      "metadata": {
        "id": "tDsJXD5YMIYD",
        "colab_type": "code",
        "colab": {}
      },
      "source": [
        "bs = 16\n",
        "# Language model data\n",
        "data_lm = TextLMDataBunch.from_df(path = os.getcwd(),train_df = train_df, valid_df = valid_df, text_cols= 'text', label_cols= 'label')\n",
        "\n",
        "data_lm.save('data_lm.pkl')"
      ],
      "execution_count": 0,
      "outputs": []
    },
    {
      "cell_type": "code",
      "metadata": {
        "id": "EpH77GICQNsh",
        "colab_type": "code",
        "colab": {}
      },
      "source": [
        "data_lm = load_data(path, 'data_lm.pkl', bs=bs)"
      ],
      "execution_count": 0,
      "outputs": []
    },
    {
      "cell_type": "code",
      "metadata": {
        "id": "InBD1HDxRX_z",
        "colab_type": "code",
        "colab": {
          "base_uri": "https://localhost:8080/",
          "height": 363
        },
        "outputId": "a79df03f-f790-47f6-b237-9114a32e57d1"
      },
      "source": [
        "data_lm.show_batch()"
      ],
      "execution_count": 157,
      "outputs": [
        {
          "output_type": "display_data",
          "data": {
            "text/html": [
              "<table border=\"1\" class=\"dataframe\">\n",
              "  <thead>\n",
              "    <tr style=\"text-align: right;\">\n",
              "      <th>idx</th>\n",
              "      <th>text</th>\n",
              "    </tr>\n",
              "  </thead>\n",
              "  <tbody>\n",
              "    <tr>\n",
              "      <td>0</td>\n",
              "      <td>with xxmaj nike to xxunk the xxunk xxmaj sports xxmaj kit xxunk xxunk to xxunk and monitor their runs with itunes and the xxmaj nike website . xxmaj apple currently sells four variants of the ipod ipod xxmaj shuffle xxmaj xxunk digital audio player currently available in a xxup gb model introduced in . ipod xxmaj nano xxmaj portable media player currently available in a xxup gb model introduced in</td>\n",
              "    </tr>\n",
              "    <tr>\n",
              "      <td>1</td>\n",
              "      <td>generally used for making juice and have little fresh market value . xxmaj the skin of xxunk apples is generally red yellow green or pink although many xxunk or xxunk varieties may be found . xxmaj the skin may also be xxunk or xxunk russeted xxunk xxunk and brown . xxmaj the skin is xxunk in a xxunk layer of xxunk xxunk xxmaj the flesh is generally xxunk xxunk though</td>\n",
              "    </tr>\n",
              "    <tr>\n",
              "      <td>2</td>\n",
              "      <td>the stainless steel band around the edge of the device which also xxunk as the phones cellular signal and wifi antenna . xxmaj the issue was xxunk by a xxmaj bumper xxmaj case xxunk by xxmaj apple for free to all owners for a few months . xxmaj in xxmaj june xxmaj apple xxunk xxmaj nokia to become the worlds biggest smartphone maker by xxunk . xxmaj on xxmaj october</td>\n",
              "    </tr>\n",
              "    <tr>\n",
              "      <td>3</td>\n",
              "      <td>from the xxmaj apple xxup tv . xxmaj in xxmaj september xxmaj apple discontinued the original xxup gb xxmaj apple xxup tv and now xxunk to produce and sell the xxup gb xxmaj apple xxup tv . xxmaj on xxmaj september alongside the release of the new line of ipod devices for the year xxmaj apple released a xxunk xxunk xxmaj apple xxup tv . xxmaj the new device is</td>\n",
              "    </tr>\n",
              "    <tr>\n",
              "      <td>4</td>\n",
              "      <td>xxmaj it has been xxunk that the combination of these three products was responsible for the xxunk of the desktop publishing market . xxmaj the xxmaj mac was xxunk powerful in the desktop publishing market due to its advanced graphics capabilities which had xxunk been xxunk in to create the xxunk xxmaj macintosh xxup gui . xxmaj in a power xxunk developed between xxmaj jobs and xxup ceo xxmaj john</td>\n",
              "    </tr>\n",
              "  </tbody>\n",
              "</table>"
            ],
            "text/plain": [
              "<IPython.core.display.HTML object>"
            ]
          },
          "metadata": {
            "tags": []
          }
        }
      ]
    },
    {
      "cell_type": "code",
      "metadata": {
        "id": "NblitGsqRaGd",
        "colab_type": "code",
        "colab": {}
      },
      "source": [
        "learn = language_model_learner(data_lm, AWD_LSTM, drop_mult=0.3)"
      ],
      "execution_count": 0,
      "outputs": []
    },
    {
      "cell_type": "code",
      "metadata": {
        "id": "BLTgY77qRj0O",
        "colab_type": "code",
        "colab": {
          "base_uri": "https://localhost:8080/",
          "height": 34
        },
        "outputId": "7449d772-9dae-4a73-a04d-eefb403dca5b"
      },
      "source": [
        "learn.lr_find()"
      ],
      "execution_count": 160,
      "outputs": [
        {
          "output_type": "display_data",
          "data": {
            "text/html": [
              ""
            ],
            "text/plain": [
              "<IPython.core.display.HTML object>"
            ]
          },
          "metadata": {
            "tags": []
          }
        },
        {
          "output_type": "stream",
          "text": [
            "LR Finder is complete, type {learner_name}.recorder.plot() to see the graph.\n"
          ],
          "name": "stdout"
        }
      ]
    },
    {
      "cell_type": "code",
      "metadata": {
        "id": "fuX1_o5xRvGR",
        "colab_type": "code",
        "colab": {
          "base_uri": "https://localhost:8080/",
          "height": 283
        },
        "outputId": "309d8cf8-3b92-415f-96e0-5f306ac5ccf9"
      },
      "source": [
        "learn.recorder.plot(skip_end=15)"
      ],
      "execution_count": 161,
      "outputs": [
        {
          "output_type": "display_data",
          "data": {
            "image/png": "[encoded data removed]",
            "text/plain": [
              "<Figure size 432x288 with 1 Axes>"
            ]
          },
          "metadata": {
            "tags": []
          }
        }
      ]
    },
    {
      "cell_type": "code",
      "metadata": {
        "id": "q1qVOrSLR2fM",
        "colab_type": "code",
        "colab": {
          "base_uri": "https://localhost:8080/",
          "height": 77
        },
        "outputId": "ae6a801a-b1cc-4ded-b248-f7d938c328a2"
      },
      "source": [
        "learn.fit_one_cycle(1, 1e-2, moms=(0.8,0.7))"
      ],
      "execution_count": 162,
      "outputs": [
        {
          "output_type": "display_data",
          "data": {
            "text/html": [
              "<table border=\"1\" class=\"dataframe\">\n",
              "  <thead>\n",
              "    <tr style=\"text-align: left;\">\n",
              "      <th>epoch</th>\n",
              "      <th>train_loss</th>\n",
              "      <th>valid_loss</th>\n",
              "      <th>accuracy</th>\n",
              "      <th>time</th>\n",
              "    </tr>\n",
              "  </thead>\n",
              "  <tbody>\n",
              "    <tr>\n",
              "      <td>0</td>\n",
              "      <td>3.705788</td>\n",
              "      <td>3.050062</td>\n",
              "      <td>0.362372</td>\n",
              "      <td>00:00</td>\n",
              "    </tr>\n",
              "  </tbody>\n",
              "</table>"
            ],
            "text/plain": [
              "<IPython.core.display.HTML object>"
            ]
          },
          "metadata": {
            "tags": []
          }
        }
      ]
    },
    {
      "cell_type": "code",
      "metadata": {
        "id": "ymiBM1yxR-o6",
        "colab_type": "code",
        "colab": {}
      },
      "source": [
        "learn.save('fit_head')"
      ],
      "execution_count": 0,
      "outputs": []
    },
    {
      "cell_type": "code",
      "metadata": {
        "id": "SmtGb5WpR_mQ",
        "colab_type": "code",
        "colab": {}
      },
      "source": [
        "learn.load('fit_head');"
      ],
      "execution_count": 0,
      "outputs": []
    },
    {
      "cell_type": "code",
      "metadata": {
        "id": "noIpuN_LSGlL",
        "colab_type": "code",
        "colab": {}
      },
      "source": [
        "learn.unfreeze()"
      ],
      "execution_count": 0,
      "outputs": []
    },
    {
      "cell_type": "code",
      "metadata": {
        "id": "sBw2uyRfSN3x",
        "colab_type": "code",
        "colab": {
          "base_uri": "https://localhost:8080/",
          "height": 343
        },
        "outputId": "3c60154e-75a4-4889-faa5-0f2b499f5e49"
      },
      "source": [
        "learn.fit_one_cycle(10, 1e-2, moms=(0.8,0.7))"
      ],
      "execution_count": 166,
      "outputs": [
        {
          "output_type": "display_data",
          "data": {
            "text/html": [
              "<table border=\"1\" class=\"dataframe\">\n",
              "  <thead>\n",
              "    <tr style=\"text-align: left;\">\n",
              "      <th>epoch</th>\n",
              "      <th>train_loss</th>\n",
              "      <th>valid_loss</th>\n",
              "      <th>accuracy</th>\n",
              "      <th>time</th>\n",
              "    </tr>\n",
              "  </thead>\n",
              "  <tbody>\n",
              "    <tr>\n",
              "      <td>0</td>\n",
              "      <td>3.218893</td>\n",
              "      <td>2.935408</td>\n",
              "      <td>0.377041</td>\n",
              "      <td>00:01</td>\n",
              "    </tr>\n",
              "    <tr>\n",
              "      <td>1</td>\n",
              "      <td>2.910015</td>\n",
              "      <td>3.470449</td>\n",
              "      <td>0.303699</td>\n",
              "      <td>00:01</td>\n",
              "    </tr>\n",
              "    <tr>\n",
              "      <td>2</td>\n",
              "      <td>2.626214</td>\n",
              "      <td>3.747241</td>\n",
              "      <td>0.257015</td>\n",
              "      <td>00:01</td>\n",
              "    </tr>\n",
              "    <tr>\n",
              "      <td>3</td>\n",
              "      <td>2.278730</td>\n",
              "      <td>3.755704</td>\n",
              "      <td>0.291709</td>\n",
              "      <td>00:01</td>\n",
              "    </tr>\n",
              "    <tr>\n",
              "      <td>4</td>\n",
              "      <td>1.843900</td>\n",
              "      <td>3.982887</td>\n",
              "      <td>0.282908</td>\n",
              "      <td>00:01</td>\n",
              "    </tr>\n",
              "    <tr>\n",
              "      <td>5</td>\n",
              "      <td>1.448126</td>\n",
              "      <td>4.032377</td>\n",
              "      <td>0.282015</td>\n",
              "      <td>00:01</td>\n",
              "    </tr>\n",
              "    <tr>\n",
              "      <td>6</td>\n",
              "      <td>1.124884</td>\n",
              "      <td>3.955369</td>\n",
              "      <td>0.290816</td>\n",
              "      <td>00:01</td>\n",
              "    </tr>\n",
              "    <tr>\n",
              "      <td>7</td>\n",
              "      <td>0.873121</td>\n",
              "      <td>3.866679</td>\n",
              "      <td>0.302551</td>\n",
              "      <td>00:01</td>\n",
              "    </tr>\n",
              "    <tr>\n",
              "      <td>8</td>\n",
              "      <td>0.684437</td>\n",
              "      <td>3.875694</td>\n",
              "      <td>0.298342</td>\n",
              "      <td>00:01</td>\n",
              "    </tr>\n",
              "    <tr>\n",
              "      <td>9</td>\n",
              "      <td>0.543109</td>\n",
              "      <td>3.881415</td>\n",
              "      <td>0.299872</td>\n",
              "      <td>00:01</td>\n",
              "    </tr>\n",
              "  </tbody>\n",
              "</table>"
            ],
            "text/plain": [
              "<IPython.core.display.HTML object>"
            ]
          },
          "metadata": {
            "tags": []
          }
        }
      ]
    },
    {
      "cell_type": "code",
      "metadata": {
        "id": "QV5_dr0HSRIa",
        "colab_type": "code",
        "colab": {}
      },
      "source": [
        "learn.save('fine_tuned')"
      ],
      "execution_count": 0,
      "outputs": []
    },
    {
      "cell_type": "code",
      "metadata": {
        "id": "owCcd99uSazr",
        "colab_type": "code",
        "colab": {}
      },
      "source": [
        "learn.load('fine_tuned');"
      ],
      "execution_count": 0,
      "outputs": []
    },
    {
      "cell_type": "code",
      "metadata": {
        "id": "nRoj11KGSbum",
        "colab_type": "code",
        "colab": {}
      },
      "source": [
        "TEXT = \"Steve jobs was \"\n",
        "N_WORDS = 40\n",
        "N_SENTENCES = 2"
      ],
      "execution_count": 0,
      "outputs": []
    },
    {
      "cell_type": "code",
      "metadata": {
        "id": "tmFIQN_iSi44",
        "colab_type": "code",
        "colab": {
          "base_uri": "https://localhost:8080/",
          "height": 70
        },
        "outputId": "4daf370a-24b2-4508-f17c-229142769adf"
      },
      "source": [
        "print(\"\\n\".join(learn.predict(TEXT, N_WORDS, temperature=0.75) for _ in range(N_SENTENCES)))"
      ],
      "execution_count": 170,
      "outputs": [
        {
          "output_type": "stream",
          "text": [
            "Steve jobs was  aired in the United States List of New Macbook Pro Apples first laptop with an Intel announced in February . At the Worldwide Developers Conference keynote meeting\n",
            "Steve jobs was  present in January Steve Jobs introduced the iphone in a board and the Apple Lisa in with other countries set to sell the Apple i personal computer kit a computer single xxbos The\n"
          ],
          "name": "stdout"
        }
      ]
    },
    {
      "cell_type": "code",
      "metadata": {
        "id": "kSIRozqnSmEH",
        "colab_type": "code",
        "colab": {}
      },
      "source": [
        "learn.save_encoder('fine_tuned_enc')"
      ],
      "execution_count": 0,
      "outputs": []
    },
    {
      "cell_type": "code",
      "metadata": {
        "id": "3suj13P6Tuo0",
        "colab_type": "code",
        "colab": {}
      },
      "source": [
        "# Classifier model data\n",
        "data_clas = TextClasDataBunch.from_df(path = os.getcwd(), train_df = train_df, valid_df = valid_df, text_cols= 'text', label_cols= 'label', bs=16)"
      ],
      "execution_count": 0,
      "outputs": []
    },
    {
      "cell_type": "code",
      "metadata": {
        "id": "Cjaz9MZlUSQd",
        "colab_type": "code",
        "colab": {
          "base_uri": "https://localhost:8080/",
          "height": 363
        },
        "outputId": "91f6c5cb-dc1a-4445-8423-3559dc869594"
      },
      "source": [
        "data_clas.save('data_clas.pkl')\n",
        "data_clas = load_data(path, 'data_clas.pkl', bs=bs)\n",
        "data_clas.show_batch()"
      ],
      "execution_count": 173,
      "outputs": [
        {
          "output_type": "display_data",
          "data": {
            "text/html": [
              "<table border=\"1\" class=\"dataframe\">\n",
              "  <thead>\n",
              "    <tr style=\"text-align: right;\">\n",
              "      <th>text</th>\n",
              "      <th>target</th>\n",
              "    </tr>\n",
              "  </thead>\n",
              "  <tbody>\n",
              "    <tr>\n",
              "      <td>xxbos xxmaj apple store in xxmaj xxunk xxmaj new xxmaj york xxmaj on xxmaj january xxmaj jobs announced in an internal xxmaj apple memo that he would take another xxunk leave of absence for an xxunk period to allow him to focus on his health . xxmaj xxunk operating xxunk xxmaj tim xxmaj cook xxunk xxmaj jobs xxunk operations at xxmaj apple although xxmaj jobs would still xxunk xxunk in</td>\n",
              "      <td>computer-company</td>\n",
              "    </tr>\n",
              "    <tr>\n",
              "      <td>xxbos xxmaj the macbook xxmaj pro xxmaj apples first laptop with an xxmaj intel xxunk announced in xxmaj january . xxmaj at the xxmaj worldwide xxmaj developers xxmaj conference keynote xxunk on xxmaj june xxmaj steve xxmaj jobs announced that xxmaj apple would xxunk producing xxmaj xxunk xxmaj mac computers in . xxmaj on xxmaj january the new macbook xxmaj pro and imac became the first xxmaj apple computers to</td>\n",
              "      <td>computer-company</td>\n",
              "    </tr>\n",
              "    <tr>\n",
              "      <td>xxbos xxmaj the original iphone and to scale . xxmaj main article iphone xxmaj at the xxmaj macworld xxmaj conference xxmaj expo in xxmaj january xxmaj steve xxmaj jobs introduced the xxunk iphone a xxunk of an xxmaj xxunk smartphone and ipod . xxmaj the original iphone was released on xxmaj june for xxup gb and xxup gb with an xxup att contract . xxmaj on xxmaj february it was</td>\n",
              "      <td>computer-company</td>\n",
              "    </tr>\n",
              "    <tr>\n",
              "      <td>xxbos xxmaj the current generation xxmaj apple xxup tv . xxmaj at the xxmaj macworld conference xxmaj jobs xxunk the xxmaj apple xxup tv xxunk known as the xxunk a xxunk video device xxunk to xxunk the sale of content from itunes with xxunk xxunk . xxmaj the device xxunk up to a users xxup tv and xxunk either xxunk wifi or a xxunk network with one computers itunes library</td>\n",
              "      <td>computer-company</td>\n",
              "    </tr>\n",
              "    <tr>\n",
              "      <td>xxbos xxmaj apple xxmaj inc. xxmaj from xxmaj xxunk the free xxunk xxmaj this article is about the technology company . xxmaj for other companies named xxmaj apple see xxmaj apple disambiguation . xxmaj page xxunk xxmaj xxunk . . xxmaj apple xxmaj inc. xxmaj apple logo xxunk xxmaj logo used since xxmaj type xxmaj public xxmaj traded as xxup nasdaq xxup xxunk xxup nasdaq component xxup xxunk component xxmaj</td>\n",
              "      <td>computer-company</td>\n",
              "    </tr>\n",
              "  </tbody>\n",
              "</table>"
            ],
            "text/plain": [
              "<IPython.core.display.HTML object>"
            ]
          },
          "metadata": {
            "tags": []
          }
        }
      ]
    },
    {
      "cell_type": "code",
      "metadata": {
        "id": "clYmJ683UaWS",
        "colab_type": "code",
        "colab": {}
      },
      "source": [
        "learn = text_classifier_learner(data_clas, AWD_LSTM, drop_mult=0.5)\n",
        "learn.load_encoder('fine_tuned_enc')"
      ],
      "execution_count": 0,
      "outputs": []
    },
    {
      "cell_type": "code",
      "metadata": {
        "id": "zDeyYpyPUlUd",
        "colab_type": "code",
        "colab": {
          "base_uri": "https://localhost:8080/",
          "height": 34
        },
        "outputId": "50872803-5ac2-49e3-90cf-dee65be4271b"
      },
      "source": [
        "learn.lr_find()"
      ],
      "execution_count": 175,
      "outputs": [
        {
          "output_type": "display_data",
          "data": {
            "text/html": [
              ""
            ],
            "text/plain": [
              "<IPython.core.display.HTML object>"
            ]
          },
          "metadata": {
            "tags": []
          }
        },
        {
          "output_type": "stream",
          "text": [
            "LR Finder is complete, type {learner_name}.recorder.plot() to see the graph.\n"
          ],
          "name": "stdout"
        }
      ]
    },
    {
      "cell_type": "code",
      "metadata": {
        "id": "0lwV88t0UofW",
        "colab_type": "code",
        "colab": {
          "base_uri": "https://localhost:8080/",
          "height": 283
        },
        "outputId": "93814fce-2194-4a12-9050-91a81a6d8131"
      },
      "source": [
        "learn.recorder.plot()"
      ],
      "execution_count": 176,
      "outputs": [
        {
          "output_type": "display_data",
          "data": {
            "image/png": "[encoded data removed]",
            "text/plain": [
              "<Figure size 432x288 with 1 Axes>"
            ]
          },
          "metadata": {
            "tags": []
          }
        }
      ]
    },
    {
      "cell_type": "code",
      "metadata": {
        "id": "EYj6y280U1Mn",
        "colab_type": "code",
        "colab": {
          "base_uri": "https://localhost:8080/",
          "height": 77
        },
        "outputId": "203cc5a9-b712-44d1-ef61-6ac196f34684"
      },
      "source": [
        "learn.fit_one_cycle(1, 1e-2, moms=(0.8,0.7))"
      ],
      "execution_count": 177,
      "outputs": [
        {
          "output_type": "display_data",
          "data": {
            "text/html": [
              "<table border=\"1\" class=\"dataframe\">\n",
              "  <thead>\n",
              "    <tr style=\"text-align: left;\">\n",
              "      <th>epoch</th>\n",
              "      <th>train_loss</th>\n",
              "      <th>valid_loss</th>\n",
              "      <th>accuracy</th>\n",
              "      <th>time</th>\n",
              "    </tr>\n",
              "  </thead>\n",
              "  <tbody>\n",
              "    <tr>\n",
              "      <td>0</td>\n",
              "      <td>0.721263</td>\n",
              "      <td>0.690006</td>\n",
              "      <td>0.461538</td>\n",
              "      <td>00:01</td>\n",
              "    </tr>\n",
              "  </tbody>\n",
              "</table>"
            ],
            "text/plain": [
              "<IPython.core.display.HTML object>"
            ]
          },
          "metadata": {
            "tags": []
          }
        }
      ]
    },
    {
      "cell_type": "code",
      "metadata": {
        "id": "kbQ3iVjtU6v9",
        "colab_type": "code",
        "colab": {}
      },
      "source": [
        "learn.save('first')\n"
      ],
      "execution_count": 0,
      "outputs": []
    },
    {
      "cell_type": "code",
      "metadata": {
        "id": "D47aXhM9Wv7b",
        "colab_type": "code",
        "colab": {}
      },
      "source": [
        "learn.load('first');"
      ],
      "execution_count": 0,
      "outputs": []
    },
    {
      "cell_type": "code",
      "metadata": {
        "id": "o1C7t2mYVBly",
        "colab_type": "code",
        "colab": {
          "base_uri": "https://localhost:8080/",
          "height": 77
        },
        "outputId": "28dcbe8c-3e1c-46ac-def2-59c882ab9a83"
      },
      "source": [
        "learn.freeze_to(-2)\n",
        "learn.fit_one_cycle(1, slice(1e-2/(2.6**4),1e-2), moms=(0.8,0.7))"
      ],
      "execution_count": 182,
      "outputs": [
        {
          "output_type": "display_data",
          "data": {
            "text/html": [
              "<table border=\"1\" class=\"dataframe\">\n",
              "  <thead>\n",
              "    <tr style=\"text-align: left;\">\n",
              "      <th>epoch</th>\n",
              "      <th>train_loss</th>\n",
              "      <th>valid_loss</th>\n",
              "      <th>accuracy</th>\n",
              "      <th>time</th>\n",
              "    </tr>\n",
              "  </thead>\n",
              "  <tbody>\n",
              "    <tr>\n",
              "      <td>0</td>\n",
              "      <td>0.554242</td>\n",
              "      <td>0.686590</td>\n",
              "      <td>0.461538</td>\n",
              "      <td>00:02</td>\n",
              "    </tr>\n",
              "  </tbody>\n",
              "</table>"
            ],
            "text/plain": [
              "<IPython.core.display.HTML object>"
            ]
          },
          "metadata": {
            "tags": []
          }
        }
      ]
    },
    {
      "cell_type": "code",
      "metadata": {
        "id": "ysQQp2IJVN4y",
        "colab_type": "code",
        "colab": {}
      },
      "source": [
        "learn.save('second')\n"
      ],
      "execution_count": 0,
      "outputs": []
    },
    {
      "cell_type": "code",
      "metadata": {
        "id": "kDZgOOlYW5Yc",
        "colab_type": "code",
        "colab": {}
      },
      "source": [
        "learn.load('second');"
      ],
      "execution_count": 0,
      "outputs": []
    },
    {
      "cell_type": "code",
      "metadata": {
        "id": "JSmI1gqRVYiq",
        "colab_type": "code",
        "colab": {
          "base_uri": "https://localhost:8080/",
          "height": 77
        },
        "outputId": "81d62144-e366-4800-9e39-fba0b1a27af9"
      },
      "source": [
        "learn.freeze_to(-3)\n",
        "learn.fit_one_cycle(1, slice(5e-4/(2.6**4),1e-3), moms=(0.8,0.7))"
      ],
      "execution_count": 190,
      "outputs": [
        {
          "output_type": "display_data",
          "data": {
            "text/html": [
              "<table border=\"1\" class=\"dataframe\">\n",
              "  <thead>\n",
              "    <tr style=\"text-align: left;\">\n",
              "      <th>epoch</th>\n",
              "      <th>train_loss</th>\n",
              "      <th>valid_loss</th>\n",
              "      <th>accuracy</th>\n",
              "      <th>time</th>\n",
              "    </tr>\n",
              "  </thead>\n",
              "  <tbody>\n",
              "    <tr>\n",
              "      <td>0</td>\n",
              "      <td>0.411914</td>\n",
              "      <td>0.685110</td>\n",
              "      <td>0.461538</td>\n",
              "      <td>00:02</td>\n",
              "    </tr>\n",
              "  </tbody>\n",
              "</table>"
            ],
            "text/plain": [
              "<IPython.core.display.HTML object>"
            ]
          },
          "metadata": {
            "tags": []
          }
        }
      ]
    },
    {
      "cell_type": "code",
      "metadata": {
        "id": "wLRYri5tVtQa",
        "colab_type": "code",
        "colab": {}
      },
      "source": [
        "learn.save('third')\n"
      ],
      "execution_count": 0,
      "outputs": []
    },
    {
      "cell_type": "code",
      "metadata": {
        "id": "wyZWBIa7WYW3",
        "colab_type": "code",
        "colab": {}
      },
      "source": [
        "learn.load('third');"
      ],
      "execution_count": 0,
      "outputs": []
    },
    {
      "cell_type": "code",
      "metadata": {
        "id": "0n7pRuKmVxUr",
        "colab_type": "code",
        "colab": {
          "base_uri": "https://localhost:8080/",
          "height": 166
        },
        "outputId": "18881fb6-bac9-4a99-e759-c95a4d3ac5c6"
      },
      "source": [
        "learn.unfreeze()\n",
        "learn.fit_one_cycle(4, slice(1e-2/(2.6**4),5e-2), moms=(0.8,0.7))"
      ],
      "execution_count": 209,
      "outputs": [
        {
          "output_type": "display_data",
          "data": {
            "text/html": [
              "<table border=\"1\" class=\"dataframe\">\n",
              "  <thead>\n",
              "    <tr style=\"text-align: left;\">\n",
              "      <th>epoch</th>\n",
              "      <th>train_loss</th>\n",
              "      <th>valid_loss</th>\n",
              "      <th>accuracy</th>\n",
              "      <th>time</th>\n",
              "    </tr>\n",
              "  </thead>\n",
              "  <tbody>\n",
              "    <tr>\n",
              "      <td>0</td>\n",
              "      <td>0.421289</td>\n",
              "      <td>0.667146</td>\n",
              "      <td>0.615385</td>\n",
              "      <td>00:02</td>\n",
              "    </tr>\n",
              "    <tr>\n",
              "      <td>1</td>\n",
              "      <td>0.304515</td>\n",
              "      <td>0.320154</td>\n",
              "      <td>0.923077</td>\n",
              "      <td>00:02</td>\n",
              "    </tr>\n",
              "    <tr>\n",
              "      <td>2</td>\n",
              "      <td>0.207521</td>\n",
              "      <td>0.217764</td>\n",
              "      <td>0.923077</td>\n",
              "      <td>00:02</td>\n",
              "    </tr>\n",
              "    <tr>\n",
              "      <td>3</td>\n",
              "      <td>0.155252</td>\n",
              "      <td>0.264643</td>\n",
              "      <td>0.923077</td>\n",
              "      <td>00:02</td>\n",
              "    </tr>\n",
              "  </tbody>\n",
              "</table>"
            ],
            "text/plain": [
              "<IPython.core.display.HTML object>"
            ]
          },
          "metadata": {
            "tags": []
          }
        }
      ]
    },
    {
      "cell_type": "code",
      "metadata": {
        "id": "zq6fCjKcWNsO",
        "colab_type": "code",
        "colab": {}
      },
      "source": [
        "learn.save('fine_tuned_classifier')"
      ],
      "execution_count": 0,
      "outputs": []
    },
    {
      "cell_type": "code",
      "metadata": {
        "id": "lMzBqXA7X4dt",
        "colab_type": "code",
        "colab": {
          "base_uri": "https://localhost:8080/",
          "height": 34
        },
        "outputId": "95be1e6b-59f7-4a7b-c3a4-b132416c4dae"
      },
      "source": [
        "learn.predict(\"When Steve Jobs stepped down as Apple's CEO in August 2011, people said it was the end of an era. The departure of Apple design chief Jony Ive, announced Thursday, is the latest sign of the new Apple. \\\n",
        "For the past couple of decades, Apple has gone through one of the most dramatic resurgences in history. Its tale of dramatic rise under co-founder Jobs, its decline and near death after his ouster, and then its rebirth are the stuff of Silicon Valley legend\")"
      ],
      "execution_count": 211,
      "outputs": [
        {
          "output_type": "execute_result",
          "data": {
            "text/plain": [
              "(Category computer-company, tensor(0), tensor([0.9403, 0.0597]))"
            ]
          },
          "metadata": {
            "tags": []
          },
          "execution_count": 211
        }
      ]
    },
    {
      "cell_type": "code",
      "metadata": {
        "id": "oBjPKwVHYV60",
        "colab_type": "code",
        "colab": {
          "base_uri": "https://localhost:8080/",
          "height": 34
        },
        "outputId": "59b8e18a-2729-4674-ba61-41358de2c28f"
      },
      "source": [
        "learn.predict('ve and Jobs were close friends, bonding over frequent lunches and a similar sensibility for design. \"We on the first meeting, in a quite shocking way, really did click,\" Ive said in a rare interview in 2017. \"We just established an immediate understanding.\"')"
      ],
      "execution_count": 212,
      "outputs": [
        {
          "output_type": "execute_result",
          "data": {
            "text/plain": [
              "(Category computer-company, tensor(0), tensor([0.8515, 0.1485]))"
            ]
          },
          "metadata": {
            "tags": []
          },
          "execution_count": 212
        }
      ]
    },
    {
      "cell_type": "code",
      "metadata": {
        "id": "-QVJuTDXYh7L",
        "colab_type": "code",
        "colab": {
          "base_uri": "https://localhost:8080/",
          "height": 34
        },
        "outputId": "91bbed92-bc81-4ef9-8324-a992738bdacb"
      },
      "source": [
        "learn.predict('The departure of Ive, whose soft, British voice introduced Apple hardware in countless sizzle reels, is the latest sign of major shifts within Apple. The company grew to become one of the worlds most profitable and highly valued companies, worth nearly $1 trillion, on the back of the iPhone.')"
      ],
      "execution_count": 213,
      "outputs": [
        {
          "output_type": "execute_result",
          "data": {
            "text/plain": [
              "(Category computer-company, tensor(0), tensor([0.8643, 0.1357]))"
            ]
          },
          "metadata": {
            "tags": []
          },
          "execution_count": 213
        }
      ]
    },
    {
      "cell_type": "code",
      "metadata": {
        "id": "J1xUps9rYqKj",
        "colab_type": "code",
        "colab": {
          "base_uri": "https://localhost:8080/",
          "height": 34
        },
        "outputId": "2c3612cc-3f07-41a9-ee05-8bf2d45d2510"
      },
      "source": [
        "learn.predict('The gardens of Kashmir have the best Apples grown all over the world')"
      ],
      "execution_count": 214,
      "outputs": [
        {
          "output_type": "execute_result",
          "data": {
            "text/plain": [
              "(Category computer-company, tensor(0), tensor([0.7245, 0.2755]))"
            ]
          },
          "metadata": {
            "tags": []
          },
          "execution_count": 214
        }
      ]
    },
    {
      "cell_type": "code",
      "metadata": {
        "id": "ROtDu5FWaFx3",
        "colab_type": "code",
        "colab": {
          "base_uri": "https://localhost:8080/",
          "height": 34
        },
        "outputId": "caa15544-ad9d-41ae-b01a-a26a036805fd"
      },
      "source": [
        "learn.predict('The gardens of Kashmir have the best Apples grown all over the world')[0]"
      ],
      "execution_count": 215,
      "outputs": [
        {
          "output_type": "execute_result",
          "data": {
            "text/plain": [
              "Category computer-company"
            ]
          },
          "metadata": {
            "tags": []
          },
          "execution_count": 215
        }
      ]
    },
    {
      "cell_type": "code",
      "metadata": {
        "id": "JzLK_BIOaqxn",
        "colab_type": "code",
        "colab": {
          "base_uri": "https://localhost:8080/",
          "height": 34
        },
        "outputId": "95cdcc6e-18f3-436c-bdbd-7415f04a717c"
      },
      "source": [
        "learn.data.batch_size"
      ],
      "execution_count": 216,
      "outputs": [
        {
          "output_type": "execute_result",
          "data": {
            "text/plain": [
              "16"
            ]
          },
          "metadata": {
            "tags": []
          },
          "execution_count": 216
        }
      ]
    },
    {
      "cell_type": "code",
      "metadata": {
        "id": "i1AV82FgbJlP",
        "colab_type": "code",
        "colab": {}
      },
      "source": [
        "test_df = df\n",
        "learn.data.add_test(test_df['label'])\n",
        "prob_preds = learn.get_preds(ds_type=DatasetType.Test, ordered=True)"
      ],
      "execution_count": 0,
      "outputs": []
    },
    {
      "cell_type": "code",
      "metadata": {
        "id": "Xnc4FTjzbMqr",
        "colab_type": "code",
        "colab": {
          "base_uri": "https://localhost:8080/",
          "height": 50
        },
        "outputId": "e9e63f60-f6ee-4c01-8f9e-5cb9aca93d5b"
      },
      "source": [
        "prob_preds[1]"
      ],
      "execution_count": 218,
      "outputs": [
        {
          "output_type": "execute_result",
          "data": {
            "text/plain": [
              "tensor([0, 0, 0, 0, 0, 0, 0, 0, 0, 0, 0, 0, 0, 0, 0, 0, 0, 0, 0, 0, 0, 0, 0, 0,\n",
              "        0, 0, 0, 0, 0, 0, 0, 0, 0, 0, 0, 0, 0, 0, 0, 0, 0, 0])"
            ]
          },
          "metadata": {
            "tags": []
          },
          "execution_count": 218
        }
      ]
    },
    {
      "cell_type": "code",
      "metadata": {
        "id": "QRGR4u0RcxNT",
        "colab_type": "code",
        "colab": {}
      },
      "source": [
        ""
      ],
      "execution_count": 0,
      "outputs": []
    }
  ]
}