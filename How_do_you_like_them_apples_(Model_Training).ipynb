{
  "nbformat": 4,
  "nbformat_minor": 0,
  "metadata": {
    "colab": {
      "name": "How do you like them apples (Model Training).ipynb",
      "version": "0.3.2",
      "provenance": [],
      "include_colab_link": true
    },
    "kernelspec": {
      "name": "python3",
      "display_name": "Python 3"
    },
    "accelerator": "GPU"
  },
  "cells": [
    {
      "cell_type": "markdown",
      "metadata": {
        "id": "view-in-github",
        "colab_type": "text"
      },
      "source": [
        "<a href=\"https://colab.research.google.com/github/maniceet/How-do-you-like-them-Apples/blob/master/How_do_you_like_them_apples_(Model_Training).ipynb\" target=\"_parent\"><img src=\"https://colab.research.google.com/assets/colab-badge.svg\" alt=\"Open In Colab\"/></a>"
      ]
    },
    {
      "cell_type": "code",
      "metadata": {
        "id": "dFlZS2dQLgof",
        "colab_type": "code",
        "colab": {}
      },
      "source": [
        "#Importing Packages\n",
        "import pandas as pd\n",
        "import numpy as np\n",
        "import os\n",
        "from matplotlib import pyplot as plt\n",
        "import re, string, unicodedata\n",
        "from bs4 import BeautifulSoup\n",
        "from sklearn.pipeline import Pipeline\n",
        "from functools import reduce\n",
        "from fastai.text import *\n",
        "%matplotlib inline\n",
        "\n",
        "pd.set_option('display.max_rows', 500)\n",
        "pd.set_option('display.max_columns', 500)\n",
        "pd.set_option('display.width', 1000)"
      ],
      "execution_count": 0,
      "outputs": []
    },
    {
      "cell_type": "code",
      "metadata": {
        "id": "XE8EtTypLurb",
        "colab_type": "code",
        "colab": {}
      },
      "source": [
        "#Defining class to read txt file by paragraphs rather than by line\n",
        "class ByParagraph:\n",
        "\n",
        "\n",
        "    def __init__(self, text):\n",
        "        self.text = text\n",
        "\n",
        "\n",
        "    def __iter__(self):\n",
        "        return self\n",
        "        par = \"\"\n",
        "\n",
        "\n",
        "    def __next__(self):\n",
        "        par = []\n",
        "        for line in self.text:\n",
        "            if line.isspace():\n",
        "                break\n",
        "            par.append(line.strip())\n",
        "        else:\n",
        "            if not par:\n",
        "                raise StopIteration()\n",
        "        return ' '.join(par)\n"
      ],
      "execution_count": 0,
      "outputs": []
    },
    {
      "cell_type": "code",
      "metadata": {
        "id": "Q0Hbi_7kL01z",
        "colab_type": "code",
        "colab": {}
      },
      "source": [
        "# Adding all paragraphs to a list for apple computers txt\n",
        "apple_computers = []\n",
        "with open('apple-computers.txt',\"r\", encoding=\"utf8\") as f:\n",
        "  for par in ByParagraph(f):\n",
        "        if par == \"\":\n",
        "            continue\n",
        "        else:\n",
        "            apple_computers.append(par)"
      ],
      "execution_count": 0,
      "outputs": []
    },
    {
      "cell_type": "code",
      "metadata": {
        "id": "I7iJk-g7L4eK",
        "colab_type": "code",
        "colab": {}
      },
      "source": [
        "# Adding all paragraphs to a list for apple fruit txt\n",
        "apple_fruits = []\n",
        "with open('apple-fruit.txt',\"r\", encoding=\"utf8\") as f:\n",
        "  for par in ByParagraph(f):\n",
        "        if par == \"\":\n",
        "            continue\n",
        "        else:\n",
        "            apple_fruits.append(par)"
      ],
      "execution_count": 0,
      "outputs": []
    },
    {
      "cell_type": "code",
      "metadata": {
        "id": "uiqM0uhYL81I",
        "colab_type": "code",
        "colab": {}
      },
      "source": [
        "#Creating Training Data Frame\n",
        "label = ['computer-company']*21 + ['fruit']*21\n",
        "text = apple_computers + apple_fruits\n",
        "\n",
        "df = pd.DataFrame(list(zip(text, label)), columns=['text', 'label'])\n"
      ],
      "execution_count": 0,
      "outputs": []
    },
    {
      "cell_type": "code",
      "metadata": {
        "id": "I-UcSYcSL9Jz",
        "colab_type": "code",
        "colab": {
          "base_uri": "https://localhost:8080/",
          "height": 195
        },
        "outputId": "952b73e1-a183-4347-f41a-378c4159d01c"
      },
      "source": [
        "df.head()"
      ],
      "execution_count": 6,
      "outputs": [
        {
          "output_type": "execute_result",
          "data": {
            "text/html": [
              "<div>\n",
              "<style scoped>\n",
              "    .dataframe tbody tr th:only-of-type {\n",
              "        vertical-align: middle;\n",
              "    }\n",
              "\n",
              "    .dataframe tbody tr th {\n",
              "        vertical-align: top;\n",
              "    }\n",
              "\n",
              "    .dataframe thead th {\n",
              "        text-align: right;\n",
              "    }\n",
              "</style>\n",
              "<table border=\"1\" class=\"dataframe\">\n",
              "  <thead>\n",
              "    <tr style=\"text-align: right;\">\n",
              "      <th></th>\n",
              "      <th>text</th>\n",
              "      <th>label</th>\n",
              "    </tr>\n",
              "  </thead>\n",
              "  <tbody>\n",
              "    <tr>\n",
              "      <th>0</th>\n",
              "      <td>Apple Inc. From Wikipedia, the free encycloped...</td>\n",
              "      <td>computer-company</td>\n",
              "    </tr>\n",
              "    <tr>\n",
              "      <th>1</th>\n",
              "      <td>The Apple I, Apple's first product, was sold a...</td>\n",
              "      <td>computer-company</td>\n",
              "    </tr>\n",
              "    <tr>\n",
              "      <th>2</th>\n",
              "      <td>Apple's \"1984\" television ad, set in a dystopi...</td>\n",
              "      <td>computer-company</td>\n",
              "    </tr>\n",
              "    <tr>\n",
              "      <th>3</th>\n",
              "      <td>The first Macintosh, released in 1984 In 1984,...</td>\n",
              "      <td>computer-company</td>\n",
              "    </tr>\n",
              "    <tr>\n",
              "      <th>4</th>\n",
              "      <td>The Macintosh Portable was Apple's first \"port...</td>\n",
              "      <td>computer-company</td>\n",
              "    </tr>\n",
              "  </tbody>\n",
              "</table>\n",
              "</div>"
            ],
            "text/plain": [
              "                                                text             label\n",
              "0  Apple Inc. From Wikipedia, the free encycloped...  computer-company\n",
              "1  The Apple I, Apple's first product, was sold a...  computer-company\n",
              "2  Apple's \"1984\" television ad, set in a dystopi...  computer-company\n",
              "3  The first Macintosh, released in 1984 In 1984,...  computer-company\n",
              "4  The Macintosh Portable was Apple's first \"port...  computer-company"
            ]
          },
          "metadata": {
            "tags": []
          },
          "execution_count": 6
        }
      ]
    },
    {
      "cell_type": "code",
      "metadata": {
        "id": "Mxy-4u88MABl",
        "colab_type": "code",
        "colab": {
          "base_uri": "https://localhost:8080/",
          "height": 302
        },
        "outputId": "47d9c8dc-112e-43cf-cdb1-af7eb4cf65cd"
      },
      "source": [
        "# Summarize Paragraph length\n",
        "print(\"Paragraph Length: \")\n",
        "result = [len(text) for text in df.text]\n",
        "print(\"Mean %.2f words (median - %f)\" % (np.mean(result), np.median(result)))\n",
        "# plot review length\n",
        "plt.boxplot(result)\n",
        "plt.show()"
      ],
      "execution_count": 7,
      "outputs": [
        {
          "output_type": "stream",
          "text": [
            "Paragraph Length: \n",
            "Mean 2456.05 words (median - 2031.500000)\n"
          ],
          "name": "stdout"
        },
        {
          "output_type": "display_data",
          "data": {
            "image/png": "[encoded data removed]",
            "text/plain": [
              "<Figure size 432x288 with 1 Axes>"
            ]
          },
          "metadata": {
            "tags": []
          }
        }
      ]
    },
    {
      "cell_type": "code",
      "metadata": {
        "id": "PhHpuV3CMAvL",
        "colab_type": "code",
        "colab": {}
      },
      "source": [
        "#Cleaning Training Data\n",
        "\n",
        "#Remove HTML Tags\n",
        "def strip_html_tags(text):\n",
        "    soup = BeautifulSoup(text, \"html.parser\")\n",
        "    stripped_text = soup.get_text()\n",
        "    return stripped_text\n",
        "r_html = lambda x: strip_html_tags(x)\n",
        "\n",
        "#Remove accented characters\n",
        "\n",
        "def remove_accented_chars(text):\n",
        "    text = unicodedata.normalize('NFKD', text).encode('ascii', 'ignore').decode('utf-8', 'ignore')\n",
        "    return text\n",
        "\n",
        "r_accented = lambda x: remove_accented_chars(x)\n",
        "\n",
        "#Expand Contractions\n",
        "\n",
        "from contraction import expand_contractions\n",
        "expand = lambda x: expand_contractions(x)\n",
        "\n",
        "\n",
        "#Remove special characters\n",
        "\n",
        "def remove_special_characters(text, remove_digits=False):\n",
        "    #text = text.lower()\n",
        "    text = re.sub('\\w*\\d\\w*', '', text) #Removing words that have numbers in them\n",
        "    pattern = r'[^a-zA-z0-9\\s]' if not remove_digits else r'[^a-zA-z\\s]'\n",
        "    text = re.sub(pattern, '', text)\n",
        "    pattern = r'[''\"\"..._]' #Removing punctuations and underscores\n",
        "    text = re.sub(pattern, '', text)\n",
        "    text = re.sub(r'(.)\\1+', r'\\1\\1', text)   #Removing characters that appear more than twice\n",
        "    text = re.sub(r'\\[', \"\",text)\n",
        "    text = re.sub(r'\\]', \"\",text)\n",
        "    text = text.replace('\\t', ' ')\n",
        "    return text"
      ],
      "execution_count": 0,
      "outputs": []
    },
    {
      "cell_type": "code",
      "metadata": {
        "id": "cP8dLbrSME_u",
        "colab_type": "code",
        "colab": {}
      },
      "source": [
        "functions = [strip_html_tags, remove_accented_chars, expand_contractions, remove_special_characters]\n",
        "\n",
        "for fun in functions:\n",
        "    df['text'] = df['text'].apply(fun)"
      ],
      "execution_count": 0,
      "outputs": []
    },
    {
      "cell_type": "code",
      "metadata": {
        "id": "jpvDMZrXO4dn",
        "colab_type": "code",
        "colab": {}
      },
      "source": [
        "from sklearn.model_selection import train_test_split\n",
        "\n",
        "train_df, valid_df = train_test_split(df, test_size = 0.2, stratify = df['label'])"
      ],
      "execution_count": 0,
      "outputs": []
    },
    {
      "cell_type": "code",
      "metadata": {
        "id": "JoCWqbiaPhiC",
        "colab_type": "code",
        "colab": {
          "base_uri": "https://localhost:8080/",
          "height": 195
        },
        "outputId": "28ca0edc-6951-4a69-c66d-fa029fd1d152"
      },
      "source": [
        "train_df.head()"
      ],
      "execution_count": 15,
      "outputs": [
        {
          "output_type": "execute_result",
          "data": {
            "text/html": [
              "<div>\n",
              "<style scoped>\n",
              "    .dataframe tbody tr th:only-of-type {\n",
              "        vertical-align: middle;\n",
              "    }\n",
              "\n",
              "    .dataframe tbody tr th {\n",
              "        vertical-align: top;\n",
              "    }\n",
              "\n",
              "    .dataframe thead th {\n",
              "        text-align: right;\n",
              "    }\n",
              "</style>\n",
              "<table border=\"1\" class=\"dataframe\">\n",
              "  <thead>\n",
              "    <tr style=\"text-align: right;\">\n",
              "      <th></th>\n",
              "      <th>text</th>\n",
              "      <th>label</th>\n",
              "    </tr>\n",
              "  </thead>\n",
              "  <tbody>\n",
              "    <tr>\n",
              "      <th>25</th>\n",
              "      <td>Wild Malus sieversii apple in Kazakhstan The c...</td>\n",
              "      <td>fruit</td>\n",
              "    </tr>\n",
              "    <tr>\n",
              "      <th>38</th>\n",
              "      <td>Different kinds of apple cultivars in a superm...</td>\n",
              "      <td>fruit</td>\n",
              "    </tr>\n",
              "    <tr>\n",
              "      <th>26</th>\n",
              "      <td>Main article Apple symbolism</td>\n",
              "      <td>fruit</td>\n",
              "    </tr>\n",
              "    <tr>\n",
              "      <th>14</th>\n",
              "      <td>The current generation Apple TV At the  Macwor...</td>\n",
              "      <td>computer-company</td>\n",
              "    </tr>\n",
              "    <tr>\n",
              "      <th>7</th>\n",
              "      <td>The MacBook Pro Apples first laptop with an In...</td>\n",
              "      <td>computer-company</td>\n",
              "    </tr>\n",
              "  </tbody>\n",
              "</table>\n",
              "</div>"
            ],
            "text/plain": [
              "                                                 text             label\n",
              "25  Wild Malus sieversii apple in Kazakhstan The c...             fruit\n",
              "38  Different kinds of apple cultivars in a superm...             fruit\n",
              "26                       Main article Apple symbolism             fruit\n",
              "14  The current generation Apple TV At the  Macwor...  computer-company\n",
              "7   The MacBook Pro Apples first laptop with an In...  computer-company"
            ]
          },
          "metadata": {
            "tags": []
          },
          "execution_count": 15
        }
      ]
    },
    {
      "cell_type": "code",
      "metadata": {
        "id": "CtMxKqupPhUx",
        "colab_type": "code",
        "colab": {
          "base_uri": "https://localhost:8080/",
          "height": 195
        },
        "outputId": "129eb4d6-d369-445a-9b48-7c773939bfa2"
      },
      "source": [
        "valid_df.head()"
      ],
      "execution_count": 16,
      "outputs": [
        {
          "output_type": "execute_result",
          "data": {
            "text/html": [
              "<div>\n",
              "<style scoped>\n",
              "    .dataframe tbody tr th:only-of-type {\n",
              "        vertical-align: middle;\n",
              "    }\n",
              "\n",
              "    .dataframe tbody tr th {\n",
              "        vertical-align: top;\n",
              "    }\n",
              "\n",
              "    .dataframe thead th {\n",
              "        text-align: right;\n",
              "    }\n",
              "</style>\n",
              "<table border=\"1\" class=\"dataframe\">\n",
              "  <thead>\n",
              "    <tr style=\"text-align: right;\">\n",
              "      <th></th>\n",
              "      <th>text</th>\n",
              "      <th>label</th>\n",
              "    </tr>\n",
              "  </thead>\n",
              "  <tbody>\n",
              "    <tr>\n",
              "      <th>18</th>\n",
              "      <td>Company headquarters on Infinite Loop in Cuper...</td>\n",
              "      <td>computer-company</td>\n",
              "    </tr>\n",
              "    <tr>\n",
              "      <th>35</th>\n",
              "      <td>Leaves with significant insect damage Main art...</td>\n",
              "      <td>fruit</td>\n",
              "    </tr>\n",
              "    <tr>\n",
              "      <th>20</th>\n",
              "      <td>Portal icon San Francisco Bay Area portal Port...</td>\n",
              "      <td>computer-company</td>\n",
              "    </tr>\n",
              "    <tr>\n",
              "      <th>0</th>\n",
              "      <td>Apple Inc From Wikipedia the free encyclopedia...</td>\n",
              "      <td>computer-company</td>\n",
              "    </tr>\n",
              "    <tr>\n",
              "      <th>22</th>\n",
              "      <td>A typical apple Scientific classification King...</td>\n",
              "      <td>fruit</td>\n",
              "    </tr>\n",
              "  </tbody>\n",
              "</table>\n",
              "</div>"
            ],
            "text/plain": [
              "                                                 text             label\n",
              "18  Company headquarters on Infinite Loop in Cuper...  computer-company\n",
              "35  Leaves with significant insect damage Main art...             fruit\n",
              "20  Portal icon San Francisco Bay Area portal Port...  computer-company\n",
              "0   Apple Inc From Wikipedia the free encyclopedia...  computer-company\n",
              "22  A typical apple Scientific classification King...             fruit"
            ]
          },
          "metadata": {
            "tags": []
          },
          "execution_count": 16
        }
      ]
    },
    {
      "cell_type": "code",
      "metadata": {
        "id": "ayVY3FZXP-M3",
        "colab_type": "code",
        "colab": {}
      },
      "source": [
        "path = os.getcwd()"
      ],
      "execution_count": 0,
      "outputs": []
    },
    {
      "cell_type": "code",
      "metadata": {
        "id": "tDsJXD5YMIYD",
        "colab_type": "code",
        "colab": {}
      },
      "source": [
        "bs = 16\n",
        "# Language model data\n",
        "data_lm = TextLMDataBunch.from_df(path = os.getcwd(),train_df = train_df, valid_df = valid_df, text_cols= 'text', label_cols= 'label')\n",
        "\n",
        "data_lm.save('data_lm.pkl')"
      ],
      "execution_count": 0,
      "outputs": []
    },
    {
      "cell_type": "code",
      "metadata": {
        "id": "EpH77GICQNsh",
        "colab_type": "code",
        "colab": {}
      },
      "source": [
        "data_lm = load_data(path, 'data_lm.pkl', bs=bs)"
      ],
      "execution_count": 0,
      "outputs": []
    },
    {
      "cell_type": "code",
      "metadata": {
        "id": "InBD1HDxRX_z",
        "colab_type": "code",
        "colab": {
          "base_uri": "https://localhost:8080/",
          "height": 363
        },
        "outputId": "a31b6f22-8c83-4c52-ca47-0f0800ed3250"
      },
      "source": [
        "data_lm.show_batch()"
      ],
      "execution_count": 51,
      "outputs": [
        {
          "output_type": "display_data",
          "data": {
            "text/html": [
              "<table border=\"1\" class=\"dataframe\">\n",
              "  <thead>\n",
              "    <tr style=\"text-align: right;\">\n",
              "      <th>idx</th>\n",
              "      <th>text</th>\n",
              "    </tr>\n",
              "  </thead>\n",
              "  <tbody>\n",
              "    <tr>\n",
              "      <td>0</td>\n",
              "      <td>he brought back to xxmaj xxunk xxunk have been the xxunk of xxunk xxunk xxunk xxmaj winter apples xxunk in late autumn and stored just xxunk xxunk have been an important food in xxmaj asia and xxmaj europe for xxunk xxmaj apples were brought to xxmaj north xxmaj america by xxunk in the century and the first apple xxunk on the xxmaj north xxmaj american continent was planted in xxmaj</td>\n",
              "    </tr>\n",
              "    <tr>\n",
              "      <td>1</td>\n",
              "      <td>and xxmaj xxunk a xxmaj storage xxmaj area xxmaj network xxunk system xxmaj for the professional xxunk market there is xxmaj xxunk for professional xxunk xxunk processing xxmaj final xxmaj cut xxmaj pro a video production suite xxmaj logic xxmaj pro a xxunk music xxunk and xxmaj motion an advanced effects xxunk program xxmaj apple also offers online services with icloud which xxunk xxunk storage and syncing for a wide</td>\n",
              "    </tr>\n",
              "    <tr>\n",
              "      <td>2</td>\n",
              "      <td>on average with xxmaj jobs speculating that the xxmaj app xxmaj store could become a xxunk business for xxmaj apple xxmaj three months later it was announced that xxmaj apple had become the xxunk mobile xxunk xxunk in the world due to the popularity of the iphone xxmaj on xxmaj december xxmaj apple announced that after over years of attending xxmaj macworld would be the last year xxmaj apple would</td>\n",
              "    </tr>\n",
              "    <tr>\n",
              "      <td>3</td>\n",
              "      <td>xxunk cancer and xxunk cancer xxmaj apple peels contain xxunk acid which in xxunk studies xxunk xxunk xxunk and brown fat and xxunk white fat xxunk xxunk xxunk and xxunk xxunk disease xxmaj according to the xxmaj united xxmaj states xxmaj xxunk of xxmaj xxunk a xxunk apple xxunk xxunk xxunk and xxunk xxunk with significant dietary fiber and vitamin c content xxmaj apple peels are a source of various</td>\n",
              "    </tr>\n",
              "    <tr>\n",
              "      <td>4</td>\n",
              "      <td>xxunk xxmaj google xxmaj maps that has xxunk some criticism xxmaj it was made available on xxmaj september and became xxmaj apples biggest iphone launch with over million xxunk xxunk back the xxunk date to late xxmaj october xxmaj on xxmaj october xxmaj apple unveiled the ipad xxmaj mini which features a inch screen in xxunk to the ipads inch screen xxmaj apple also released a thirdgeneration inch macbook xxmaj</td>\n",
              "    </tr>\n",
              "  </tbody>\n",
              "</table>"
            ],
            "text/plain": [
              "<IPython.core.display.HTML object>"
            ]
          },
          "metadata": {
            "tags": []
          }
        }
      ]
    },
    {
      "cell_type": "code",
      "metadata": {
        "id": "NblitGsqRaGd",
        "colab_type": "code",
        "colab": {}
      },
      "source": [
        "learn = language_model_learner(data_lm, AWD_LSTM, drop_mult=0.3)"
      ],
      "execution_count": 0,
      "outputs": []
    },
    {
      "cell_type": "code",
      "metadata": {
        "id": "BLTgY77qRj0O",
        "colab_type": "code",
        "colab": {
          "base_uri": "https://localhost:8080/",
          "height": 34
        },
        "outputId": "c33a019f-90cb-4ea4-cc3d-d1c0b4a4d4cb"
      },
      "source": [
        "learn.lr_find()"
      ],
      "execution_count": 53,
      "outputs": [
        {
          "output_type": "display_data",
          "data": {
            "text/html": [
              ""
            ],
            "text/plain": [
              "<IPython.core.display.HTML object>"
            ]
          },
          "metadata": {
            "tags": []
          }
        },
        {
          "output_type": "stream",
          "text": [
            "LR Finder is complete, type {learner_name}.recorder.plot() to see the graph.\n"
          ],
          "name": "stdout"
        }
      ]
    },
    {
      "cell_type": "code",
      "metadata": {
        "id": "fuX1_o5xRvGR",
        "colab_type": "code",
        "colab": {
          "base_uri": "https://localhost:8080/",
          "height": 283
        },
        "outputId": "34be7fd2-3eb0-4a92-cb1b-a2ed3ab8dbd3"
      },
      "source": [
        "learn.recorder.plot(skip_end=15)"
      ],
      "execution_count": 55,
      "outputs": [
        {
          "output_type": "display_data",
          "data": {
            "image/png": "[encoded data removed]",
            "text/plain": [
              "<Figure size 432x288 with 1 Axes>"
            ]
          },
          "metadata": {
            "tags": []
          }
        }
      ]
    },
    {
      "cell_type": "code",
      "metadata": {
        "id": "q1qVOrSLR2fM",
        "colab_type": "code",
        "colab": {
          "base_uri": "https://localhost:8080/",
          "height": 77
        },
        "outputId": "9ebbb9f1-3948-47e2-a4b2-e07d94f6bae4"
      },
      "source": [
        "learn.fit_one_cycle(1, 1e-2, moms=(0.8,0.7))"
      ],
      "execution_count": 56,
      "outputs": [
        {
          "output_type": "display_data",
          "data": {
            "text/html": [
              "<table border=\"1\" class=\"dataframe\">\n",
              "  <thead>\n",
              "    <tr style=\"text-align: left;\">\n",
              "      <th>epoch</th>\n",
              "      <th>train_loss</th>\n",
              "      <th>valid_loss</th>\n",
              "      <th>accuracy</th>\n",
              "      <th>time</th>\n",
              "    </tr>\n",
              "  </thead>\n",
              "  <tbody>\n",
              "    <tr>\n",
              "      <td>0</td>\n",
              "      <td>3.910485</td>\n",
              "      <td>3.280107</td>\n",
              "      <td>0.338929</td>\n",
              "      <td>00:00</td>\n",
              "    </tr>\n",
              "  </tbody>\n",
              "</table>"
            ],
            "text/plain": [
              "<IPython.core.display.HTML object>"
            ]
          },
          "metadata": {
            "tags": []
          }
        }
      ]
    },
    {
      "cell_type": "code",
      "metadata": {
        "id": "ymiBM1yxR-o6",
        "colab_type": "code",
        "colab": {}
      },
      "source": [
        "learn.save('fit_head')"
      ],
      "execution_count": 0,
      "outputs": []
    },
    {
      "cell_type": "code",
      "metadata": {
        "id": "SmtGb5WpR_mQ",
        "colab_type": "code",
        "colab": {}
      },
      "source": [
        "learn.load('fit_head');"
      ],
      "execution_count": 0,
      "outputs": []
    },
    {
      "cell_type": "code",
      "metadata": {
        "id": "noIpuN_LSGlL",
        "colab_type": "code",
        "colab": {}
      },
      "source": [
        "learn.unfreeze()"
      ],
      "execution_count": 0,
      "outputs": []
    },
    {
      "cell_type": "code",
      "metadata": {
        "id": "sBw2uyRfSN3x",
        "colab_type": "code",
        "colab": {
          "base_uri": "https://localhost:8080/",
          "height": 343
        },
        "outputId": "9502e6e1-7204-4c19-ff9f-a9723c6365a2"
      },
      "source": [
        "learn.fit_one_cycle(10, 1e-2, moms=(0.8,0.7))"
      ],
      "execution_count": 60,
      "outputs": [
        {
          "output_type": "display_data",
          "data": {
            "text/html": [
              "<table border=\"1\" class=\"dataframe\">\n",
              "  <thead>\n",
              "    <tr style=\"text-align: left;\">\n",
              "      <th>epoch</th>\n",
              "      <th>train_loss</th>\n",
              "      <th>valid_loss</th>\n",
              "      <th>accuracy</th>\n",
              "      <th>time</th>\n",
              "    </tr>\n",
              "  </thead>\n",
              "  <tbody>\n",
              "    <tr>\n",
              "      <td>0</td>\n",
              "      <td>3.408259</td>\n",
              "      <td>3.114202</td>\n",
              "      <td>0.359107</td>\n",
              "      <td>00:01</td>\n",
              "    </tr>\n",
              "    <tr>\n",
              "      <td>1</td>\n",
              "      <td>3.147793</td>\n",
              "      <td>3.520381</td>\n",
              "      <td>0.277321</td>\n",
              "      <td>00:01</td>\n",
              "    </tr>\n",
              "    <tr>\n",
              "      <td>2</td>\n",
              "      <td>2.811344</td>\n",
              "      <td>3.619725</td>\n",
              "      <td>0.288750</td>\n",
              "      <td>00:01</td>\n",
              "    </tr>\n",
              "    <tr>\n",
              "      <td>3</td>\n",
              "      <td>2.403381</td>\n",
              "      <td>4.075854</td>\n",
              "      <td>0.239107</td>\n",
              "      <td>00:01</td>\n",
              "    </tr>\n",
              "    <tr>\n",
              "      <td>4</td>\n",
              "      <td>1.946468</td>\n",
              "      <td>4.125576</td>\n",
              "      <td>0.279464</td>\n",
              "      <td>00:01</td>\n",
              "    </tr>\n",
              "    <tr>\n",
              "      <td>5</td>\n",
              "      <td>1.534389</td>\n",
              "      <td>4.184749</td>\n",
              "      <td>0.275000</td>\n",
              "      <td>00:01</td>\n",
              "    </tr>\n",
              "    <tr>\n",
              "      <td>6</td>\n",
              "      <td>1.183887</td>\n",
              "      <td>4.145274</td>\n",
              "      <td>0.269107</td>\n",
              "      <td>00:01</td>\n",
              "    </tr>\n",
              "    <tr>\n",
              "      <td>7</td>\n",
              "      <td>0.917964</td>\n",
              "      <td>4.068806</td>\n",
              "      <td>0.275000</td>\n",
              "      <td>00:01</td>\n",
              "    </tr>\n",
              "    <tr>\n",
              "      <td>8</td>\n",
              "      <td>0.722146</td>\n",
              "      <td>4.050701</td>\n",
              "      <td>0.280536</td>\n",
              "      <td>00:01</td>\n",
              "    </tr>\n",
              "    <tr>\n",
              "      <td>9</td>\n",
              "      <td>0.574697</td>\n",
              "      <td>4.057447</td>\n",
              "      <td>0.277500</td>\n",
              "      <td>00:01</td>\n",
              "    </tr>\n",
              "  </tbody>\n",
              "</table>"
            ],
            "text/plain": [
              "<IPython.core.display.HTML object>"
            ]
          },
          "metadata": {
            "tags": []
          }
        }
      ]
    },
    {
      "cell_type": "code",
      "metadata": {
        "id": "QV5_dr0HSRIa",
        "colab_type": "code",
        "colab": {}
      },
      "source": [
        "learn.save('fine_tuned')"
      ],
      "execution_count": 0,
      "outputs": []
    },
    {
      "cell_type": "code",
      "metadata": {
        "id": "owCcd99uSazr",
        "colab_type": "code",
        "colab": {}
      },
      "source": [
        "learn.load('fine_tuned');"
      ],
      "execution_count": 0,
      "outputs": []
    },
    {
      "cell_type": "code",
      "metadata": {
        "id": "nRoj11KGSbum",
        "colab_type": "code",
        "colab": {}
      },
      "source": [
        "TEXT = \"Steve jobs was \"\n",
        "N_WORDS = 40\n",
        "N_SENTENCES = 2"
      ],
      "execution_count": 0,
      "outputs": []
    },
    {
      "cell_type": "code",
      "metadata": {
        "id": "tmFIQN_iSi44",
        "colab_type": "code",
        "colab": {
          "base_uri": "https://localhost:8080/",
          "height": 70
        },
        "outputId": "8cb53637-501e-4e09-e28d-42961c24cb24"
      },
      "source": [
        "print(\"\\n\".join(learn.predict(TEXT, N_WORDS, temperature=0.75) for _ in range(N_SENTENCES)))"
      ],
      "execution_count": 66,
      "outputs": [
        {
          "output_type": "stream",
          "text": [
            "Steve jobs was  a raw Apple He was replaced by Tim Cook and Jobs became Apples chairman Prior to this Apple did not have a chairman and instead had two partners Tim\n",
            "Steve jobs was  found in the early The Apple Lisa On April Apple introduced their Macintosh Newton was the first Apple II the first and first American Red White to\n"
          ],
          "name": "stdout"
        }
      ]
    },
    {
      "cell_type": "code",
      "metadata": {
        "id": "kSIRozqnSmEH",
        "colab_type": "code",
        "colab": {}
      },
      "source": [
        "learn.save_encoder('fine_tuned_enc')"
      ],
      "execution_count": 0,
      "outputs": []
    },
    {
      "cell_type": "code",
      "metadata": {
        "id": "3suj13P6Tuo0",
        "colab_type": "code",
        "colab": {}
      },
      "source": [
        "# Classifier model data\n",
        "data_clas = TextClasDataBunch.from_df(path = os.getcwd(), train_df = train_df, valid_df = valid_df, text_cols= 'text', label_cols= 'label', bs=16)"
      ],
      "execution_count": 0,
      "outputs": []
    },
    {
      "cell_type": "code",
      "metadata": {
        "id": "Cjaz9MZlUSQd",
        "colab_type": "code",
        "colab": {
          "base_uri": "https://localhost:8080/",
          "height": 363
        },
        "outputId": "403c6d1a-f55d-4bbb-aa79-21b772baf7eb"
      },
      "source": [
        "data_clas.save('data_clas.pkl')\n",
        "data_clas = load_data(path, 'data_clas.pkl', bs=bs)\n",
        "data_clas.show_batch()"
      ],
      "execution_count": 86,
      "outputs": [
        {
          "output_type": "display_data",
          "data": {
            "text/html": [
              "<table border=\"1\" class=\"dataframe\">\n",
              "  <thead>\n",
              "    <tr style=\"text-align: right;\">\n",
              "      <th>text</th>\n",
              "      <th>target</th>\n",
              "    </tr>\n",
              "  </thead>\n",
              "  <tbody>\n",
              "    <tr>\n",
              "      <td>xxbos xxmaj apple store in xxmaj xxunk xxmaj new xxmaj york xxmaj on xxmaj january xxmaj jobs announced in an internal xxmaj apple memo that he would take another xxunk leave of absence for an xxunk period to allow him to focus on his health xxmaj xxunk operating xxunk xxmaj tim xxmaj cook xxunk xxmaj jobs xxunk operations at xxmaj apple although xxmaj jobs would still xxunk xxunk in major</td>\n",
              "      <td>computer-company</td>\n",
              "    </tr>\n",
              "    <tr>\n",
              "      <td>xxbos xxmaj the macbook xxmaj pro xxmaj apples first laptop with an xxmaj intel xxunk announced in xxmaj january xxmaj at the xxmaj worldwide xxmaj developers xxmaj conference keynote xxunk on xxmaj june xxmaj steve xxmaj jobs announced that xxmaj apple would xxunk producing xxmaj xxunk xxmaj mac computers in xxmaj on xxmaj january the new macbook xxmaj pro and imac became the first xxmaj apple computers to use xxmaj</td>\n",
              "      <td>computer-company</td>\n",
              "    </tr>\n",
              "    <tr>\n",
              "      <td>xxbos xxmaj the original iphone and to xxunk xxmaj main article iphone xxmaj at the xxmaj macworld xxmaj conference xxmaj expo in xxmaj january xxmaj steve xxmaj jobs introduced the xxunk iphone a xxunk of an xxmaj xxunk smartphone and ipod xxmaj the original iphone was released on xxmaj june for xxup gb and xxup gb with an xxup att contract xxmaj on xxmaj february it was updated to have</td>\n",
              "      <td>computer-company</td>\n",
              "    </tr>\n",
              "    <tr>\n",
              "      <td>xxbos xxmaj the current generation xxmaj apple xxup tv xxmaj at the xxmaj macworld conference xxmaj jobs xxunk the xxmaj apple xxup tv xxunk known as the xxunk a xxunk video device xxunk to xxunk the sale of content from itunes with xxunk xxunk xxmaj the device links up to a users xxup tv and xxunk either via wifi or a xxunk network with one computers itunes library and xxunk</td>\n",
              "      <td>computer-company</td>\n",
              "    </tr>\n",
              "    <tr>\n",
              "      <td>xxbos xxmaj logo xxmaj see also xxunk and xxmaj xxunk of xxmaj apple xxmaj inc xxmaj apple logo redirects here xxmaj for the programming language see xxmaj apple xxmaj logo xxmaj according to xxmaj steve xxmaj jobs xxmaj apple was so named because xxmaj jobs was xxunk back from an apple xxunk and he was on a xxunk diet xxmaj he thought the name was xxunk xxunk and not xxunk</td>\n",
              "      <td>computer-company</td>\n",
              "    </tr>\n",
              "  </tbody>\n",
              "</table>"
            ],
            "text/plain": [
              "<IPython.core.display.HTML object>"
            ]
          },
          "metadata": {
            "tags": []
          }
        }
      ]
    },
    {
      "cell_type": "code",
      "metadata": {
        "id": "clYmJ683UaWS",
        "colab_type": "code",
        "colab": {}
      },
      "source": [
        "learn = text_classifier_learner(data_clas, AWD_LSTM, drop_mult=0.5)\n",
        "learn.load_encoder('fine_tuned_enc')"
      ],
      "execution_count": 0,
      "outputs": []
    },
    {
      "cell_type": "code",
      "metadata": {
        "id": "zDeyYpyPUlUd",
        "colab_type": "code",
        "colab": {
          "base_uri": "https://localhost:8080/",
          "height": 34
        },
        "outputId": "4dda7b49-feff-453c-951b-5b8337605e07"
      },
      "source": [
        "learn.lr_find()"
      ],
      "execution_count": 88,
      "outputs": [
        {
          "output_type": "display_data",
          "data": {
            "text/html": [
              ""
            ],
            "text/plain": [
              "<IPython.core.display.HTML object>"
            ]
          },
          "metadata": {
            "tags": []
          }
        },
        {
          "output_type": "stream",
          "text": [
            "LR Finder is complete, type {learner_name}.recorder.plot() to see the graph.\n"
          ],
          "name": "stdout"
        }
      ]
    },
    {
      "cell_type": "code",
      "metadata": {
        "id": "0lwV88t0UofW",
        "colab_type": "code",
        "colab": {
          "base_uri": "https://localhost:8080/",
          "height": 283
        },
        "outputId": "606fd02f-d389-4291-ec72-ecd2325aeb16"
      },
      "source": [
        "learn.recorder.plot()"
      ],
      "execution_count": 89,
      "outputs": [
        {
          "output_type": "display_data",
          "data": {
            "image/png": "[encoded data removed]",
            "text/plain": [
              "<Figure size 432x288 with 1 Axes>"
            ]
          },
          "metadata": {
            "tags": []
          }
        }
      ]
    },
    {
      "cell_type": "code",
      "metadata": {
        "id": "EYj6y280U1Mn",
        "colab_type": "code",
        "colab": {
          "base_uri": "https://localhost:8080/",
          "height": 77
        },
        "outputId": "2572175c-e2e0-48c8-9da2-3e62e9d8cf53"
      },
      "source": [
        "learn.fit_one_cycle(1, 1e-2, moms=(0.8,0.7))"
      ],
      "execution_count": 90,
      "outputs": [
        {
          "output_type": "display_data",
          "data": {
            "text/html": [
              "<table border=\"1\" class=\"dataframe\">\n",
              "  <thead>\n",
              "    <tr style=\"text-align: left;\">\n",
              "      <th>epoch</th>\n",
              "      <th>train_loss</th>\n",
              "      <th>valid_loss</th>\n",
              "      <th>accuracy</th>\n",
              "      <th>time</th>\n",
              "    </tr>\n",
              "  </thead>\n",
              "  <tbody>\n",
              "    <tr>\n",
              "      <td>0</td>\n",
              "      <td>0.699461</td>\n",
              "      <td>0.728841</td>\n",
              "      <td>0.444444</td>\n",
              "      <td>00:02</td>\n",
              "    </tr>\n",
              "  </tbody>\n",
              "</table>"
            ],
            "text/plain": [
              "<IPython.core.display.HTML object>"
            ]
          },
          "metadata": {
            "tags": []
          }
        }
      ]
    },
    {
      "cell_type": "code",
      "metadata": {
        "id": "kbQ3iVjtU6v9",
        "colab_type": "code",
        "colab": {}
      },
      "source": [
        "learn.save('first')\n"
      ],
      "execution_count": 0,
      "outputs": []
    },
    {
      "cell_type": "code",
      "metadata": {
        "id": "D47aXhM9Wv7b",
        "colab_type": "code",
        "colab": {}
      },
      "source": [
        "learn.load('first');"
      ],
      "execution_count": 0,
      "outputs": []
    },
    {
      "cell_type": "code",
      "metadata": {
        "id": "o1C7t2mYVBly",
        "colab_type": "code",
        "colab": {
          "base_uri": "https://localhost:8080/",
          "height": 77
        },
        "outputId": "ceaaed14-b9bc-4565-b622-b52a4db5c91c"
      },
      "source": [
        "learn.freeze_to(-2)\n",
        "learn.fit_one_cycle(1, slice(1e-3/(2.6**4),1e-3), moms=(0.8,0.7))"
      ],
      "execution_count": 93,
      "outputs": [
        {
          "output_type": "display_data",
          "data": {
            "text/html": [
              "<table border=\"1\" class=\"dataframe\">\n",
              "  <thead>\n",
              "    <tr style=\"text-align: left;\">\n",
              "      <th>epoch</th>\n",
              "      <th>train_loss</th>\n",
              "      <th>valid_loss</th>\n",
              "      <th>accuracy</th>\n",
              "      <th>time</th>\n",
              "    </tr>\n",
              "  </thead>\n",
              "  <tbody>\n",
              "    <tr>\n",
              "      <td>0</td>\n",
              "      <td>0.261144</td>\n",
              "      <td>0.688750</td>\n",
              "      <td>0.555556</td>\n",
              "      <td>00:02</td>\n",
              "    </tr>\n",
              "  </tbody>\n",
              "</table>"
            ],
            "text/plain": [
              "<IPython.core.display.HTML object>"
            ]
          },
          "metadata": {
            "tags": []
          }
        }
      ]
    },
    {
      "cell_type": "code",
      "metadata": {
        "id": "ysQQp2IJVN4y",
        "colab_type": "code",
        "colab": {}
      },
      "source": [
        "learn.save('second')\n"
      ],
      "execution_count": 0,
      "outputs": []
    },
    {
      "cell_type": "code",
      "metadata": {
        "id": "kDZgOOlYW5Yc",
        "colab_type": "code",
        "colab": {}
      },
      "source": [
        "learn.load('second');"
      ],
      "execution_count": 0,
      "outputs": []
    },
    {
      "cell_type": "code",
      "metadata": {
        "id": "JSmI1gqRVYiq",
        "colab_type": "code",
        "colab": {
          "base_uri": "https://localhost:8080/",
          "height": 77
        },
        "outputId": "65c04d36-db86-4110-f1f1-674a88c086ee"
      },
      "source": [
        "learn.freeze_to(-3)\n",
        "learn.fit_one_cycle(1, slice(1e-2/(2.6**4),1e-2), moms=(0.8,0.7))"
      ],
      "execution_count": 100,
      "outputs": [
        {
          "output_type": "display_data",
          "data": {
            "text/html": [
              "<table border=\"1\" class=\"dataframe\">\n",
              "  <thead>\n",
              "    <tr style=\"text-align: left;\">\n",
              "      <th>epoch</th>\n",
              "      <th>train_loss</th>\n",
              "      <th>valid_loss</th>\n",
              "      <th>accuracy</th>\n",
              "      <th>time</th>\n",
              "    </tr>\n",
              "  </thead>\n",
              "  <tbody>\n",
              "    <tr>\n",
              "      <td>0</td>\n",
              "      <td>0.241552</td>\n",
              "      <td>0.571218</td>\n",
              "      <td>0.888889</td>\n",
              "      <td>00:02</td>\n",
              "    </tr>\n",
              "  </tbody>\n",
              "</table>"
            ],
            "text/plain": [
              "<IPython.core.display.HTML object>"
            ]
          },
          "metadata": {
            "tags": []
          }
        }
      ]
    },
    {
      "cell_type": "code",
      "metadata": {
        "id": "wLRYri5tVtQa",
        "colab_type": "code",
        "colab": {}
      },
      "source": [
        "learn.save('third')\n"
      ],
      "execution_count": 0,
      "outputs": []
    },
    {
      "cell_type": "code",
      "metadata": {
        "id": "wyZWBIa7WYW3",
        "colab_type": "code",
        "colab": {}
      },
      "source": [
        "learn.load('third');"
      ],
      "execution_count": 0,
      "outputs": []
    },
    {
      "cell_type": "code",
      "metadata": {
        "id": "0n7pRuKmVxUr",
        "colab_type": "code",
        "colab": {
          "base_uri": "https://localhost:8080/",
          "height": 136
        },
        "outputId": "006477c9-4d3d-4f77-a6e5-acdd3e1342cc"
      },
      "source": [
        "learn.unfreeze()\n",
        "learn.fit_one_cycle(3, slice(1e-2/(2.6**4),1e-2), moms=(0.8,0.7))"
      ],
      "execution_count": 111,
      "outputs": [
        {
          "output_type": "display_data",
          "data": {
            "text/html": [
              "<table border=\"1\" class=\"dataframe\">\n",
              "  <thead>\n",
              "    <tr style=\"text-align: left;\">\n",
              "      <th>epoch</th>\n",
              "      <th>train_loss</th>\n",
              "      <th>valid_loss</th>\n",
              "      <th>accuracy</th>\n",
              "      <th>time</th>\n",
              "    </tr>\n",
              "  </thead>\n",
              "  <tbody>\n",
              "    <tr>\n",
              "      <td>0</td>\n",
              "      <td>0.144413</td>\n",
              "      <td>0.484181</td>\n",
              "      <td>0.888889</td>\n",
              "      <td>00:03</td>\n",
              "    </tr>\n",
              "    <tr>\n",
              "      <td>1</td>\n",
              "      <td>0.118034</td>\n",
              "      <td>0.282354</td>\n",
              "      <td>1.000000</td>\n",
              "      <td>00:03</td>\n",
              "    </tr>\n",
              "    <tr>\n",
              "      <td>2</td>\n",
              "      <td>0.107671</td>\n",
              "      <td>0.255114</td>\n",
              "      <td>1.000000</td>\n",
              "      <td>00:03</td>\n",
              "    </tr>\n",
              "  </tbody>\n",
              "</table>"
            ],
            "text/plain": [
              "<IPython.core.display.HTML object>"
            ]
          },
          "metadata": {
            "tags": []
          }
        }
      ]
    },
    {
      "cell_type": "code",
      "metadata": {
        "id": "zq6fCjKcWNsO",
        "colab_type": "code",
        "colab": {}
      },
      "source": [
        "learn.save('fine_tuned_classifier')"
      ],
      "execution_count": 0,
      "outputs": []
    },
    {
      "cell_type": "code",
      "metadata": {
        "id": "lMzBqXA7X4dt",
        "colab_type": "code",
        "colab": {
          "base_uri": "https://localhost:8080/",
          "height": 34
        },
        "outputId": "6fd59b74-2ae7-422c-81d8-db7f2e6b221c"
      },
      "source": [
        "learn.predict(\"When Steve Jobs stepped down as Apple's CEO in August 2011, people said it was the end of an era. The departure of Apple design chief Jony Ive, announced Thursday, is the latest sign of the new Apple. \\\n",
        "For the past couple of decades, Apple has gone through one of the most dramatic resurgences in history. Its tale of dramatic rise under co-founder Jobs, its decline and near death after his ouster, and then its rebirth are the stuff of Silicon Valley legend\")"
      ],
      "execution_count": 113,
      "outputs": [
        {
          "output_type": "execute_result",
          "data": {
            "text/plain": [
              "(Category computer-company, tensor(0), tensor([0.7637, 0.2363]))"
            ]
          },
          "metadata": {
            "tags": []
          },
          "execution_count": 113
        }
      ]
    },
    {
      "cell_type": "code",
      "metadata": {
        "id": "oBjPKwVHYV60",
        "colab_type": "code",
        "colab": {
          "base_uri": "https://localhost:8080/",
          "height": 34
        },
        "outputId": "dcdac1ba-6174-4dff-9cd7-94eed725401d"
      },
      "source": [
        "learn.predict('ve and Jobs were close friends, bonding over frequent lunches and a similar sensibility for design. \"We on the first meeting, in a quite shocking way, really did click,\" Ive said in a rare interview in 2017. \"We just established an immediate understanding.\"')"
      ],
      "execution_count": 114,
      "outputs": [
        {
          "output_type": "execute_result",
          "data": {
            "text/plain": [
              "(Category fruit, tensor(1), tensor([0.4786, 0.5214]))"
            ]
          },
          "metadata": {
            "tags": []
          },
          "execution_count": 114
        }
      ]
    },
    {
      "cell_type": "code",
      "metadata": {
        "id": "-QVJuTDXYh7L",
        "colab_type": "code",
        "colab": {
          "base_uri": "https://localhost:8080/",
          "height": 34
        },
        "outputId": "3e201909-4f65-46b4-bb6d-6f8342590664"
      },
      "source": [
        "learn.predict('The departure of Ive, whose soft, British voice introduced Apple hardware in countless sizzle reels, is the latest sign of major shifts within Apple. The company grew to become one of the worlds most profitable and highly valued companies, worth nearly $1 trillion, on the back of the iPhone.')"
      ],
      "execution_count": 116,
      "outputs": [
        {
          "output_type": "execute_result",
          "data": {
            "text/plain": [
              "(Category computer-company, tensor(0), tensor([0.6626, 0.3374]))"
            ]
          },
          "metadata": {
            "tags": []
          },
          "execution_count": 116
        }
      ]
    },
    {
      "cell_type": "code",
      "metadata": {
        "id": "J1xUps9rYqKj",
        "colab_type": "code",
        "colab": {}
      },
      "source": [
        ""
      ],
      "execution_count": 0,
      "outputs": []
    }
  ]
}