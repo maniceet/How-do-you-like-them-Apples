{
  "nbformat": 4,
  "nbformat_minor": 0,
  "metadata": {
    "colab": {
      "name": "How do you like them Apples (Testing).ipynb",
      "version": "0.3.2",
      "provenance": [],
      "include_colab_link": true
    },
    "kernelspec": {
      "name": "python3",
      "display_name": "Python 3"
    },
    "accelerator": "GPU"
  },
  "cells": [
    {
      "cell_type": "markdown",
      "metadata": {
        "id": "view-in-github",
        "colab_type": "text"
      },
      "source": [
        "<a href=\"https://colab.research.google.com/github/maniceet/How-do-you-like-them-Apples/blob/master/How_do_you_like_them_Apples_(Testing).ipynb\" target=\"_parent\"><img src=\"https://colab.research.google.com/assets/colab-badge.svg\" alt=\"Open In Colab\"/></a>"
      ]
    },
    {
      "cell_type": "code",
      "metadata": {
        "id": "63rG7E82Vxp-",
        "colab_type": "code",
        "colab": {}
      },
      "source": [
        "#Importing Packages\n",
        "import pandas as pd\n",
        "import numpy as np\n",
        "import os\n",
        "from matplotlib import pyplot as plt\n",
        "import re, string, unicodedata\n",
        "from bs4 import BeautifulSoup\n",
        "from sklearn.pipeline import Pipeline\n",
        "from functools import reduce\n",
        "from fastai.text import *\n",
        "%matplotlib inline\n",
        "\n",
        "pd.set_option('display.max_rows', 500)\n",
        "pd.set_option('display.max_columns', 500)\n",
        "pd.set_option('display.width', 1000)"
      ],
      "execution_count": 0,
      "outputs": []
    },
    {
      "cell_type": "code",
      "metadata": {
        "id": "HOd1z2UHV7Sz",
        "colab_type": "code",
        "colab": {}
      },
      "source": [
        "#Defining class to read txt file by paragraphs rather than by line\n",
        "class ByParagraph:\n",
        "\n",
        "\n",
        "    def __init__(self, text):\n",
        "        self.text = text\n",
        "\n",
        "\n",
        "    def __iter__(self):\n",
        "        return self\n",
        "        par = \"\"\n",
        "\n",
        "\n",
        "    def __next__(self):\n",
        "        par = []\n",
        "        for line in self.text:\n",
        "            if line.isspace():\n",
        "                break\n",
        "            par.append(line.strip())\n",
        "        else:\n",
        "            if not par:\n",
        "                raise StopIteration()\n",
        "        return ' '.join(par)"
      ],
      "execution_count": 0,
      "outputs": []
    },
    {
      "cell_type": "code",
      "metadata": {
        "id": "3aToEWzsWCWm",
        "colab_type": "code",
        "colab": {}
      },
      "source": [
        "#Cleaning Training Data\n",
        "\n",
        "#Remove HTML Tags\n",
        "def strip_html_tags(text):\n",
        "    soup = BeautifulSoup(text, \"html.parser\")\n",
        "    stripped_text = soup.get_text()\n",
        "    return stripped_text\n",
        "r_html = lambda x: strip_html_tags(x)\n",
        "\n",
        "#Remove accented characters\n",
        "\n",
        "def remove_accented_chars(text):\n",
        "    text = unicodedata.normalize('NFKD', text).encode('ascii', 'ignore').decode('utf-8', 'ignore')\n",
        "    return text\n",
        "\n",
        "r_accented = lambda x: remove_accented_chars(x)\n",
        "\n",
        "#Expand Contractions\n",
        "\n",
        "from contraction import expand_contractions\n",
        "expand = lambda x: expand_contractions(x)\n",
        "\n",
        "\n",
        "#Remove special characters\n",
        "\n",
        "def remove_special_characters(text, remove_digits=False):\n",
        "    #text = text.lower()\n",
        "    text = re.sub('\\w*\\d\\w*', '', text) #Removing words that have numbers in them\n",
        "    pattern = r'[^a-zA-z0-9.\\s]' if not remove_digits else r'[^a-zA-z\\s]'\n",
        "    text = re.sub(pattern, '', text)\n",
        "    pattern = r'[''\"\"_]' #Removing punctuations and underscores\n",
        "    text = re.sub(pattern, '', text)\n",
        "    text = re.sub(r'(.)\\1+', r'\\1\\1', text)   #Removing characters that appear more than twice\n",
        "    text = re.sub(r'\\[', \"\",text)\n",
        "    text = re.sub(r'\\]', \"\",text)\n",
        "    text = text.replace('\\t', ' ')\n",
        "    return text"
      ],
      "execution_count": 0,
      "outputs": []
    },
    {
      "cell_type": "code",
      "metadata": {
        "id": "j6bhBsU4WCxA",
        "colab_type": "code",
        "colab": {}
      },
      "source": [
        "#Loading Trained Model\n",
        "learn = load_learner(os.getcwd(), 'trained_model.pkl')"
      ],
      "execution_count": 0,
      "outputs": []
    },
    {
      "cell_type": "code",
      "metadata": {
        "id": "WSrrcjDTWVBb",
        "colab_type": "code",
        "colab": {
          "base_uri": "https://localhost:8080/",
          "height": 34
        },
        "outputId": "a5ed0098-558c-4a78-fb9f-e9acdf011ff9"
      },
      "source": [
        "path = input(\"Enter path of test file\")"
      ],
      "execution_count": 5,
      "outputs": [
        {
          "output_type": "stream",
          "text": [
            "Enter path of test fileapple-fruit.txt\n"
          ],
          "name": "stdout"
        }
      ]
    },
    {
      "cell_type": "code",
      "metadata": {
        "id": "csPg00edWFw_",
        "colab_type": "code",
        "colab": {}
      },
      "source": [
        "# Adding all paragraphs to a list for testing\n",
        "test_txt = []\n",
        "with open(path,\"r\", encoding=\"utf8\") as f:\n",
        "  for par in ByParagraph(f):\n",
        "        if par == \"\":\n",
        "            continue\n",
        "        else:\n",
        "            test_txt.append(par)\n",
        "\n",
        "test_df = pd.DataFrame(test_txt, columns = ['text'])"
      ],
      "execution_count": 0,
      "outputs": []
    },
    {
      "cell_type": "code",
      "metadata": {
        "id": "8RGI53KEWrNy",
        "colab_type": "code",
        "colab": {}
      },
      "source": [
        "functions = [strip_html_tags, remove_accented_chars, expand_contractions, remove_special_characters]\n",
        "\n",
        "for fun in functions:\n",
        "    test_df['text'] = test_df['text'].apply(fun)"
      ],
      "execution_count": 0,
      "outputs": []
    },
    {
      "cell_type": "code",
      "metadata": {
        "id": "S4GxV4_9Wiiy",
        "colab_type": "code",
        "colab": {}
      },
      "source": [
        "preds  = []\n",
        "for text in test_df['text']:\n",
        "   preds.append(learn.predict(text)[0])\n",
        "\n",
        "preds = [str(i) for i in preds]"
      ],
      "execution_count": 0,
      "outputs": []
    },
    {
      "cell_type": "code",
      "metadata": {
        "id": "voKPCKLwW-3s",
        "colab_type": "code",
        "colab": {}
      },
      "source": [
        "y_true = ['fruit'] * test_df.shape[0]"
      ],
      "execution_count": 0,
      "outputs": []
    },
    {
      "cell_type": "code",
      "metadata": {
        "id": "tNUQ310aXNXJ",
        "colab_type": "code",
        "colab": {
          "base_uri": "https://localhost:8080/",
          "height": 34
        },
        "outputId": "4f8f9aa8-9024-4611-d4fe-cbe3fa99ab42"
      },
      "source": [
        "from sklearn.metrics import accuracy_score\n",
        "\n",
        "accuracy_score(y_true, preds)"
      ],
      "execution_count": 20,
      "outputs": [
        {
          "output_type": "execute_result",
          "data": {
            "text/plain": [
              "0.9024390243902439"
            ]
          },
          "metadata": {
            "tags": []
          },
          "execution_count": 20
        }
      ]
    },
    {
      "cell_type": "code",
      "metadata": {
        "id": "lI5PdUowaUFT",
        "colab_type": "code",
        "colab": {}
      },
      "source": [
        ""
      ],
      "execution_count": 0,
      "outputs": []
    }
  ]
}